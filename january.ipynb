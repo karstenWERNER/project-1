{
 "metadata": {
  "language_info": {
   "codemirror_mode": {
    "name": "ipython",
    "version": 3
   },
   "file_extension": ".py",
   "mimetype": "text/x-python",
   "name": "python",
   "nbconvert_exporter": "python",
   "pygments_lexer": "ipython3",
   "version": "3.8.5-final"
  },
  "orig_nbformat": 2,
  "kernelspec": {
   "name": "python3",
   "display_name": "Python 3",
   "language": "python"
  }
 },
 "nbformat": 4,
 "nbformat_minor": 2,
 "cells": [
  {
   "cell_type": "code",
   "execution_count": 86,
   "metadata": {},
   "outputs": [],
   "source": [
    "import numpy as np\n",
    "import pandas as pd\n",
    "\n",
    "import matplotlib.pyplot as plt\n",
    "import seaborn as sns\n",
    "\n",
    "red_wine = pd.read_csv('https://archive.ics.uci.edu/ml/machine-learning-databases/wine-quality/winequality-red.csv', sep = ';')\n",
    "white_wine = pd.read_csv('https://archive.ics.uci.edu/ml/machine-learning-databases/wine-quality/winequality-white.csv', sep = ';')\n",
    "\n",
    "# create a new variable 'wine_type'\n",
    "red_wine['wine_type'] = 'red'\n",
    "white_wine['wine_type'] = 'white'\n",
    "\n",
    "\n",
    "# bucket wine quality scores into qualitative quality labels\n",
    "red_wine['quality_label'] = red_wine['quality'].apply(lambda value: 'low'\n",
    "if value <= 5 else 'medium'\n",
    "if value <= 7 else 'high')\n",
    "\n",
    "red_wine['quality_label'] = pd.Categorical(red_wine['quality_label'],\n",
    "categories=['low', 'medium', 'high'])\n",
    "\n",
    "white_wine['quality_label'] = white_wine['quality'].apply(lambda value: 'low'\n",
    "if value <= 5 else 'medium'\n",
    "if value <= 7 else 'high')\n",
    "\n",
    "white_wine['quality_label'] = pd.Categorical(white_wine['quality_label'],\n",
    "categories=['low', 'medium', 'high'])\n",
    "\n",
    "wines = pd.concat([red_wine, white_wine])"
   ]
  },
  {
   "cell_type": "code",
   "execution_count": 87,
   "metadata": {},
   "outputs": [
    {
     "output_type": "execute_result",
     "data": {
      "text/plain": [
       "(6497, 14)"
      ]
     },
     "metadata": {},
     "execution_count": 87
    }
   ],
   "source": [
    "wines.shape"
   ]
  },
  {
   "cell_type": "code",
   "execution_count": 88,
   "metadata": {},
   "outputs": [
    {
     "output_type": "execute_result",
     "data": {
      "text/plain": [
       "fixed acidity           0\n",
       "volatile acidity        0\n",
       "citric acid             0\n",
       "residual sugar          0\n",
       "chlorides               0\n",
       "free sulfur dioxide     0\n",
       "total sulfur dioxide    0\n",
       "density                 0\n",
       "pH                      0\n",
       "sulphates               0\n",
       "alcohol                 0\n",
       "quality                 0\n",
       "wine_type               0\n",
       "quality_label           0\n",
       "dtype: int64"
      ]
     },
     "metadata": {},
     "execution_count": 88
    }
   ],
   "source": [
    "wines.isnull().sum()\n"
   ]
  },
  {
   "cell_type": "code",
   "execution_count": 89,
   "metadata": {},
   "outputs": [
    {
     "output_type": "execute_result",
     "data": {
      "text/plain": [
       "'c:\\\\Users\\\\Karsten Werner\\\\Documents\\\\Python\\\\git\\\\antelope'"
      ]
     },
     "metadata": {},
     "execution_count": 89
    }
   ],
   "source": [
    "pwd"
   ]
  },
  {
   "cell_type": "code",
   "execution_count": 90,
   "metadata": {},
   "outputs": [],
   "source": [
    "wine_sales = pd.read_csv('wine_sales_data.csv')"
   ]
  },
  {
   "cell_type": "code",
   "execution_count": 91,
   "metadata": {},
   "outputs": [
    {
     "output_type": "execute_result",
     "data": {
      "text/plain": [
       "Unnamed: 0         0\n",
       "country            5\n",
       "description        0\n",
       "designation    45735\n",
       "points             0\n",
       "price          13695\n",
       "province           5\n",
       "region_1       25060\n",
       "region_2       89977\n",
       "variety            0\n",
       "winery             0\n",
       "dtype: int64"
      ]
     },
     "metadata": {},
     "execution_count": 91
    }
   ],
   "source": [
    "wine_sales.isnull().sum()"
   ]
  },
  {
   "cell_type": "code",
   "execution_count": 92,
   "metadata": {},
   "outputs": [],
   "source": [
    "winw_sales_red = wine_sales[['country','province','points','price']]"
   ]
  },
  {
   "cell_type": "code",
   "execution_count": 93,
   "metadata": {},
   "outputs": [
    {
     "output_type": "execute_result",
     "data": {
      "text/plain": [
       "country         5\n",
       "province        5\n",
       "points          0\n",
       "price       13695\n",
       "dtype: int64"
      ]
     },
     "metadata": {},
     "execution_count": 93
    }
   ],
   "source": [
    "winw_sales_red.isnull().sum()"
   ]
  },
  {
   "cell_type": "code",
   "execution_count": 94,
   "metadata": {},
   "outputs": [
    {
     "output_type": "execute_result",
     "data": {
      "text/plain": [
       "(150930, 4)"
      ]
     },
     "metadata": {},
     "execution_count": 94
    }
   ],
   "source": [
    "winw_sales_red.shape\n"
   ]
  },
  {
   "cell_type": "code",
   "execution_count": 95,
   "metadata": {},
   "outputs": [
    {
     "output_type": "execute_result",
     "data": {
      "text/plain": [
       "<bound method NDFrame.head of        country            province  points  price\n",
       "0           US          California      96  235.0\n",
       "1        Spain      Northern Spain      96  110.0\n",
       "2           US          California      96   90.0\n",
       "3           US              Oregon      96   65.0\n",
       "4       France            Provence      95   66.0\n",
       "...        ...                 ...     ...    ...\n",
       "150925   Italy      Southern Italy      91   20.0\n",
       "150926  France           Champagne      91   27.0\n",
       "150927   Italy      Southern Italy      91   20.0\n",
       "150928  France           Champagne      90   52.0\n",
       "150929   Italy  Northeastern Italy      90   15.0\n",
       "\n",
       "[150930 rows x 4 columns]>"
      ]
     },
     "metadata": {},
     "execution_count": 95
    }
   ],
   "source": [
    "winw_sales_red.head"
   ]
  },
  {
   "cell_type": "code",
   "execution_count": 96,
   "metadata": {},
   "outputs": [],
   "source": [
    "port_vv = winw_sales_red[(winw_sales_red['country'] == 'Portugal') & (winw_sales_red['province'] == 'Vinho Verde')]"
   ]
  },
  {
   "cell_type": "code",
   "execution_count": 97,
   "metadata": {},
   "outputs": [
    {
     "output_type": "execute_result",
     "data": {
      "text/plain": [
       "(396, 4)"
      ]
     },
     "metadata": {},
     "execution_count": 97
    }
   ],
   "source": [
    "port_vv.shape"
   ]
  },
  {
   "cell_type": "code",
   "execution_count": 98,
   "metadata": {},
   "outputs": [
    {
     "output_type": "execute_result",
     "data": {
      "text/plain": [
       "country      0\n",
       "province     0\n",
       "points       0\n",
       "price       86\n",
       "dtype: int64"
      ]
     },
     "metadata": {},
     "execution_count": 98
    }
   ],
   "source": [
    "port_vv.isnull().sum()"
   ]
  },
  {
   "cell_type": "code",
   "execution_count": 99,
   "metadata": {},
   "outputs": [
    {
     "output_type": "execute_result",
     "data": {
      "text/plain": [
       "         country     province  points  price\n",
       "277     Portugal  Vinho Verde      92   35.0\n",
       "993     Portugal  Vinho Verde      85   10.0\n",
       "994     Portugal  Vinho Verde      85    9.0\n",
       "1378    Portugal  Vinho Verde      91    NaN\n",
       "1558    Portugal  Vinho Verde      84   10.0\n",
       "...          ...          ...     ...    ...\n",
       "141129  Portugal  Vinho Verde      83    9.0\n",
       "141143  Portugal  Vinho Verde      82    8.0\n",
       "141148  Portugal  Vinho Verde      82    6.0\n",
       "143472  Portugal  Vinho Verde      86    9.0\n",
       "143575  Portugal  Vinho Verde      87   15.0\n",
       "\n",
       "[396 rows x 4 columns]"
      ],
      "text/html": "<div>\n<style scoped>\n    .dataframe tbody tr th:only-of-type {\n        vertical-align: middle;\n    }\n\n    .dataframe tbody tr th {\n        vertical-align: top;\n    }\n\n    .dataframe thead th {\n        text-align: right;\n    }\n</style>\n<table border=\"1\" class=\"dataframe\">\n  <thead>\n    <tr style=\"text-align: right;\">\n      <th></th>\n      <th>country</th>\n      <th>province</th>\n      <th>points</th>\n      <th>price</th>\n    </tr>\n  </thead>\n  <tbody>\n    <tr>\n      <th>277</th>\n      <td>Portugal</td>\n      <td>Vinho Verde</td>\n      <td>92</td>\n      <td>35.0</td>\n    </tr>\n    <tr>\n      <th>993</th>\n      <td>Portugal</td>\n      <td>Vinho Verde</td>\n      <td>85</td>\n      <td>10.0</td>\n    </tr>\n    <tr>\n      <th>994</th>\n      <td>Portugal</td>\n      <td>Vinho Verde</td>\n      <td>85</td>\n      <td>9.0</td>\n    </tr>\n    <tr>\n      <th>1378</th>\n      <td>Portugal</td>\n      <td>Vinho Verde</td>\n      <td>91</td>\n      <td>NaN</td>\n    </tr>\n    <tr>\n      <th>1558</th>\n      <td>Portugal</td>\n      <td>Vinho Verde</td>\n      <td>84</td>\n      <td>10.0</td>\n    </tr>\n    <tr>\n      <th>...</th>\n      <td>...</td>\n      <td>...</td>\n      <td>...</td>\n      <td>...</td>\n    </tr>\n    <tr>\n      <th>141129</th>\n      <td>Portugal</td>\n      <td>Vinho Verde</td>\n      <td>83</td>\n      <td>9.0</td>\n    </tr>\n    <tr>\n      <th>141143</th>\n      <td>Portugal</td>\n      <td>Vinho Verde</td>\n      <td>82</td>\n      <td>8.0</td>\n    </tr>\n    <tr>\n      <th>141148</th>\n      <td>Portugal</td>\n      <td>Vinho Verde</td>\n      <td>82</td>\n      <td>6.0</td>\n    </tr>\n    <tr>\n      <th>143472</th>\n      <td>Portugal</td>\n      <td>Vinho Verde</td>\n      <td>86</td>\n      <td>9.0</td>\n    </tr>\n    <tr>\n      <th>143575</th>\n      <td>Portugal</td>\n      <td>Vinho Verde</td>\n      <td>87</td>\n      <td>15.0</td>\n    </tr>\n  </tbody>\n</table>\n<p>396 rows × 4 columns</p>\n</div>"
     },
     "metadata": {},
     "execution_count": 99
    }
   ],
   "source": [
    "port_vv"
   ]
  },
  {
   "cell_type": "code",
   "execution_count": 100,
   "metadata": {},
   "outputs": [],
   "source": [
    "port_vv_clean = port_vv.dropna()"
   ]
  },
  {
   "cell_type": "code",
   "execution_count": 52,
   "metadata": {},
   "outputs": [
    {
     "output_type": "execute_result",
     "data": {
      "text/plain": [
       "country     0\n",
       "province    0\n",
       "points      0\n",
       "price       0\n",
       "dtype: int64"
      ]
     },
     "metadata": {},
     "execution_count": 52
    }
   ],
   "source": [
    "port_vv_clean.isnull().sum()"
   ]
  },
  {
   "cell_type": "code",
   "execution_count": 101,
   "metadata": {},
   "outputs": [
    {
     "output_type": "execute_result",
     "data": {
      "text/plain": [
       "5.0"
      ]
     },
     "metadata": {},
     "execution_count": 101
    }
   ],
   "source": [
    "from scipy.stats import iqr\n",
    "\n",
    "iqr(port_vv_clean['price'])"
   ]
  },
  {
   "cell_type": "code",
   "execution_count": 102,
   "metadata": {},
   "outputs": [],
   "source": [
    "port_vv_clean.drop(['country', 'province'], axis = 1, inplace = True)"
   ]
  },
  {
   "cell_type": "code",
   "execution_count": 103,
   "metadata": {},
   "outputs": [
    {
     "output_type": "execute_result",
     "data": {
      "text/plain": [
       "           points       price\n",
       "count  310.000000  310.000000\n",
       "mean    86.351613   11.400000\n",
       "std      2.512541    4.821205\n",
       "min     80.000000    5.000000\n",
       "25%     84.000000    8.000000\n",
       "50%     86.000000   10.000000\n",
       "75%     88.000000   13.000000\n",
       "max     92.000000   45.000000"
      ],
      "text/html": "<div>\n<style scoped>\n    .dataframe tbody tr th:only-of-type {\n        vertical-align: middle;\n    }\n\n    .dataframe tbody tr th {\n        vertical-align: top;\n    }\n\n    .dataframe thead th {\n        text-align: right;\n    }\n</style>\n<table border=\"1\" class=\"dataframe\">\n  <thead>\n    <tr style=\"text-align: right;\">\n      <th></th>\n      <th>points</th>\n      <th>price</th>\n    </tr>\n  </thead>\n  <tbody>\n    <tr>\n      <th>count</th>\n      <td>310.000000</td>\n      <td>310.000000</td>\n    </tr>\n    <tr>\n      <th>mean</th>\n      <td>86.351613</td>\n      <td>11.400000</td>\n    </tr>\n    <tr>\n      <th>std</th>\n      <td>2.512541</td>\n      <td>4.821205</td>\n    </tr>\n    <tr>\n      <th>min</th>\n      <td>80.000000</td>\n      <td>5.000000</td>\n    </tr>\n    <tr>\n      <th>25%</th>\n      <td>84.000000</td>\n      <td>8.000000</td>\n    </tr>\n    <tr>\n      <th>50%</th>\n      <td>86.000000</td>\n      <td>10.000000</td>\n    </tr>\n    <tr>\n      <th>75%</th>\n      <td>88.000000</td>\n      <td>13.000000</td>\n    </tr>\n    <tr>\n      <th>max</th>\n      <td>92.000000</td>\n      <td>45.000000</td>\n    </tr>\n  </tbody>\n</table>\n</div>"
     },
     "metadata": {},
     "execution_count": 103
    }
   ],
   "source": [
    "port_vv_clean.describe()"
   ]
  },
  {
   "cell_type": "code",
   "execution_count": 104,
   "metadata": {},
   "outputs": [],
   "source": [
    "price_irq = port_vv_clean[port_vv_clean['price'].between(port_vv_clean['price'].quantile(0.25), port_vv_clean['price'].quantile(0.75))]"
   ]
  },
  {
   "cell_type": "code",
   "execution_count": 105,
   "metadata": {},
   "outputs": [
    {
     "output_type": "execute_result",
     "data": {
      "text/plain": [
       "           points       price\n",
       "count  198.000000  198.000000\n",
       "mean    85.979798   10.287879\n",
       "std      2.279816    1.719684\n",
       "min     80.000000    8.000000\n",
       "25%     84.000000    9.000000\n",
       "50%     85.500000   10.000000\n",
       "75%     88.000000   12.000000\n",
       "max     91.000000   13.000000"
      ],
      "text/html": "<div>\n<style scoped>\n    .dataframe tbody tr th:only-of-type {\n        vertical-align: middle;\n    }\n\n    .dataframe tbody tr th {\n        vertical-align: top;\n    }\n\n    .dataframe thead th {\n        text-align: right;\n    }\n</style>\n<table border=\"1\" class=\"dataframe\">\n  <thead>\n    <tr style=\"text-align: right;\">\n      <th></th>\n      <th>points</th>\n      <th>price</th>\n    </tr>\n  </thead>\n  <tbody>\n    <tr>\n      <th>count</th>\n      <td>198.000000</td>\n      <td>198.000000</td>\n    </tr>\n    <tr>\n      <th>mean</th>\n      <td>85.979798</td>\n      <td>10.287879</td>\n    </tr>\n    <tr>\n      <th>std</th>\n      <td>2.279816</td>\n      <td>1.719684</td>\n    </tr>\n    <tr>\n      <th>min</th>\n      <td>80.000000</td>\n      <td>8.000000</td>\n    </tr>\n    <tr>\n      <th>25%</th>\n      <td>84.000000</td>\n      <td>9.000000</td>\n    </tr>\n    <tr>\n      <th>50%</th>\n      <td>85.500000</td>\n      <td>10.000000</td>\n    </tr>\n    <tr>\n      <th>75%</th>\n      <td>88.000000</td>\n      <td>12.000000</td>\n    </tr>\n    <tr>\n      <th>max</th>\n      <td>91.000000</td>\n      <td>13.000000</td>\n    </tr>\n  </tbody>\n</table>\n</div>"
     },
     "metadata": {},
     "execution_count": 105
    }
   ],
   "source": [
    "price_irq.describe()"
   ]
  },
  {
   "cell_type": "code",
   "execution_count": null,
   "metadata": {},
   "outputs": [],
   "source": []
  }
 ]
}