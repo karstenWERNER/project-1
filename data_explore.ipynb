{
 "metadata": {
  "language_info": {
   "codemirror_mode": {
    "name": "ipython",
    "version": 3
   },
   "file_extension": ".py",
   "mimetype": "text/x-python",
   "name": "python",
   "nbconvert_exporter": "python",
   "pygments_lexer": "ipython3",
   "version": "3.8.5-final"
  },
  "orig_nbformat": 2,
  "kernelspec": {
   "name": "python3",
   "display_name": "Python 3"
  }
 },
 "nbformat": 4,
 "nbformat_minor": 2,
 "cells": [
  {
   "cell_type": "code",
   "execution_count": 7,
   "metadata": {},
   "outputs": [],
   "source": [
    "import numpy as np \n",
    "import pandas as pd \n",
    "\n",
    "import matplotlib.pyplot as plt"
   ]
  },
  {
   "cell_type": "code",
   "execution_count": 4,
   "metadata": {},
   "outputs": [],
   "source": [
    "df = pd.read_csv('winequality-red.csv', sep = ';')"
   ]
  },
  {
   "cell_type": "code",
   "execution_count": 9,
   "metadata": {},
   "outputs": [
    {
     "output_type": "display_data",
     "data": {
      "text/plain": "<Figure size 432x288 with 1 Axes>",
      "image/svg+xml": "<?xml version=\"1.0\" encoding=\"utf-8\" standalone=\"no\"?>\r\n<!DOCTYPE svg PUBLIC \"-//W3C//DTD SVG 1.1//EN\"\r\n  \"http://www.w3.org/Graphics/SVG/1.1/DTD/svg11.dtd\">\r\n<!-- Created with matplotlib (https://matplotlib.org/) -->\r\n<svg height=\"248.518125pt\" version=\"1.1\" viewBox=\"0 0 375.2875 248.518125\" width=\"375.2875pt\" xmlns=\"http://www.w3.org/2000/svg\" xmlns:xlink=\"http://www.w3.org/1999/xlink\">\r\n <metadata>\r\n  <rdf:RDF xmlns:cc=\"http://creativecommons.org/ns#\" xmlns:dc=\"http://purl.org/dc/elements/1.1/\" xmlns:rdf=\"http://www.w3.org/1999/02/22-rdf-syntax-ns#\">\r\n   <cc:Work>\r\n    <dc:type rdf:resource=\"http://purl.org/dc/dcmitype/StillImage\"/>\r\n    <dc:date>2020-12-02T11:14:09.336024</dc:date>\r\n    <dc:format>image/svg+xml</dc:format>\r\n    <dc:creator>\r\n     <cc:Agent>\r\n      <dc:title>Matplotlib v3.3.2, https://matplotlib.org/</dc:title>\r\n     </cc:Agent>\r\n    </dc:creator>\r\n   </cc:Work>\r\n  </rdf:RDF>\r\n </metadata>\r\n <defs>\r\n  <style type=\"text/css\">*{stroke-linecap:butt;stroke-linejoin:round;}</style>\r\n </defs>\r\n <g id=\"figure_1\">\r\n  <g id=\"patch_1\">\r\n   <path d=\"M 0 248.518125 \r\nL 375.2875 248.518125 \r\nL 375.2875 0 \r\nL 0 0 \r\nz\r\n\" style=\"fill:none;\"/>\r\n  </g>\r\n  <g id=\"axes_1\">\r\n   <g id=\"patch_2\">\r\n    <path d=\"M 33.2875 224.64 \r\nL 368.0875 224.64 \r\nL 368.0875 7.2 \r\nL 33.2875 7.2 \r\nz\r\n\" style=\"fill:#ffffff;\"/>\r\n   </g>\r\n   <g id=\"patch_3\">\r\n    <path clip-path=\"url(#pb40c5ca739)\" d=\"M 48.505682 224.64 \r\nL 54.592955 224.64 \r\nL 54.592955 223.711365 \r\nL 48.505682 223.711365 \r\nz\r\n\" style=\"fill:#1f77b4;\"/>\r\n   </g>\r\n   <g id=\"patch_4\">\r\n    <path clip-path=\"url(#pb40c5ca739)\" d=\"M 54.592955 224.64 \r\nL 60.680227 224.64 \r\nL 60.680227 217.210916 \r\nL 54.592955 217.210916 \r\nz\r\n\" style=\"fill:#1f77b4;\"/>\r\n   </g>\r\n   <g id=\"patch_5\">\r\n    <path clip-path=\"url(#pb40c5ca739)\" d=\"M 60.680227 224.64 \r\nL 66.7675 224.64 \r\nL 66.7675 208.853197 \r\nL 60.680227 208.853197 \r\nz\r\n\" style=\"fill:#1f77b4;\"/>\r\n   </g>\r\n   <g id=\"patch_6\">\r\n    <path clip-path=\"url(#pb40c5ca739)\" d=\"M 66.7675 224.64 \r\nL 72.854773 224.64 \r\nL 72.854773 181.922767 \r\nL 66.7675 181.922767 \r\nz\r\n\" style=\"fill:#1f77b4;\"/>\r\n   </g>\r\n   <g id=\"patch_7\">\r\n    <path clip-path=\"url(#pb40c5ca739)\" d=\"M 72.854773 224.64 \r\nL 78.942045 224.64 \r\nL 78.942045 151.277796 \r\nL 72.854773 151.277796 \r\nz\r\n\" style=\"fill:#1f77b4;\"/>\r\n   </g>\r\n   <g id=\"patch_8\">\r\n    <path clip-path=\"url(#pb40c5ca739)\" d=\"M 78.942045 224.64 \r\nL 85.029318 224.64 \r\nL 85.029318 84.416041 \r\nL 78.942045 84.416041 \r\nz\r\n\" style=\"fill:#1f77b4;\"/>\r\n   </g>\r\n   <g id=\"patch_9\">\r\n    <path clip-path=\"url(#pb40c5ca739)\" d=\"M 85.029318 224.64 \r\nL 91.116591 224.64 \r\nL 91.116591 59.342883 \r\nL 85.029318 59.342883 \r\nz\r\n\" style=\"fill:#1f77b4;\"/>\r\n   </g>\r\n   <g id=\"patch_10\">\r\n    <path clip-path=\"url(#pb40c5ca739)\" d=\"M 91.116591 224.64 \r\nL 97.203864 224.64 \r\nL 97.203864 63.057425 \r\nL 91.116591 63.057425 \r\nz\r\n\" style=\"fill:#1f77b4;\"/>\r\n   </g>\r\n   <g id=\"patch_11\">\r\n    <path clip-path=\"url(#pb40c5ca739)\" d=\"M 97.203864 224.64 \r\nL 103.291136 224.64 \r\nL 103.291136 17.554286 \r\nL 97.203864 17.554286 \r\nz\r\n\" style=\"fill:#1f77b4;\"/>\r\n   </g>\r\n   <g id=\"patch_12\">\r\n    <path clip-path=\"url(#pb40c5ca739)\" d=\"M 103.291136 224.64 \r\nL 109.378409 224.64 \r\nL 109.378409 104.846022 \r\nL 103.291136 104.846022 \r\nz\r\n\" style=\"fill:#1f77b4;\"/>\r\n   </g>\r\n   <g id=\"patch_13\">\r\n    <path clip-path=\"url(#pb40c5ca739)\" d=\"M 109.378409 224.64 \r\nL 115.465682 224.64 \r\nL 115.465682 137.348264 \r\nL 109.378409 137.348264 \r\nz\r\n\" style=\"fill:#1f77b4;\"/>\r\n   </g>\r\n   <g id=\"patch_14\">\r\n    <path clip-path=\"url(#pb40c5ca739)\" d=\"M 115.465682 224.64 \r\nL 121.552955 224.64 \r\nL 121.552955 119.70419 \r\nL 115.465682 119.70419 \r\nz\r\n\" style=\"fill:#1f77b4;\"/>\r\n   </g>\r\n   <g id=\"patch_15\">\r\n    <path clip-path=\"url(#pb40c5ca739)\" d=\"M 121.552955 224.64 \r\nL 127.640227 224.64 \r\nL 127.640227 158.70688 \r\nL 121.552955 158.70688 \r\nz\r\n\" style=\"fill:#1f77b4;\"/>\r\n   </g>\r\n   <g id=\"patch_16\">\r\n    <path clip-path=\"url(#pb40c5ca739)\" d=\"M 127.640227 224.64 \r\nL 133.7275 224.64 \r\nL 133.7275 162.421422 \r\nL 127.640227 162.421422 \r\nz\r\n\" style=\"fill:#1f77b4;\"/>\r\n   </g>\r\n   <g id=\"patch_17\">\r\n    <path clip-path=\"url(#pb40c5ca739)\" d=\"M 133.7275 224.64 \r\nL 139.814773 224.64 \r\nL 139.814773 158.70688 \r\nL 133.7275 158.70688 \r\nz\r\n\" style=\"fill:#1f77b4;\"/>\r\n   </g>\r\n   <g id=\"patch_18\">\r\n    <path clip-path=\"url(#pb40c5ca739)\" d=\"M 139.814773 224.64 \r\nL 145.902045 224.64 \r\nL 145.902045 187.49458 \r\nL 139.814773 187.49458 \r\nz\r\n\" style=\"fill:#1f77b4;\"/>\r\n   </g>\r\n   <g id=\"patch_19\">\r\n    <path clip-path=\"url(#pb40c5ca739)\" d=\"M 145.902045 224.64 \r\nL 151.989318 224.64 \r\nL 151.989318 199.566842 \r\nL 145.902045 199.566842 \r\nz\r\n\" style=\"fill:#1f77b4;\"/>\r\n   </g>\r\n   <g id=\"patch_20\">\r\n    <path clip-path=\"url(#pb40c5ca739)\" d=\"M 151.989318 224.64 \r\nL 158.076591 224.64 \r\nL 158.076591 195.8523 \r\nL 151.989318 195.8523 \r\nz\r\n\" style=\"fill:#1f77b4;\"/>\r\n   </g>\r\n   <g id=\"patch_21\">\r\n    <path clip-path=\"url(#pb40c5ca739)\" d=\"M 158.076591 224.64 \r\nL 164.163864 224.64 \r\nL 164.163864 216.282281 \r\nL 158.076591 216.282281 \r\nz\r\n\" style=\"fill:#1f77b4;\"/>\r\n   </g>\r\n   <g id=\"patch_22\">\r\n    <path clip-path=\"url(#pb40c5ca739)\" d=\"M 164.163864 224.64 \r\nL 170.251136 224.64 \r\nL 170.251136 214.42501 \r\nL 164.163864 214.42501 \r\nz\r\n\" style=\"fill:#1f77b4;\"/>\r\n   </g>\r\n   <g id=\"patch_23\">\r\n    <path clip-path=\"url(#pb40c5ca739)\" d=\"M 170.251136 224.64 \r\nL 176.338409 224.64 \r\nL 176.338409 218.139552 \r\nL 170.251136 218.139552 \r\nz\r\n\" style=\"fill:#1f77b4;\"/>\r\n   </g>\r\n   <g id=\"patch_24\">\r\n    <path clip-path=\"url(#pb40c5ca739)\" d=\"M 176.338409 224.64 \r\nL 182.425682 224.64 \r\nL 182.425682 216.282281 \r\nL 176.338409 216.282281 \r\nz\r\n\" style=\"fill:#1f77b4;\"/>\r\n   </g>\r\n   <g id=\"patch_25\">\r\n    <path clip-path=\"url(#pb40c5ca739)\" d=\"M 182.425682 224.64 \r\nL 188.512955 224.64 \r\nL 188.512955 219.068187 \r\nL 182.425682 219.068187 \r\nz\r\n\" style=\"fill:#1f77b4;\"/>\r\n   </g>\r\n   <g id=\"patch_26\">\r\n    <path clip-path=\"url(#pb40c5ca739)\" d=\"M 188.512955 224.64 \r\nL 194.600227 224.64 \r\nL 194.600227 219.068187 \r\nL 188.512955 219.068187 \r\nz\r\n\" style=\"fill:#1f77b4;\"/>\r\n   </g>\r\n   <g id=\"patch_27\">\r\n    <path clip-path=\"url(#pb40c5ca739)\" d=\"M 194.600227 224.64 \r\nL 200.6875 224.64 \r\nL 200.6875 220.925458 \r\nL 194.600227 220.925458 \r\nz\r\n\" style=\"fill:#1f77b4;\"/>\r\n   </g>\r\n   <g id=\"patch_28\">\r\n    <path clip-path=\"url(#pb40c5ca739)\" d=\"M 200.6875 224.64 \r\nL 206.774773 224.64 \r\nL 206.774773 217.210916 \r\nL 200.6875 217.210916 \r\nz\r\n\" style=\"fill:#1f77b4;\"/>\r\n   </g>\r\n   <g id=\"patch_29\">\r\n    <path clip-path=\"url(#pb40c5ca739)\" d=\"M 206.774773 224.64 \r\nL 212.862045 224.64 \r\nL 212.862045 222.782729 \r\nL 206.774773 222.782729 \r\nz\r\n\" style=\"fill:#1f77b4;\"/>\r\n   </g>\r\n   <g id=\"patch_30\">\r\n    <path clip-path=\"url(#pb40c5ca739)\" d=\"M 212.862045 224.64 \r\nL 218.949318 224.64 \r\nL 218.949318 223.711365 \r\nL 212.862045 223.711365 \r\nz\r\n\" style=\"fill:#1f77b4;\"/>\r\n   </g>\r\n   <g id=\"patch_31\">\r\n    <path clip-path=\"url(#pb40c5ca739)\" d=\"M 218.949318 224.64 \r\nL 225.036591 224.64 \r\nL 225.036591 222.782729 \r\nL 218.949318 222.782729 \r\nz\r\n\" style=\"fill:#1f77b4;\"/>\r\n   </g>\r\n   <g id=\"patch_32\">\r\n    <path clip-path=\"url(#pb40c5ca739)\" d=\"M 225.036591 224.64 \r\nL 231.123864 224.64 \r\nL 231.123864 222.782729 \r\nL 225.036591 222.782729 \r\nz\r\n\" style=\"fill:#1f77b4;\"/>\r\n   </g>\r\n   <g id=\"patch_33\">\r\n    <path clip-path=\"url(#pb40c5ca739)\" d=\"M 231.123864 224.64 \r\nL 237.211136 224.64 \r\nL 237.211136 220.925458 \r\nL 231.123864 220.925458 \r\nz\r\n\" style=\"fill:#1f77b4;\"/>\r\n   </g>\r\n   <g id=\"patch_34\">\r\n    <path clip-path=\"url(#pb40c5ca739)\" d=\"M 237.211136 224.64 \r\nL 243.298409 224.64 \r\nL 243.298409 224.64 \r\nL 237.211136 224.64 \r\nz\r\n\" style=\"fill:#1f77b4;\"/>\r\n   </g>\r\n   <g id=\"patch_35\">\r\n    <path clip-path=\"url(#pb40c5ca739)\" d=\"M 243.298409 224.64 \r\nL 249.385682 224.64 \r\nL 249.385682 224.64 \r\nL 243.298409 224.64 \r\nz\r\n\" style=\"fill:#1f77b4;\"/>\r\n   </g>\r\n   <g id=\"patch_36\">\r\n    <path clip-path=\"url(#pb40c5ca739)\" d=\"M 249.385682 224.64 \r\nL 255.472955 224.64 \r\nL 255.472955 224.64 \r\nL 249.385682 224.64 \r\nz\r\n\" style=\"fill:#1f77b4;\"/>\r\n   </g>\r\n   <g id=\"patch_37\">\r\n    <path clip-path=\"url(#pb40c5ca739)\" d=\"M 255.472955 224.64 \r\nL 261.560227 224.64 \r\nL 261.560227 224.64 \r\nL 255.472955 224.64 \r\nz\r\n\" style=\"fill:#1f77b4;\"/>\r\n   </g>\r\n   <g id=\"patch_38\">\r\n    <path clip-path=\"url(#pb40c5ca739)\" d=\"M 261.560227 224.64 \r\nL 267.6475 224.64 \r\nL 267.6475 224.64 \r\nL 261.560227 224.64 \r\nz\r\n\" style=\"fill:#1f77b4;\"/>\r\n   </g>\r\n   <g id=\"patch_39\">\r\n    <path clip-path=\"url(#pb40c5ca739)\" d=\"M 267.6475 224.64 \r\nL 273.734773 224.64 \r\nL 273.734773 223.711365 \r\nL 267.6475 223.711365 \r\nz\r\n\" style=\"fill:#1f77b4;\"/>\r\n   </g>\r\n   <g id=\"patch_40\">\r\n    <path clip-path=\"url(#pb40c5ca739)\" d=\"M 273.734773 224.64 \r\nL 279.822045 224.64 \r\nL 279.822045 223.711365 \r\nL 273.734773 223.711365 \r\nz\r\n\" style=\"fill:#1f77b4;\"/>\r\n   </g>\r\n   <g id=\"patch_41\">\r\n    <path clip-path=\"url(#pb40c5ca739)\" d=\"M 279.822045 224.64 \r\nL 285.909318 224.64 \r\nL 285.909318 222.782729 \r\nL 279.822045 222.782729 \r\nz\r\n\" style=\"fill:#1f77b4;\"/>\r\n   </g>\r\n   <g id=\"patch_42\">\r\n    <path clip-path=\"url(#pb40c5ca739)\" d=\"M 285.909318 224.64 \r\nL 291.996591 224.64 \r\nL 291.996591 224.64 \r\nL 285.909318 224.64 \r\nz\r\n\" style=\"fill:#1f77b4;\"/>\r\n   </g>\r\n   <g id=\"patch_43\">\r\n    <path clip-path=\"url(#pb40c5ca739)\" d=\"M 291.996591 224.64 \r\nL 298.083864 224.64 \r\nL 298.083864 224.64 \r\nL 291.996591 224.64 \r\nz\r\n\" style=\"fill:#1f77b4;\"/>\r\n   </g>\r\n   <g id=\"patch_44\">\r\n    <path clip-path=\"url(#pb40c5ca739)\" d=\"M 298.083864 224.64 \r\nL 304.171136 224.64 \r\nL 304.171136 224.64 \r\nL 298.083864 224.64 \r\nz\r\n\" style=\"fill:#1f77b4;\"/>\r\n   </g>\r\n   <g id=\"patch_45\">\r\n    <path clip-path=\"url(#pb40c5ca739)\" d=\"M 304.171136 224.64 \r\nL 310.258409 224.64 \r\nL 310.258409 224.64 \r\nL 304.171136 224.64 \r\nz\r\n\" style=\"fill:#1f77b4;\"/>\r\n   </g>\r\n   <g id=\"patch_46\">\r\n    <path clip-path=\"url(#pb40c5ca739)\" d=\"M 310.258409 224.64 \r\nL 316.345682 224.64 \r\nL 316.345682 224.64 \r\nL 310.258409 224.64 \r\nz\r\n\" style=\"fill:#1f77b4;\"/>\r\n   </g>\r\n   <g id=\"patch_47\">\r\n    <path clip-path=\"url(#pb40c5ca739)\" d=\"M 316.345682 224.64 \r\nL 322.432955 224.64 \r\nL 322.432955 224.64 \r\nL 316.345682 224.64 \r\nz\r\n\" style=\"fill:#1f77b4;\"/>\r\n   </g>\r\n   <g id=\"patch_48\">\r\n    <path clip-path=\"url(#pb40c5ca739)\" d=\"M 322.432955 224.64 \r\nL 328.520227 224.64 \r\nL 328.520227 224.64 \r\nL 322.432955 224.64 \r\nz\r\n\" style=\"fill:#1f77b4;\"/>\r\n   </g>\r\n   <g id=\"patch_49\">\r\n    <path clip-path=\"url(#pb40c5ca739)\" d=\"M 328.520227 224.64 \r\nL 334.6075 224.64 \r\nL 334.6075 224.64 \r\nL 328.520227 224.64 \r\nz\r\n\" style=\"fill:#1f77b4;\"/>\r\n   </g>\r\n   <g id=\"patch_50\">\r\n    <path clip-path=\"url(#pb40c5ca739)\" d=\"M 334.6075 224.64 \r\nL 340.694773 224.64 \r\nL 340.694773 224.64 \r\nL 334.6075 224.64 \r\nz\r\n\" style=\"fill:#1f77b4;\"/>\r\n   </g>\r\n   <g id=\"patch_51\">\r\n    <path clip-path=\"url(#pb40c5ca739)\" d=\"M 340.694773 224.64 \r\nL 346.782045 224.64 \r\nL 346.782045 222.782729 \r\nL 340.694773 222.782729 \r\nz\r\n\" style=\"fill:#1f77b4;\"/>\r\n   </g>\r\n   <g id=\"patch_52\">\r\n    <path clip-path=\"url(#pb40c5ca739)\" d=\"M 346.782045 224.64 \r\nL 352.869318 224.64 \r\nL 352.869318 222.782729 \r\nL 346.782045 222.782729 \r\nz\r\n\" style=\"fill:#1f77b4;\"/>\r\n   </g>\r\n   <g id=\"matplotlib.axis_1\">\r\n    <g id=\"xtick_1\">\r\n     <g id=\"line2d_1\">\r\n      <path clip-path=\"url(#pb40c5ca739)\" d=\"M 33.925388 224.64 \r\nL 33.925388 7.2 \r\n\" style=\"fill:none;stroke:#b0b0b0;stroke-linecap:square;stroke-width:0.8;\"/>\r\n     </g>\r\n     <g id=\"line2d_2\">\r\n      <defs>\r\n       <path d=\"M 0 0 \r\nL 0 3.5 \r\n\" id=\"ma7c2748abc\" style=\"stroke:#000000;stroke-width:0.8;\"/>\r\n      </defs>\r\n      <g>\r\n       <use style=\"stroke:#000000;stroke-width:0.8;\" x=\"33.925388\" xlink:href=\"#ma7c2748abc\" y=\"224.64\"/>\r\n      </g>\r\n     </g>\r\n     <g id=\"text_1\">\r\n      <!-- 0.25 -->\r\n      <g transform=\"translate(22.792575 239.238437)scale(0.1 -0.1)\">\r\n       <defs>\r\n        <path d=\"M 31.78125 66.40625 \r\nQ 24.171875 66.40625 20.328125 58.90625 \r\nQ 16.5 51.421875 16.5 36.375 \r\nQ 16.5 21.390625 20.328125 13.890625 \r\nQ 24.171875 6.390625 31.78125 6.390625 \r\nQ 39.453125 6.390625 43.28125 13.890625 \r\nQ 47.125 21.390625 47.125 36.375 \r\nQ 47.125 51.421875 43.28125 58.90625 \r\nQ 39.453125 66.40625 31.78125 66.40625 \r\nz\r\nM 31.78125 74.21875 \r\nQ 44.046875 74.21875 50.515625 64.515625 \r\nQ 56.984375 54.828125 56.984375 36.375 \r\nQ 56.984375 17.96875 50.515625 8.265625 \r\nQ 44.046875 -1.421875 31.78125 -1.421875 \r\nQ 19.53125 -1.421875 13.0625 8.265625 \r\nQ 6.59375 17.96875 6.59375 36.375 \r\nQ 6.59375 54.828125 13.0625 64.515625 \r\nQ 19.53125 74.21875 31.78125 74.21875 \r\nz\r\n\" id=\"DejaVuSans-48\"/>\r\n        <path d=\"M 10.6875 12.40625 \r\nL 21 12.40625 \r\nL 21 0 \r\nL 10.6875 0 \r\nz\r\n\" id=\"DejaVuSans-46\"/>\r\n        <path d=\"M 19.1875 8.296875 \r\nL 53.609375 8.296875 \r\nL 53.609375 0 \r\nL 7.328125 0 \r\nL 7.328125 8.296875 \r\nQ 12.9375 14.109375 22.625 23.890625 \r\nQ 32.328125 33.6875 34.8125 36.53125 \r\nQ 39.546875 41.84375 41.421875 45.53125 \r\nQ 43.3125 49.21875 43.3125 52.78125 \r\nQ 43.3125 58.59375 39.234375 62.25 \r\nQ 35.15625 65.921875 28.609375 65.921875 \r\nQ 23.96875 65.921875 18.8125 64.3125 \r\nQ 13.671875 62.703125 7.8125 59.421875 \r\nL 7.8125 69.390625 \r\nQ 13.765625 71.78125 18.9375 73 \r\nQ 24.125 74.21875 28.421875 74.21875 \r\nQ 39.75 74.21875 46.484375 68.546875 \r\nQ 53.21875 62.890625 53.21875 53.421875 \r\nQ 53.21875 48.921875 51.53125 44.890625 \r\nQ 49.859375 40.875 45.40625 35.40625 \r\nQ 44.1875 33.984375 37.640625 27.21875 \r\nQ 31.109375 20.453125 19.1875 8.296875 \r\nz\r\n\" id=\"DejaVuSans-50\"/>\r\n        <path d=\"M 10.796875 72.90625 \r\nL 49.515625 72.90625 \r\nL 49.515625 64.59375 \r\nL 19.828125 64.59375 \r\nL 19.828125 46.734375 \r\nQ 21.96875 47.46875 24.109375 47.828125 \r\nQ 26.265625 48.1875 28.421875 48.1875 \r\nQ 40.625 48.1875 47.75 41.5 \r\nQ 54.890625 34.8125 54.890625 23.390625 \r\nQ 54.890625 11.625 47.5625 5.09375 \r\nQ 40.234375 -1.421875 26.90625 -1.421875 \r\nQ 22.3125 -1.421875 17.546875 -0.640625 \r\nQ 12.796875 0.140625 7.71875 1.703125 \r\nL 7.71875 11.625 \r\nQ 12.109375 9.234375 16.796875 8.0625 \r\nQ 21.484375 6.890625 26.703125 6.890625 \r\nQ 35.15625 6.890625 40.078125 11.328125 \r\nQ 45.015625 15.765625 45.015625 23.390625 \r\nQ 45.015625 31 40.078125 35.4375 \r\nQ 35.15625 39.890625 26.703125 39.890625 \r\nQ 22.75 39.890625 18.8125 39.015625 \r\nQ 14.890625 38.140625 10.796875 36.28125 \r\nz\r\n\" id=\"DejaVuSans-53\"/>\r\n       </defs>\r\n       <use xlink:href=\"#DejaVuSans-48\"/>\r\n       <use x=\"63.623047\" xlink:href=\"#DejaVuSans-46\"/>\r\n       <use x=\"95.410156\" xlink:href=\"#DejaVuSans-50\"/>\r\n       <use x=\"159.033203\" xlink:href=\"#DejaVuSans-53\"/>\r\n      </g>\r\n     </g>\r\n    </g>\r\n    <g id=\"xtick_2\">\r\n     <g id=\"line2d_3\">\r\n      <path clip-path=\"url(#pb40c5ca739)\" d=\"M 79.488806 224.64 \r\nL 79.488806 7.2 \r\n\" style=\"fill:none;stroke:#b0b0b0;stroke-linecap:square;stroke-width:0.8;\"/>\r\n     </g>\r\n     <g id=\"line2d_4\">\r\n      <g>\r\n       <use style=\"stroke:#000000;stroke-width:0.8;\" x=\"79.488806\" xlink:href=\"#ma7c2748abc\" y=\"224.64\"/>\r\n      </g>\r\n     </g>\r\n     <g id=\"text_2\">\r\n      <!-- 0.50 -->\r\n      <g transform=\"translate(68.355994 239.238437)scale(0.1 -0.1)\">\r\n       <use xlink:href=\"#DejaVuSans-48\"/>\r\n       <use x=\"63.623047\" xlink:href=\"#DejaVuSans-46\"/>\r\n       <use x=\"95.410156\" xlink:href=\"#DejaVuSans-53\"/>\r\n       <use x=\"159.033203\" xlink:href=\"#DejaVuSans-48\"/>\r\n      </g>\r\n     </g>\r\n    </g>\r\n    <g id=\"xtick_3\">\r\n     <g id=\"line2d_5\">\r\n      <path clip-path=\"url(#pb40c5ca739)\" d=\"M 125.052225 224.64 \r\nL 125.052225 7.2 \r\n\" style=\"fill:none;stroke:#b0b0b0;stroke-linecap:square;stroke-width:0.8;\"/>\r\n     </g>\r\n     <g id=\"line2d_6\">\r\n      <g>\r\n       <use style=\"stroke:#000000;stroke-width:0.8;\" x=\"125.052225\" xlink:href=\"#ma7c2748abc\" y=\"224.64\"/>\r\n      </g>\r\n     </g>\r\n     <g id=\"text_3\">\r\n      <!-- 0.75 -->\r\n      <g transform=\"translate(113.919413 239.238437)scale(0.1 -0.1)\">\r\n       <defs>\r\n        <path d=\"M 8.203125 72.90625 \r\nL 55.078125 72.90625 \r\nL 55.078125 68.703125 \r\nL 28.609375 0 \r\nL 18.3125 0 \r\nL 43.21875 64.59375 \r\nL 8.203125 64.59375 \r\nz\r\n\" id=\"DejaVuSans-55\"/>\r\n       </defs>\r\n       <use xlink:href=\"#DejaVuSans-48\"/>\r\n       <use x=\"63.623047\" xlink:href=\"#DejaVuSans-46\"/>\r\n       <use x=\"95.410156\" xlink:href=\"#DejaVuSans-55\"/>\r\n       <use x=\"159.033203\" xlink:href=\"#DejaVuSans-53\"/>\r\n      </g>\r\n     </g>\r\n    </g>\r\n    <g id=\"xtick_4\">\r\n     <g id=\"line2d_7\">\r\n      <path clip-path=\"url(#pb40c5ca739)\" d=\"M 170.615644 224.64 \r\nL 170.615644 7.2 \r\n\" style=\"fill:none;stroke:#b0b0b0;stroke-linecap:square;stroke-width:0.8;\"/>\r\n     </g>\r\n     <g id=\"line2d_8\">\r\n      <g>\r\n       <use style=\"stroke:#000000;stroke-width:0.8;\" x=\"170.615644\" xlink:href=\"#ma7c2748abc\" y=\"224.64\"/>\r\n      </g>\r\n     </g>\r\n     <g id=\"text_4\">\r\n      <!-- 1.00 -->\r\n      <g transform=\"translate(159.482831 239.238437)scale(0.1 -0.1)\">\r\n       <defs>\r\n        <path d=\"M 12.40625 8.296875 \r\nL 28.515625 8.296875 \r\nL 28.515625 63.921875 \r\nL 10.984375 60.40625 \r\nL 10.984375 69.390625 \r\nL 28.421875 72.90625 \r\nL 38.28125 72.90625 \r\nL 38.28125 8.296875 \r\nL 54.390625 8.296875 \r\nL 54.390625 0 \r\nL 12.40625 0 \r\nz\r\n\" id=\"DejaVuSans-49\"/>\r\n       </defs>\r\n       <use xlink:href=\"#DejaVuSans-49\"/>\r\n       <use x=\"63.623047\" xlink:href=\"#DejaVuSans-46\"/>\r\n       <use x=\"95.410156\" xlink:href=\"#DejaVuSans-48\"/>\r\n       <use x=\"159.033203\" xlink:href=\"#DejaVuSans-48\"/>\r\n      </g>\r\n     </g>\r\n    </g>\r\n    <g id=\"xtick_5\">\r\n     <g id=\"line2d_9\">\r\n      <path clip-path=\"url(#pb40c5ca739)\" d=\"M 216.179062 224.64 \r\nL 216.179062 7.2 \r\n\" style=\"fill:none;stroke:#b0b0b0;stroke-linecap:square;stroke-width:0.8;\"/>\r\n     </g>\r\n     <g id=\"line2d_10\">\r\n      <g>\r\n       <use style=\"stroke:#000000;stroke-width:0.8;\" x=\"216.179062\" xlink:href=\"#ma7c2748abc\" y=\"224.64\"/>\r\n      </g>\r\n     </g>\r\n     <g id=\"text_5\">\r\n      <!-- 1.25 -->\r\n      <g transform=\"translate(205.04625 239.238437)scale(0.1 -0.1)\">\r\n       <use xlink:href=\"#DejaVuSans-49\"/>\r\n       <use x=\"63.623047\" xlink:href=\"#DejaVuSans-46\"/>\r\n       <use x=\"95.410156\" xlink:href=\"#DejaVuSans-50\"/>\r\n       <use x=\"159.033203\" xlink:href=\"#DejaVuSans-53\"/>\r\n      </g>\r\n     </g>\r\n    </g>\r\n    <g id=\"xtick_6\">\r\n     <g id=\"line2d_11\">\r\n      <path clip-path=\"url(#pb40c5ca739)\" d=\"M 261.742481 224.64 \r\nL 261.742481 7.2 \r\n\" style=\"fill:none;stroke:#b0b0b0;stroke-linecap:square;stroke-width:0.8;\"/>\r\n     </g>\r\n     <g id=\"line2d_12\">\r\n      <g>\r\n       <use style=\"stroke:#000000;stroke-width:0.8;\" x=\"261.742481\" xlink:href=\"#ma7c2748abc\" y=\"224.64\"/>\r\n      </g>\r\n     </g>\r\n     <g id=\"text_6\">\r\n      <!-- 1.50 -->\r\n      <g transform=\"translate(250.609668 239.238437)scale(0.1 -0.1)\">\r\n       <use xlink:href=\"#DejaVuSans-49\"/>\r\n       <use x=\"63.623047\" xlink:href=\"#DejaVuSans-46\"/>\r\n       <use x=\"95.410156\" xlink:href=\"#DejaVuSans-53\"/>\r\n       <use x=\"159.033203\" xlink:href=\"#DejaVuSans-48\"/>\r\n      </g>\r\n     </g>\r\n    </g>\r\n    <g id=\"xtick_7\">\r\n     <g id=\"line2d_13\">\r\n      <path clip-path=\"url(#pb40c5ca739)\" d=\"M 307.3059 224.64 \r\nL 307.3059 7.2 \r\n\" style=\"fill:none;stroke:#b0b0b0;stroke-linecap:square;stroke-width:0.8;\"/>\r\n     </g>\r\n     <g id=\"line2d_14\">\r\n      <g>\r\n       <use style=\"stroke:#000000;stroke-width:0.8;\" x=\"307.3059\" xlink:href=\"#ma7c2748abc\" y=\"224.64\"/>\r\n      </g>\r\n     </g>\r\n     <g id=\"text_7\">\r\n      <!-- 1.75 -->\r\n      <g transform=\"translate(296.173087 239.238437)scale(0.1 -0.1)\">\r\n       <use xlink:href=\"#DejaVuSans-49\"/>\r\n       <use x=\"63.623047\" xlink:href=\"#DejaVuSans-46\"/>\r\n       <use x=\"95.410156\" xlink:href=\"#DejaVuSans-55\"/>\r\n       <use x=\"159.033203\" xlink:href=\"#DejaVuSans-53\"/>\r\n      </g>\r\n     </g>\r\n    </g>\r\n    <g id=\"xtick_8\">\r\n     <g id=\"line2d_15\">\r\n      <path clip-path=\"url(#pb40c5ca739)\" d=\"M 352.869318 224.64 \r\nL 352.869318 7.2 \r\n\" style=\"fill:none;stroke:#b0b0b0;stroke-linecap:square;stroke-width:0.8;\"/>\r\n     </g>\r\n     <g id=\"line2d_16\">\r\n      <g>\r\n       <use style=\"stroke:#000000;stroke-width:0.8;\" x=\"352.869318\" xlink:href=\"#ma7c2748abc\" y=\"224.64\"/>\r\n      </g>\r\n     </g>\r\n     <g id=\"text_8\">\r\n      <!-- 2.00 -->\r\n      <g transform=\"translate(341.736506 239.238437)scale(0.1 -0.1)\">\r\n       <use xlink:href=\"#DejaVuSans-50\"/>\r\n       <use x=\"63.623047\" xlink:href=\"#DejaVuSans-46\"/>\r\n       <use x=\"95.410156\" xlink:href=\"#DejaVuSans-48\"/>\r\n       <use x=\"159.033203\" xlink:href=\"#DejaVuSans-48\"/>\r\n      </g>\r\n     </g>\r\n    </g>\r\n   </g>\r\n   <g id=\"matplotlib.axis_2\">\r\n    <g id=\"ytick_1\">\r\n     <g id=\"line2d_17\">\r\n      <path clip-path=\"url(#pb40c5ca739)\" d=\"M 33.2875 224.64 \r\nL 368.0875 224.64 \r\n\" style=\"fill:none;stroke:#b0b0b0;stroke-linecap:square;stroke-width:0.8;\"/>\r\n     </g>\r\n     <g id=\"line2d_18\">\r\n      <defs>\r\n       <path d=\"M 0 0 \r\nL -3.5 0 \r\n\" id=\"mf4807e22c2\" style=\"stroke:#000000;stroke-width:0.8;\"/>\r\n      </defs>\r\n      <g>\r\n       <use style=\"stroke:#000000;stroke-width:0.8;\" x=\"33.2875\" xlink:href=\"#mf4807e22c2\" y=\"224.64\"/>\r\n      </g>\r\n     </g>\r\n     <g id=\"text_9\">\r\n      <!-- 0 -->\r\n      <g transform=\"translate(19.925 228.439219)scale(0.1 -0.1)\">\r\n       <use xlink:href=\"#DejaVuSans-48\"/>\r\n      </g>\r\n     </g>\r\n    </g>\r\n    <g id=\"ytick_2\">\r\n     <g id=\"line2d_19\">\r\n      <path clip-path=\"url(#pb40c5ca739)\" d=\"M 33.2875 178.208225 \r\nL 368.0875 178.208225 \r\n\" style=\"fill:none;stroke:#b0b0b0;stroke-linecap:square;stroke-width:0.8;\"/>\r\n     </g>\r\n     <g id=\"line2d_20\">\r\n      <g>\r\n       <use style=\"stroke:#000000;stroke-width:0.8;\" x=\"33.2875\" xlink:href=\"#mf4807e22c2\" y=\"178.208225\"/>\r\n      </g>\r\n     </g>\r\n     <g id=\"text_10\">\r\n      <!-- 50 -->\r\n      <g transform=\"translate(13.5625 182.007444)scale(0.1 -0.1)\">\r\n       <use xlink:href=\"#DejaVuSans-53\"/>\r\n       <use x=\"63.623047\" xlink:href=\"#DejaVuSans-48\"/>\r\n      </g>\r\n     </g>\r\n    </g>\r\n    <g id=\"ytick_3\">\r\n     <g id=\"line2d_21\">\r\n      <path clip-path=\"url(#pb40c5ca739)\" d=\"M 33.2875 131.776451 \r\nL 368.0875 131.776451 \r\n\" style=\"fill:none;stroke:#b0b0b0;stroke-linecap:square;stroke-width:0.8;\"/>\r\n     </g>\r\n     <g id=\"line2d_22\">\r\n      <g>\r\n       <use style=\"stroke:#000000;stroke-width:0.8;\" x=\"33.2875\" xlink:href=\"#mf4807e22c2\" y=\"131.776451\"/>\r\n      </g>\r\n     </g>\r\n     <g id=\"text_11\">\r\n      <!-- 100 -->\r\n      <g transform=\"translate(7.2 135.57567)scale(0.1 -0.1)\">\r\n       <use xlink:href=\"#DejaVuSans-49\"/>\r\n       <use x=\"63.623047\" xlink:href=\"#DejaVuSans-48\"/>\r\n       <use x=\"127.246094\" xlink:href=\"#DejaVuSans-48\"/>\r\n      </g>\r\n     </g>\r\n    </g>\r\n    <g id=\"ytick_4\">\r\n     <g id=\"line2d_23\">\r\n      <path clip-path=\"url(#pb40c5ca739)\" d=\"M 33.2875 85.344676 \r\nL 368.0875 85.344676 \r\n\" style=\"fill:none;stroke:#b0b0b0;stroke-linecap:square;stroke-width:0.8;\"/>\r\n     </g>\r\n     <g id=\"line2d_24\">\r\n      <g>\r\n       <use style=\"stroke:#000000;stroke-width:0.8;\" x=\"33.2875\" xlink:href=\"#mf4807e22c2\" y=\"85.344676\"/>\r\n      </g>\r\n     </g>\r\n     <g id=\"text_12\">\r\n      <!-- 150 -->\r\n      <g transform=\"translate(7.2 89.143895)scale(0.1 -0.1)\">\r\n       <use xlink:href=\"#DejaVuSans-49\"/>\r\n       <use x=\"63.623047\" xlink:href=\"#DejaVuSans-53\"/>\r\n       <use x=\"127.246094\" xlink:href=\"#DejaVuSans-48\"/>\r\n      </g>\r\n     </g>\r\n    </g>\r\n    <g id=\"ytick_5\">\r\n     <g id=\"line2d_25\">\r\n      <path clip-path=\"url(#pb40c5ca739)\" d=\"M 33.2875 38.912902 \r\nL 368.0875 38.912902 \r\n\" style=\"fill:none;stroke:#b0b0b0;stroke-linecap:square;stroke-width:0.8;\"/>\r\n     </g>\r\n     <g id=\"line2d_26\">\r\n      <g>\r\n       <use style=\"stroke:#000000;stroke-width:0.8;\" x=\"33.2875\" xlink:href=\"#mf4807e22c2\" y=\"38.912902\"/>\r\n      </g>\r\n     </g>\r\n     <g id=\"text_13\">\r\n      <!-- 200 -->\r\n      <g transform=\"translate(7.2 42.712121)scale(0.1 -0.1)\">\r\n       <use xlink:href=\"#DejaVuSans-50\"/>\r\n       <use x=\"63.623047\" xlink:href=\"#DejaVuSans-48\"/>\r\n       <use x=\"127.246094\" xlink:href=\"#DejaVuSans-48\"/>\r\n      </g>\r\n     </g>\r\n    </g>\r\n   </g>\r\n   <g id=\"patch_53\">\r\n    <path d=\"M 33.2875 224.64 \r\nL 33.2875 7.2 \r\n\" style=\"fill:none;stroke:#000000;stroke-linecap:square;stroke-linejoin:miter;stroke-width:0.8;\"/>\r\n   </g>\r\n   <g id=\"patch_54\">\r\n    <path d=\"M 368.0875 224.64 \r\nL 368.0875 7.2 \r\n\" style=\"fill:none;stroke:#000000;stroke-linecap:square;stroke-linejoin:miter;stroke-width:0.8;\"/>\r\n   </g>\r\n   <g id=\"patch_55\">\r\n    <path d=\"M 33.2875 224.64 \r\nL 368.0875 224.64 \r\n\" style=\"fill:none;stroke:#000000;stroke-linecap:square;stroke-linejoin:miter;stroke-width:0.8;\"/>\r\n   </g>\r\n   <g id=\"patch_56\">\r\n    <path d=\"M 33.2875 7.2 \r\nL 368.0875 7.2 \r\n\" style=\"fill:none;stroke:#000000;stroke-linecap:square;stroke-linejoin:miter;stroke-width:0.8;\"/>\r\n   </g>\r\n  </g>\r\n </g>\r\n <defs>\r\n  <clipPath id=\"pb40c5ca739\">\r\n   <rect height=\"217.44\" width=\"334.8\" x=\"33.2875\" y=\"7.2\"/>\r\n  </clipPath>\r\n </defs>\r\n</svg>\r\n",
      "image/png": "[encoded data removed]"
     },
     "metadata": {
      "needs_background": "light"
     }
    }
   ],
   "source": [
    "df['sulphates'].hist(bins = 50);"
   ]
  },
  {
   "cell_type": "code",
   "execution_count": 10,
   "metadata": {},
   "outputs": [],
   "source": [
    "import statistics as st"
   ]
  },
  {
   "cell_type": "code",
   "execution_count": 11,
   "metadata": {},
   "outputs": [],
   "source": [
    "red_wine = pd.read_csv(\"winequality-red.csv\", sep=\";\")"
   ]
  },
  {
   "cell_type": "code",
   "execution_count": 12,
   "metadata": {},
   "outputs": [
    {
     "output_type": "execute_result",
     "data": {
      "text/plain": [
       "       fixed acidity  volatile acidity  citric acid  residual sugar  \\\n",
       "count    1599.000000       1599.000000  1599.000000     1599.000000   \n",
       "mean        8.319637          0.527821     0.270976        2.538806   \n",
       "std         1.741096          0.179060     0.194801        1.409928   \n",
       "min         4.600000          0.120000     0.000000        0.900000   \n",
       "25%         7.100000          0.390000     0.090000        1.900000   \n",
       "50%         7.900000          0.520000     0.260000        2.200000   \n",
       "75%         9.200000          0.640000     0.420000        2.600000   \n",
       "max        15.900000          1.580000     1.000000       15.500000   \n",
       "\n",
       "         chlorides  free sulfur dioxide  total sulfur dioxide      density  \\\n",
       "count  1599.000000          1599.000000           1599.000000  1599.000000   \n",
       "mean      0.087467            15.874922             46.467792     0.996747   \n",
       "std       0.047065            10.460157             32.895324     0.001887   \n",
       "min       0.012000             1.000000              6.000000     0.990070   \n",
       "25%       0.070000             7.000000             22.000000     0.995600   \n",
       "50%       0.079000            14.000000             38.000000     0.996750   \n",
       "75%       0.090000            21.000000             62.000000     0.997835   \n",
       "max       0.611000            72.000000            289.000000     1.003690   \n",
       "\n",
       "                pH    sulphates      alcohol      quality  \n",
       "count  1599.000000  1599.000000  1599.000000  1599.000000  \n",
       "mean      3.311113     0.658149    10.422983     5.636023  \n",
       "std       0.154386     0.169507     1.065668     0.807569  \n",
       "min       2.740000     0.330000     8.400000     3.000000  \n",
       "25%       3.210000     0.550000     9.500000     5.000000  \n",
       "50%       3.310000     0.620000    10.200000     6.000000  \n",
       "75%       3.400000     0.730000    11.100000     6.000000  \n",
       "max       4.010000     2.000000    14.900000     8.000000  "
      ],
      "text/html": "<div>\n<style scoped>\n    .dataframe tbody tr th:only-of-type {\n        vertical-align: middle;\n    }\n\n    .dataframe tbody tr th {\n        vertical-align: top;\n    }\n\n    .dataframe thead th {\n        text-align: right;\n    }\n</style>\n<table border=\"1\" class=\"dataframe\">\n  <thead>\n    <tr style=\"text-align: right;\">\n      <th></th>\n      <th>fixed acidity</th>\n      <th>volatile acidity</th>\n      <th>citric acid</th>\n      <th>residual sugar</th>\n      <th>chlorides</th>\n      <th>free sulfur dioxide</th>\n      <th>total sulfur dioxide</th>\n      <th>density</th>\n      <th>pH</th>\n      <th>sulphates</th>\n      <th>alcohol</th>\n      <th>quality</th>\n    </tr>\n  </thead>\n  <tbody>\n    <tr>\n      <th>count</th>\n      <td>1599.000000</td>\n      <td>1599.000000</td>\n      <td>1599.000000</td>\n      <td>1599.000000</td>\n      <td>1599.000000</td>\n      <td>1599.000000</td>\n      <td>1599.000000</td>\n      <td>1599.000000</td>\n      <td>1599.000000</td>\n      <td>1599.000000</td>\n      <td>1599.000000</td>\n      <td>1599.000000</td>\n    </tr>\n    <tr>\n      <th>mean</th>\n      <td>8.319637</td>\n      <td>0.527821</td>\n      <td>0.270976</td>\n      <td>2.538806</td>\n      <td>0.087467</td>\n      <td>15.874922</td>\n      <td>46.467792</td>\n      <td>0.996747</td>\n      <td>3.311113</td>\n      <td>0.658149</td>\n      <td>10.422983</td>\n      <td>5.636023</td>\n    </tr>\n    <tr>\n      <th>std</th>\n      <td>1.741096</td>\n      <td>0.179060</td>\n      <td>0.194801</td>\n      <td>1.409928</td>\n      <td>0.047065</td>\n      <td>10.460157</td>\n      <td>32.895324</td>\n      <td>0.001887</td>\n      <td>0.154386</td>\n      <td>0.169507</td>\n      <td>1.065668</td>\n      <td>0.807569</td>\n    </tr>\n    <tr>\n      <th>min</th>\n      <td>4.600000</td>\n      <td>0.120000</td>\n      <td>0.000000</td>\n      <td>0.900000</td>\n      <td>0.012000</td>\n      <td>1.000000</td>\n      <td>6.000000</td>\n      <td>0.990070</td>\n      <td>2.740000</td>\n      <td>0.330000</td>\n      <td>8.400000</td>\n      <td>3.000000</td>\n    </tr>\n    <tr>\n      <th>25%</th>\n      <td>7.100000</td>\n      <td>0.390000</td>\n      <td>0.090000</td>\n      <td>1.900000</td>\n      <td>0.070000</td>\n      <td>7.000000</td>\n      <td>22.000000</td>\n      <td>0.995600</td>\n      <td>3.210000</td>\n      <td>0.550000</td>\n      <td>9.500000</td>\n      <td>5.000000</td>\n    </tr>\n    <tr>\n      <th>50%</th>\n      <td>7.900000</td>\n      <td>0.520000</td>\n      <td>0.260000</td>\n      <td>2.200000</td>\n      <td>0.079000</td>\n      <td>14.000000</td>\n      <td>38.000000</td>\n      <td>0.996750</td>\n      <td>3.310000</td>\n      <td>0.620000</td>\n      <td>10.200000</td>\n      <td>6.000000</td>\n    </tr>\n    <tr>\n      <th>75%</th>\n      <td>9.200000</td>\n      <td>0.640000</td>\n      <td>0.420000</td>\n      <td>2.600000</td>\n      <td>0.090000</td>\n      <td>21.000000</td>\n      <td>62.000000</td>\n      <td>0.997835</td>\n      <td>3.400000</td>\n      <td>0.730000</td>\n      <td>11.100000</td>\n      <td>6.000000</td>\n    </tr>\n    <tr>\n      <th>max</th>\n      <td>15.900000</td>\n      <td>1.580000</td>\n      <td>1.000000</td>\n      <td>15.500000</td>\n      <td>0.611000</td>\n      <td>72.000000</td>\n      <td>289.000000</td>\n      <td>1.003690</td>\n      <td>4.010000</td>\n      <td>2.000000</td>\n      <td>14.900000</td>\n      <td>8.000000</td>\n    </tr>\n  </tbody>\n</table>\n</div>"
     },
     "metadata": {},
     "execution_count": 12
    }
   ],
   "source": [
    "red_wine.describe()"
   ]
  },
  {
   "cell_type": "code",
   "execution_count": 13,
   "metadata": {},
   "outputs": [],
   "source": [
    "white_wine = pd.read_csv(\"winequality-white.csv\", sep=\";\")"
   ]
  },
  {
   "cell_type": "code",
   "execution_count": 14,
   "metadata": {},
   "outputs": [
    {
     "output_type": "execute_result",
     "data": {
      "text/plain": [
       "       fixed acidity  volatile acidity  citric acid  residual sugar  \\\n",
       "count    4898.000000       4898.000000  4898.000000     4898.000000   \n",
       "mean        6.854788          0.278241     0.334192        6.391415   \n",
       "std         0.843868          0.100795     0.121020        5.072058   \n",
       "min         3.800000          0.080000     0.000000        0.600000   \n",
       "25%         6.300000          0.210000     0.270000        1.700000   \n",
       "50%         6.800000          0.260000     0.320000        5.200000   \n",
       "75%         7.300000          0.320000     0.390000        9.900000   \n",
       "max        14.200000          1.100000     1.660000       65.800000   \n",
       "\n",
       "         chlorides  free sulfur dioxide  total sulfur dioxide      density  \\\n",
       "count  4898.000000          4898.000000           4898.000000  4898.000000   \n",
       "mean      0.045772            35.308085            138.360657     0.994027   \n",
       "std       0.021848            17.007137             42.498065     0.002991   \n",
       "min       0.009000             2.000000              9.000000     0.987110   \n",
       "25%       0.036000            23.000000            108.000000     0.991723   \n",
       "50%       0.043000            34.000000            134.000000     0.993740   \n",
       "75%       0.050000            46.000000            167.000000     0.996100   \n",
       "max       0.346000           289.000000            440.000000     1.038980   \n",
       "\n",
       "                pH    sulphates      alcohol      quality  \n",
       "count  4898.000000  4898.000000  4898.000000  4898.000000  \n",
       "mean      3.188267     0.489847    10.514267     5.877909  \n",
       "std       0.151001     0.114126     1.230621     0.885639  \n",
       "min       2.720000     0.220000     8.000000     3.000000  \n",
       "25%       3.090000     0.410000     9.500000     5.000000  \n",
       "50%       3.180000     0.470000    10.400000     6.000000  \n",
       "75%       3.280000     0.550000    11.400000     6.000000  \n",
       "max       3.820000     1.080000    14.200000     9.000000  "
      ],
      "text/html": "<div>\n<style scoped>\n    .dataframe tbody tr th:only-of-type {\n        vertical-align: middle;\n    }\n\n    .dataframe tbody tr th {\n        vertical-align: top;\n    }\n\n    .dataframe thead th {\n        text-align: right;\n    }\n</style>\n<table border=\"1\" class=\"dataframe\">\n  <thead>\n    <tr style=\"text-align: right;\">\n      <th></th>\n      <th>fixed acidity</th>\n      <th>volatile acidity</th>\n      <th>citric acid</th>\n      <th>residual sugar</th>\n      <th>chlorides</th>\n      <th>free sulfur dioxide</th>\n      <th>total sulfur dioxide</th>\n      <th>density</th>\n      <th>pH</th>\n      <th>sulphates</th>\n      <th>alcohol</th>\n      <th>quality</th>\n    </tr>\n  </thead>\n  <tbody>\n    <tr>\n      <th>count</th>\n      <td>4898.000000</td>\n      <td>4898.000000</td>\n      <td>4898.000000</td>\n      <td>4898.000000</td>\n      <td>4898.000000</td>\n      <td>4898.000000</td>\n      <td>4898.000000</td>\n      <td>4898.000000</td>\n      <td>4898.000000</td>\n      <td>4898.000000</td>\n      <td>4898.000000</td>\n      <td>4898.000000</td>\n    </tr>\n    <tr>\n      <th>mean</th>\n      <td>6.854788</td>\n      <td>0.278241</td>\n      <td>0.334192</td>\n      <td>6.391415</td>\n      <td>0.045772</td>\n      <td>35.308085</td>\n      <td>138.360657</td>\n      <td>0.994027</td>\n      <td>3.188267</td>\n      <td>0.489847</td>\n      <td>10.514267</td>\n      <td>5.877909</td>\n    </tr>\n    <tr>\n      <th>std</th>\n      <td>0.843868</td>\n      <td>0.100795</td>\n      <td>0.121020</td>\n      <td>5.072058</td>\n      <td>0.021848</td>\n      <td>17.007137</td>\n      <td>42.498065</td>\n      <td>0.002991</td>\n      <td>0.151001</td>\n      <td>0.114126</td>\n      <td>1.230621</td>\n      <td>0.885639</td>\n    </tr>\n    <tr>\n      <th>min</th>\n      <td>3.800000</td>\n      <td>0.080000</td>\n      <td>0.000000</td>\n      <td>0.600000</td>\n      <td>0.009000</td>\n      <td>2.000000</td>\n      <td>9.000000</td>\n      <td>0.987110</td>\n      <td>2.720000</td>\n      <td>0.220000</td>\n      <td>8.000000</td>\n      <td>3.000000</td>\n    </tr>\n    <tr>\n      <th>25%</th>\n      <td>6.300000</td>\n      <td>0.210000</td>\n      <td>0.270000</td>\n      <td>1.700000</td>\n      <td>0.036000</td>\n      <td>23.000000</td>\n      <td>108.000000</td>\n      <td>0.991723</td>\n      <td>3.090000</td>\n      <td>0.410000</td>\n      <td>9.500000</td>\n      <td>5.000000</td>\n    </tr>\n    <tr>\n      <th>50%</th>\n      <td>6.800000</td>\n      <td>0.260000</td>\n      <td>0.320000</td>\n      <td>5.200000</td>\n      <td>0.043000</td>\n      <td>34.000000</td>\n      <td>134.000000</td>\n      <td>0.993740</td>\n      <td>3.180000</td>\n      <td>0.470000</td>\n      <td>10.400000</td>\n      <td>6.000000</td>\n    </tr>\n    <tr>\n      <th>75%</th>\n      <td>7.300000</td>\n      <td>0.320000</td>\n      <td>0.390000</td>\n      <td>9.900000</td>\n      <td>0.050000</td>\n      <td>46.000000</td>\n      <td>167.000000</td>\n      <td>0.996100</td>\n      <td>3.280000</td>\n      <td>0.550000</td>\n      <td>11.400000</td>\n      <td>6.000000</td>\n    </tr>\n    <tr>\n      <th>max</th>\n      <td>14.200000</td>\n      <td>1.100000</td>\n      <td>1.660000</td>\n      <td>65.800000</td>\n      <td>0.346000</td>\n      <td>289.000000</td>\n      <td>440.000000</td>\n      <td>1.038980</td>\n      <td>3.820000</td>\n      <td>1.080000</td>\n      <td>14.200000</td>\n      <td>9.000000</td>\n    </tr>\n  </tbody>\n</table>\n</div>"
     },
     "metadata": {},
     "execution_count": 14
    }
   ],
   "source": [
    "white_wine.describe()"
   ]
  },
  {
   "cell_type": "code",
   "execution_count": 15,
   "metadata": {},
   "outputs": [],
   "source": [
    "red_wine['wine_type'] = 'red'\n",
    "white_wine['wine_type'] = 'white'"
   ]
  },
  {
   "cell_type": "code",
   "execution_count": 16,
   "metadata": {},
   "outputs": [],
   "source": [
    "red_wine['quality_label'] = red_wine['quality'].apply(lambda value: 'low'\n",
    "if value <= 5 else 'medium'\n",
    "if value <= 7 else 'high')"
   ]
  },
  {
   "cell_type": "code",
   "execution_count": 17,
   "metadata": {},
   "outputs": [],
   "source": [
    "white_wine['quality_label'] = white_wine['quality'].apply(lambda value: 'low'\n",
    "if value <= 5 else 'medium'\n",
    "if value <= 7 else 'high')"
   ]
  },
  {
   "cell_type": "code",
   "execution_count": 18,
   "metadata": {},
   "outputs": [],
   "source": [
    "red_wine['quality_label'] = pd.Categorical(red_wine['quality_label'],\n",
    "categories=['low', 'medium', 'high'])"
   ]
  },
  {
   "cell_type": "code",
   "execution_count": 19,
   "metadata": {},
   "outputs": [],
   "source": [
    "white_wine['quality_label'] = pd.Categorical(white_wine['quality_label'],\n",
    "categories=['low', 'medium', 'high'])"
   ]
  },
  {
   "cell_type": "code",
   "execution_count": 20,
   "metadata": {},
   "outputs": [],
   "source": [
    "wines = pd.concat([red_wine, white_wine])"
   ]
  },
  {
   "cell_type": "code",
   "execution_count": 21,
   "metadata": {},
   "outputs": [],
   "source": [
    "wines = wines.sample(frac=1, random_state=42).reset_index(drop=True)"
   ]
  },
  {
   "cell_type": "code",
   "execution_count": 22,
   "metadata": {},
   "outputs": [
    {
     "output_type": "execute_result",
     "data": {
      "text/plain": [
       "      fixed acidity  volatile acidity  citric acid  residual sugar  chlorides  \\\n",
       "0               7.0              0.17         0.74           12.80      0.045   \n",
       "1               7.7              0.64         0.21            2.20      0.077   \n",
       "2               6.8              0.39         0.34            7.40      0.020   \n",
       "3               6.3              0.28         0.47           11.20      0.040   \n",
       "4               7.4              0.35         0.20           13.90      0.054   \n",
       "...             ...               ...          ...             ...        ...   \n",
       "6492            7.6              0.32         0.58           16.75      0.050   \n",
       "6493            5.6              0.28         0.27            3.90      0.043   \n",
       "6494            6.4              0.37         0.20            5.60      0.117   \n",
       "6495            6.5              0.26         0.50            8.00      0.051   \n",
       "6496            7.2              0.62         0.06            2.70      0.077   \n",
       "\n",
       "      free sulfur dioxide  total sulfur dioxide  density    pH  sulphates  \\\n",
       "0                    24.0                 126.0  0.99420  3.26       0.38   \n",
       "1                    32.0                 133.0  0.99560  3.27       0.45   \n",
       "2                    38.0                 133.0  0.99212  3.18       0.44   \n",
       "3                    61.0                 183.0  0.99592  3.12       0.51   \n",
       "4                    63.0                 229.0  0.99888  3.11       0.50   \n",
       "...                   ...                   ...      ...   ...        ...   \n",
       "6492                 43.0                 163.0  0.99990  3.15       0.54   \n",
       "6493                 52.0                 158.0  0.99202  3.35       0.44   \n",
       "6494                 61.0                 183.0  0.99459  3.24       0.43   \n",
       "6495                 46.0                 197.0  0.99536  3.18       0.47   \n",
       "6496                 15.0                  85.0  0.99746  3.51       0.54   \n",
       "\n",
       "      alcohol  quality wine_type quality_label  \n",
       "0        12.2        8     white          high  \n",
       "1         9.9        5       red           low  \n",
       "2        12.0        7     white        medium  \n",
       "3         9.5        6     white        medium  \n",
       "4         8.9        6     white        medium  \n",
       "...       ...      ...       ...           ...  \n",
       "6492      9.2        5     white           low  \n",
       "6493     10.7        7     white        medium  \n",
       "6494      9.5        5     white           low  \n",
       "6495      9.5        5     white           low  \n",
       "6496      9.5        5       red           low  \n",
       "\n",
       "[6497 rows x 14 columns]"
      ],
      "text/html": "<div>\n<style scoped>\n    .dataframe tbody tr th:only-of-type {\n        vertical-align: middle;\n    }\n\n    .dataframe tbody tr th {\n        vertical-align: top;\n    }\n\n    .dataframe thead th {\n        text-align: right;\n    }\n</style>\n<table border=\"1\" class=\"dataframe\">\n  <thead>\n    <tr style=\"text-align: right;\">\n      <th></th>\n      <th>fixed acidity</th>\n      <th>volatile acidity</th>\n      <th>citric acid</th>\n      <th>residual sugar</th>\n      <th>chlorides</th>\n      <th>free sulfur dioxide</th>\n      <th>total sulfur dioxide</th>\n      <th>density</th>\n      <th>pH</th>\n      <th>sulphates</th>\n      <th>alcohol</th>\n      <th>quality</th>\n      <th>wine_type</th>\n      <th>quality_label</th>\n    </tr>\n  </thead>\n  <tbody>\n    <tr>\n      <th>0</th>\n      <td>7.0</td>\n      <td>0.17</td>\n      <td>0.74</td>\n      <td>12.80</td>\n      <td>0.045</td>\n      <td>24.0</td>\n      <td>126.0</td>\n      <td>0.99420</td>\n      <td>3.26</td>\n      <td>0.38</td>\n      <td>12.2</td>\n      <td>8</td>\n      <td>white</td>\n      <td>high</td>\n    </tr>\n    <tr>\n      <th>1</th>\n      <td>7.7</td>\n      <td>0.64</td>\n      <td>0.21</td>\n      <td>2.20</td>\n      <td>0.077</td>\n      <td>32.0</td>\n      <td>133.0</td>\n      <td>0.99560</td>\n      <td>3.27</td>\n      <td>0.45</td>\n      <td>9.9</td>\n      <td>5</td>\n      <td>red</td>\n      <td>low</td>\n    </tr>\n    <tr>\n      <th>2</th>\n      <td>6.8</td>\n      <td>0.39</td>\n      <td>0.34</td>\n      <td>7.40</td>\n      <td>0.020</td>\n      <td>38.0</td>\n      <td>133.0</td>\n      <td>0.99212</td>\n      <td>3.18</td>\n      <td>0.44</td>\n      <td>12.0</td>\n      <td>7</td>\n      <td>white</td>\n      <td>medium</td>\n    </tr>\n    <tr>\n      <th>3</th>\n      <td>6.3</td>\n      <td>0.28</td>\n      <td>0.47</td>\n      <td>11.20</td>\n      <td>0.040</td>\n      <td>61.0</td>\n      <td>183.0</td>\n      <td>0.99592</td>\n      <td>3.12</td>\n      <td>0.51</td>\n      <td>9.5</td>\n      <td>6</td>\n      <td>white</td>\n      <td>medium</td>\n    </tr>\n    <tr>\n      <th>4</th>\n      <td>7.4</td>\n      <td>0.35</td>\n      <td>0.20</td>\n      <td>13.90</td>\n      <td>0.054</td>\n      <td>63.0</td>\n      <td>229.0</td>\n      <td>0.99888</td>\n      <td>3.11</td>\n      <td>0.50</td>\n      <td>8.9</td>\n      <td>6</td>\n      <td>white</td>\n      <td>medium</td>\n    </tr>\n    <tr>\n      <th>...</th>\n      <td>...</td>\n      <td>...</td>\n      <td>...</td>\n      <td>...</td>\n      <td>...</td>\n      <td>...</td>\n      <td>...</td>\n      <td>...</td>\n      <td>...</td>\n      <td>...</td>\n      <td>...</td>\n      <td>...</td>\n      <td>...</td>\n      <td>...</td>\n    </tr>\n    <tr>\n      <th>6492</th>\n      <td>7.6</td>\n      <td>0.32</td>\n      <td>0.58</td>\n      <td>16.75</td>\n      <td>0.050</td>\n      <td>43.0</td>\n      <td>163.0</td>\n      <td>0.99990</td>\n      <td>3.15</td>\n      <td>0.54</td>\n      <td>9.2</td>\n      <td>5</td>\n      <td>white</td>\n      <td>low</td>\n    </tr>\n    <tr>\n      <th>6493</th>\n      <td>5.6</td>\n      <td>0.28</td>\n      <td>0.27</td>\n      <td>3.90</td>\n      <td>0.043</td>\n      <td>52.0</td>\n      <td>158.0</td>\n      <td>0.99202</td>\n      <td>3.35</td>\n      <td>0.44</td>\n      <td>10.7</td>\n      <td>7</td>\n      <td>white</td>\n      <td>medium</td>\n    </tr>\n    <tr>\n      <th>6494</th>\n      <td>6.4</td>\n      <td>0.37</td>\n      <td>0.20</td>\n      <td>5.60</td>\n      <td>0.117</td>\n      <td>61.0</td>\n      <td>183.0</td>\n      <td>0.99459</td>\n      <td>3.24</td>\n      <td>0.43</td>\n      <td>9.5</td>\n      <td>5</td>\n      <td>white</td>\n      <td>low</td>\n    </tr>\n    <tr>\n      <th>6495</th>\n      <td>6.5</td>\n      <td>0.26</td>\n      <td>0.50</td>\n      <td>8.00</td>\n      <td>0.051</td>\n      <td>46.0</td>\n      <td>197.0</td>\n      <td>0.99536</td>\n      <td>3.18</td>\n      <td>0.47</td>\n      <td>9.5</td>\n      <td>5</td>\n      <td>white</td>\n      <td>low</td>\n    </tr>\n    <tr>\n      <th>6496</th>\n      <td>7.2</td>\n      <td>0.62</td>\n      <td>0.06</td>\n      <td>2.70</td>\n      <td>0.077</td>\n      <td>15.0</td>\n      <td>85.0</td>\n      <td>0.99746</td>\n      <td>3.51</td>\n      <td>0.54</td>\n      <td>9.5</td>\n      <td>5</td>\n      <td>red</td>\n      <td>low</td>\n    </tr>\n  </tbody>\n</table>\n<p>6497 rows × 14 columns</p>\n</div>"
     },
     "metadata": {},
     "execution_count": 22
    }
   ],
   "source": [
    "wines"
   ]
  },
  {
   "cell_type": "code",
   "execution_count": 23,
   "metadata": {},
   "outputs": [
    {
     "output_type": "execute_result",
     "data": {
      "text/plain": [
       "fixed acidity           0\n",
       "volatile acidity        0\n",
       "citric acid             0\n",
       "residual sugar          0\n",
       "chlorides               0\n",
       "free sulfur dioxide     0\n",
       "total sulfur dioxide    0\n",
       "density                 0\n",
       "pH                      0\n",
       "sulphates               0\n",
       "alcohol                 0\n",
       "quality                 0\n",
       "wine_type               0\n",
       "quality_label           0\n",
       "dtype: int64"
      ]
     },
     "metadata": {},
     "execution_count": 23
    }
   ],
   "source": [
    "wines.isna().sum()"
   ]
  },
  {
   "cell_type": "code",
   "execution_count": 24,
   "metadata": {},
   "outputs": [
    {
     "output_type": "execute_result",
     "data": {
      "text/plain": [
       "<bound method DataFrame.skew of       fixed acidity  volatile acidity  citric acid  residual sugar  chlorides  \\\n",
       "0               7.0              0.17         0.74           12.80      0.045   \n",
       "1               7.7              0.64         0.21            2.20      0.077   \n",
       "2               6.8              0.39         0.34            7.40      0.020   \n",
       "3               6.3              0.28         0.47           11.20      0.040   \n",
       "4               7.4              0.35         0.20           13.90      0.054   \n",
       "...             ...               ...          ...             ...        ...   \n",
       "6492            7.6              0.32         0.58           16.75      0.050   \n",
       "6493            5.6              0.28         0.27            3.90      0.043   \n",
       "6494            6.4              0.37         0.20            5.60      0.117   \n",
       "6495            6.5              0.26         0.50            8.00      0.051   \n",
       "6496            7.2              0.62         0.06            2.70      0.077   \n",
       "\n",
       "      free sulfur dioxide  total sulfur dioxide  density    pH  sulphates  \\\n",
       "0                    24.0                 126.0  0.99420  3.26       0.38   \n",
       "1                    32.0                 133.0  0.99560  3.27       0.45   \n",
       "2                    38.0                 133.0  0.99212  3.18       0.44   \n",
       "3                    61.0                 183.0  0.99592  3.12       0.51   \n",
       "4                    63.0                 229.0  0.99888  3.11       0.50   \n",
       "...                   ...                   ...      ...   ...        ...   \n",
       "6492                 43.0                 163.0  0.99990  3.15       0.54   \n",
       "6493                 52.0                 158.0  0.99202  3.35       0.44   \n",
       "6494                 61.0                 183.0  0.99459  3.24       0.43   \n",
       "6495                 46.0                 197.0  0.99536  3.18       0.47   \n",
       "6496                 15.0                  85.0  0.99746  3.51       0.54   \n",
       "\n",
       "      alcohol  quality wine_type quality_label  \n",
       "0        12.2        8     white          high  \n",
       "1         9.9        5       red           low  \n",
       "2        12.0        7     white        medium  \n",
       "3         9.5        6     white        medium  \n",
       "4         8.9        6     white        medium  \n",
       "...       ...      ...       ...           ...  \n",
       "6492      9.2        5     white           low  \n",
       "6493     10.7        7     white        medium  \n",
       "6494      9.5        5     white           low  \n",
       "6495      9.5        5     white           low  \n",
       "6496      9.5        5       red           low  \n",
       "\n",
       "[6497 rows x 14 columns]>"
      ]
     },
     "metadata": {},
     "execution_count": 24
    }
   ],
   "source": [
    "wines.skew"
   ]
  },
  {
   "cell_type": "code",
   "execution_count": 25,
   "metadata": {},
   "outputs": [
    {
     "output_type": "execute_result",
     "data": {
      "text/plain": [
       "fixed acidity           1.723290\n",
       "volatile acidity        1.495097\n",
       "citric acid             0.471731\n",
       "residual sugar          1.435404\n",
       "chlorides               5.399828\n",
       "free sulfur dioxide     1.220066\n",
       "total sulfur dioxide   -0.001177\n",
       "density                 0.503602\n",
       "pH                      0.386839\n",
       "sulphates               1.797270\n",
       "alcohol                 0.565718\n",
       "quality                 0.189623\n",
       "dtype: float64"
      ]
     },
     "metadata": {},
     "execution_count": 25
    }
   ],
   "source": [
    "wines.skew()"
   ]
  },
  {
   "cell_type": "code",
   "execution_count": 26,
   "metadata": {},
   "outputs": [
    {
     "output_type": "display_data",
     "data": {
      "text/plain": "<Figure size 432x288 with 1 Axes>",
      "image/svg+xml": "<?xml version=\"1.0\" encoding=\"utf-8\" standalone=\"no\"?>\r\n<!DOCTYPE svg PUBLIC \"-//W3C//DTD SVG 1.1//EN\"\r\n  \"http://www.w3.org/Graphics/SVG/1.1/DTD/svg11.dtd\">\r\n<!-- Created with matplotlib (https://matplotlib.org/) -->\r\n<svg height=\"248.518125pt\" version=\"1.1\" viewBox=\"0 0 375.2875 248.518125\" width=\"375.2875pt\" xmlns=\"http://www.w3.org/2000/svg\" xmlns:xlink=\"http://www.w3.org/1999/xlink\">\r\n <metadata>\r\n  <rdf:RDF xmlns:cc=\"http://creativecommons.org/ns#\" xmlns:dc=\"http://purl.org/dc/elements/1.1/\" xmlns:rdf=\"http://www.w3.org/1999/02/22-rdf-syntax-ns#\">\r\n   <cc:Work>\r\n    <dc:type rdf:resource=\"http://purl.org/dc/dcmitype/StillImage\"/>\r\n    <dc:date>2020-12-02T11:34:00.025124</dc:date>\r\n    <dc:format>image/svg+xml</dc:format>\r\n    <dc:creator>\r\n     <cc:Agent>\r\n      <dc:title>Matplotlib v3.3.2, https://matplotlib.org/</dc:title>\r\n     </cc:Agent>\r\n    </dc:creator>\r\n   </cc:Work>\r\n  </rdf:RDF>\r\n </metadata>\r\n <defs>\r\n  <style type=\"text/css\">*{stroke-linecap:butt;stroke-linejoin:round;}</style>\r\n </defs>\r\n <g id=\"figure_1\">\r\n  <g id=\"patch_1\">\r\n   <path d=\"M 0 248.518125 \r\nL 375.2875 248.518125 \r\nL 375.2875 0 \r\nL 0 0 \r\nz\r\n\" style=\"fill:none;\"/>\r\n  </g>\r\n  <g id=\"axes_1\">\r\n   <g id=\"patch_2\">\r\n    <path d=\"M 33.2875 224.64 \r\nL 368.0875 224.64 \r\nL 368.0875 7.2 \r\nL 33.2875 7.2 \r\nz\r\n\" style=\"fill:#ffffff;\"/>\r\n   </g>\r\n   <g id=\"patch_3\">\r\n    <path clip-path=\"url(#pead8c60820)\" d=\"M 48.505682 224.64 \r\nL 54.592955 224.64 \r\nL 54.592955 138.94936 \r\nL 48.505682 138.94936 \r\nz\r\n\" style=\"fill:#1f77b4;\"/>\r\n   </g>\r\n   <g id=\"patch_4\">\r\n    <path clip-path=\"url(#pead8c60820)\" d=\"M 54.592955 224.64 \r\nL 60.680227 224.64 \r\nL 60.680227 94.675862 \r\nL 54.592955 94.675862 \r\nz\r\n\" style=\"fill:#1f77b4;\"/>\r\n   </g>\r\n   <g id=\"patch_5\">\r\n    <path clip-path=\"url(#pead8c60820)\" d=\"M 60.680227 224.64 \r\nL 66.7675 224.64 \r\nL 66.7675 100.864631 \r\nL 60.680227 100.864631 \r\nz\r\n\" style=\"fill:#1f77b4;\"/>\r\n   </g>\r\n   <g id=\"patch_6\">\r\n    <path clip-path=\"url(#pead8c60820)\" d=\"M 66.7675 224.64 \r\nL 72.854773 224.64 \r\nL 72.854773 141.805714 \r\nL 66.7675 141.805714 \r\nz\r\n\" style=\"fill:#1f77b4;\"/>\r\n   </g>\r\n   <g id=\"patch_7\">\r\n    <path clip-path=\"url(#pead8c60820)\" d=\"M 72.854773 224.64 \r\nL 78.942045 224.64 \r\nL 78.942045 128.952118 \r\nL 72.854773 128.952118 \r\nz\r\n\" style=\"fill:#1f77b4;\"/>\r\n   </g>\r\n   <g id=\"patch_8\">\r\n    <path clip-path=\"url(#pead8c60820)\" d=\"M 78.942045 224.64 \r\nL 85.029318 224.64 \r\nL 85.029318 155.611429 \r\nL 78.942045 155.611429 \r\nz\r\n\" style=\"fill:#1f77b4;\"/>\r\n   </g>\r\n   <g id=\"patch_9\">\r\n    <path clip-path=\"url(#pead8c60820)\" d=\"M 85.029318 224.64 \r\nL 91.116591 224.64 \r\nL 91.116591 154.65931 \r\nL 85.029318 154.65931 \r\nz\r\n\" style=\"fill:#1f77b4;\"/>\r\n   </g>\r\n   <g id=\"patch_10\">\r\n    <path clip-path=\"url(#pead8c60820)\" d=\"M 91.116591 224.64 \r\nL 97.203864 224.64 \r\nL 97.203864 132.284532 \r\nL 91.116591 132.284532 \r\nz\r\n\" style=\"fill:#1f77b4;\"/>\r\n   </g>\r\n   <g id=\"patch_11\">\r\n    <path clip-path=\"url(#pead8c60820)\" d=\"M 97.203864 224.64 \r\nL 103.291136 224.64 \r\nL 103.291136 119.430936 \r\nL 97.203864 119.430936 \r\nz\r\n\" style=\"fill:#1f77b4;\"/>\r\n   </g>\r\n   <g id=\"patch_12\">\r\n    <path clip-path=\"url(#pead8c60820)\" d=\"M 103.291136 224.64 \r\nL 109.378409 224.64 \r\nL 109.378409 95.151921 \r\nL 103.291136 95.151921 \r\nz\r\n\" style=\"fill:#1f77b4;\"/>\r\n   </g>\r\n   <g id=\"patch_13\">\r\n    <path clip-path=\"url(#pead8c60820)\" d=\"M 109.378409 224.64 \r\nL 115.465682 224.64 \r\nL 115.465682 44.213596 \r\nL 109.378409 44.213596 \r\nz\r\n\" style=\"fill:#1f77b4;\"/>\r\n   </g>\r\n   <g id=\"patch_14\">\r\n    <path clip-path=\"url(#pead8c60820)\" d=\"M 115.465682 224.64 \r\nL 121.552955 224.64 \r\nL 121.552955 40.881182 \r\nL 115.465682 40.881182 \r\nz\r\n\" style=\"fill:#1f77b4;\"/>\r\n   </g>\r\n   <g id=\"patch_15\">\r\n    <path clip-path=\"url(#pead8c60820)\" d=\"M 121.552955 224.64 \r\nL 127.640227 224.64 \r\nL 127.640227 17.554286 \r\nL 121.552955 17.554286 \r\nz\r\n\" style=\"fill:#1f77b4;\"/>\r\n   </g>\r\n   <g id=\"patch_16\">\r\n    <path clip-path=\"url(#pead8c60820)\" d=\"M 127.640227 224.64 \r\nL 133.7275 224.64 \r\nL 133.7275 21.362759 \r\nL 127.640227 21.362759 \r\nz\r\n\" style=\"fill:#1f77b4;\"/>\r\n   </g>\r\n   <g id=\"patch_17\">\r\n    <path clip-path=\"url(#pead8c60820)\" d=\"M 133.7275 224.64 \r\nL 139.814773 224.64 \r\nL 139.814773 23.743054 \r\nL 133.7275 23.743054 \r\nz\r\n\" style=\"fill:#1f77b4;\"/>\r\n   </g>\r\n   <g id=\"patch_18\">\r\n    <path clip-path=\"url(#pead8c60820)\" d=\"M 139.814773 224.64 \r\nL 145.902045 224.64 \r\nL 145.902045 73.729261 \r\nL 139.814773 73.729261 \r\nz\r\n\" style=\"fill:#1f77b4;\"/>\r\n   </g>\r\n   <g id=\"patch_19\">\r\n    <path clip-path=\"url(#pead8c60820)\" d=\"M 145.902045 224.64 \r\nL 151.989318 224.64 \r\nL 151.989318 50.878424 \r\nL 145.902045 50.878424 \r\nz\r\n\" style=\"fill:#1f77b4;\"/>\r\n   </g>\r\n   <g id=\"patch_20\">\r\n    <path clip-path=\"url(#pead8c60820)\" d=\"M 151.989318 224.64 \r\nL 158.076591 224.64 \r\nL 158.076591 71.825025 \r\nL 151.989318 71.825025 \r\nz\r\n\" style=\"fill:#1f77b4;\"/>\r\n   </g>\r\n   <g id=\"patch_21\">\r\n    <path clip-path=\"url(#pead8c60820)\" d=\"M 158.076591 224.64 \r\nL 164.163864 224.64 \r\nL 164.163864 100.388571 \r\nL 158.076591 100.388571 \r\nz\r\n\" style=\"fill:#1f77b4;\"/>\r\n   </g>\r\n   <g id=\"patch_22\">\r\n    <path clip-path=\"url(#pead8c60820)\" d=\"M 164.163864 224.64 \r\nL 170.251136 224.64 \r\nL 170.251136 105.625222 \r\nL 164.163864 105.625222 \r\nz\r\n\" style=\"fill:#1f77b4;\"/>\r\n   </g>\r\n   <g id=\"patch_23\">\r\n    <path clip-path=\"url(#pead8c60820)\" d=\"M 170.251136 224.64 \r\nL 176.338409 224.64 \r\nL 176.338409 112.766108 \r\nL 170.251136 112.766108 \r\nz\r\n\" style=\"fill:#1f77b4;\"/>\r\n   </g>\r\n   <g id=\"patch_24\">\r\n    <path clip-path=\"url(#pead8c60820)\" d=\"M 176.338409 224.64 \r\nL 182.425682 224.64 \r\nL 182.425682 146.090246 \r\nL 176.338409 146.090246 \r\nz\r\n\" style=\"fill:#1f77b4;\"/>\r\n   </g>\r\n   <g id=\"patch_25\">\r\n    <path clip-path=\"url(#pead8c60820)\" d=\"M 182.425682 224.64 \r\nL 188.512955 224.64 \r\nL 188.512955 160.37202 \r\nL 182.425682 160.37202 \r\nz\r\n\" style=\"fill:#1f77b4;\"/>\r\n   </g>\r\n   <g id=\"patch_26\">\r\n    <path clip-path=\"url(#pead8c60820)\" d=\"M 188.512955 224.64 \r\nL 194.600227 224.64 \r\nL 194.600227 167.036847 \r\nL 188.512955 167.036847 \r\nz\r\n\" style=\"fill:#1f77b4;\"/>\r\n   </g>\r\n   <g id=\"patch_27\">\r\n    <path clip-path=\"url(#pead8c60820)\" d=\"M 194.600227 224.64 \r\nL 200.6875 224.64 \r\nL 200.6875 193.696158 \r\nL 194.600227 193.696158 \r\nz\r\n\" style=\"fill:#1f77b4;\"/>\r\n   </g>\r\n   <g id=\"patch_28\">\r\n    <path clip-path=\"url(#pead8c60820)\" d=\"M 200.6875 224.64 \r\nL 206.774773 224.64 \r\nL 206.774773 195.600394 \r\nL 200.6875 195.600394 \r\nz\r\n\" style=\"fill:#1f77b4;\"/>\r\n   </g>\r\n   <g id=\"patch_29\">\r\n    <path clip-path=\"url(#pead8c60820)\" d=\"M 206.774773 224.64 \r\nL 212.862045 224.64 \r\nL 212.862045 209.406108 \r\nL 206.774773 209.406108 \r\nz\r\n\" style=\"fill:#1f77b4;\"/>\r\n   </g>\r\n   <g id=\"patch_30\">\r\n    <path clip-path=\"url(#pead8c60820)\" d=\"M 212.862045 224.64 \r\nL 218.949318 224.64 \r\nL 218.949318 212.262463 \r\nL 212.862045 212.262463 \r\nz\r\n\" style=\"fill:#1f77b4;\"/>\r\n   </g>\r\n   <g id=\"patch_31\">\r\n    <path clip-path=\"url(#pead8c60820)\" d=\"M 218.949318 224.64 \r\nL 225.036591 224.64 \r\nL 225.036591 218.451232 \r\nL 218.949318 218.451232 \r\nz\r\n\" style=\"fill:#1f77b4;\"/>\r\n   </g>\r\n   <g id=\"patch_32\">\r\n    <path clip-path=\"url(#pead8c60820)\" d=\"M 225.036591 224.64 \r\nL 231.123864 224.64 \r\nL 231.123864 223.687882 \r\nL 225.036591 223.687882 \r\nz\r\n\" style=\"fill:#1f77b4;\"/>\r\n   </g>\r\n   <g id=\"patch_33\">\r\n    <path clip-path=\"url(#pead8c60820)\" d=\"M 231.123864 224.64 \r\nL 237.211136 224.64 \r\nL 237.211136 223.687882 \r\nL 231.123864 223.687882 \r\nz\r\n\" style=\"fill:#1f77b4;\"/>\r\n   </g>\r\n   <g id=\"patch_34\">\r\n    <path clip-path=\"url(#pead8c60820)\" d=\"M 237.211136 224.64 \r\nL 243.298409 224.64 \r\nL 243.298409 223.687882 \r\nL 237.211136 223.687882 \r\nz\r\n\" style=\"fill:#1f77b4;\"/>\r\n   </g>\r\n   <g id=\"patch_35\">\r\n    <path clip-path=\"url(#pead8c60820)\" d=\"M 243.298409 224.64 \r\nL 249.385682 224.64 \r\nL 249.385682 224.163941 \r\nL 243.298409 224.163941 \r\nz\r\n\" style=\"fill:#1f77b4;\"/>\r\n   </g>\r\n   <g id=\"patch_36\">\r\n    <path clip-path=\"url(#pead8c60820)\" d=\"M 249.385682 224.64 \r\nL 255.472955 224.64 \r\nL 255.472955 224.163941 \r\nL 249.385682 224.163941 \r\nz\r\n\" style=\"fill:#1f77b4;\"/>\r\n   </g>\r\n   <g id=\"patch_37\">\r\n    <path clip-path=\"url(#pead8c60820)\" d=\"M 255.472955 224.64 \r\nL 261.560227 224.64 \r\nL 261.560227 223.687882 \r\nL 255.472955 223.687882 \r\nz\r\n\" style=\"fill:#1f77b4;\"/>\r\n   </g>\r\n   <g id=\"patch_38\">\r\n    <path clip-path=\"url(#pead8c60820)\" d=\"M 261.560227 224.64 \r\nL 267.6475 224.64 \r\nL 267.6475 224.163941 \r\nL 261.560227 224.163941 \r\nz\r\n\" style=\"fill:#1f77b4;\"/>\r\n   </g>\r\n   <g id=\"patch_39\">\r\n    <path clip-path=\"url(#pead8c60820)\" d=\"M 267.6475 224.64 \r\nL 273.734773 224.64 \r\nL 273.734773 224.64 \r\nL 267.6475 224.64 \r\nz\r\n\" style=\"fill:#1f77b4;\"/>\r\n   </g>\r\n   <g id=\"patch_40\">\r\n    <path clip-path=\"url(#pead8c60820)\" d=\"M 273.734773 224.64 \r\nL 279.822045 224.64 \r\nL 279.822045 224.64 \r\nL 273.734773 224.64 \r\nz\r\n\" style=\"fill:#1f77b4;\"/>\r\n   </g>\r\n   <g id=\"patch_41\">\r\n    <path clip-path=\"url(#pead8c60820)\" d=\"M 279.822045 224.64 \r\nL 285.909318 224.64 \r\nL 285.909318 224.163941 \r\nL 279.822045 224.163941 \r\nz\r\n\" style=\"fill:#1f77b4;\"/>\r\n   </g>\r\n   <g id=\"patch_42\">\r\n    <path clip-path=\"url(#pead8c60820)\" d=\"M 285.909318 224.64 \r\nL 291.996591 224.64 \r\nL 291.996591 224.64 \r\nL 285.909318 224.64 \r\nz\r\n\" style=\"fill:#1f77b4;\"/>\r\n   </g>\r\n   <g id=\"patch_43\">\r\n    <path clip-path=\"url(#pead8c60820)\" d=\"M 291.996591 224.64 \r\nL 298.083864 224.64 \r\nL 298.083864 224.64 \r\nL 291.996591 224.64 \r\nz\r\n\" style=\"fill:#1f77b4;\"/>\r\n   </g>\r\n   <g id=\"patch_44\">\r\n    <path clip-path=\"url(#pead8c60820)\" d=\"M 298.083864 224.64 \r\nL 304.171136 224.64 \r\nL 304.171136 224.163941 \r\nL 298.083864 224.163941 \r\nz\r\n\" style=\"fill:#1f77b4;\"/>\r\n   </g>\r\n   <g id=\"patch_45\">\r\n    <path clip-path=\"url(#pead8c60820)\" d=\"M 304.171136 224.64 \r\nL 310.258409 224.64 \r\nL 310.258409 224.64 \r\nL 304.171136 224.64 \r\nz\r\n\" style=\"fill:#1f77b4;\"/>\r\n   </g>\r\n   <g id=\"patch_46\">\r\n    <path clip-path=\"url(#pead8c60820)\" d=\"M 310.258409 224.64 \r\nL 316.345682 224.64 \r\nL 316.345682 224.64 \r\nL 310.258409 224.64 \r\nz\r\n\" style=\"fill:#1f77b4;\"/>\r\n   </g>\r\n   <g id=\"patch_47\">\r\n    <path clip-path=\"url(#pead8c60820)\" d=\"M 316.345682 224.64 \r\nL 322.432955 224.64 \r\nL 322.432955 224.64 \r\nL 316.345682 224.64 \r\nz\r\n\" style=\"fill:#1f77b4;\"/>\r\n   </g>\r\n   <g id=\"patch_48\">\r\n    <path clip-path=\"url(#pead8c60820)\" d=\"M 322.432955 224.64 \r\nL 328.520227 224.64 \r\nL 328.520227 224.64 \r\nL 322.432955 224.64 \r\nz\r\n\" style=\"fill:#1f77b4;\"/>\r\n   </g>\r\n   <g id=\"patch_49\">\r\n    <path clip-path=\"url(#pead8c60820)\" d=\"M 328.520227 224.64 \r\nL 334.6075 224.64 \r\nL 334.6075 224.64 \r\nL 328.520227 224.64 \r\nz\r\n\" style=\"fill:#1f77b4;\"/>\r\n   </g>\r\n   <g id=\"patch_50\">\r\n    <path clip-path=\"url(#pead8c60820)\" d=\"M 334.6075 224.64 \r\nL 340.694773 224.64 \r\nL 340.694773 224.64 \r\nL 334.6075 224.64 \r\nz\r\n\" style=\"fill:#1f77b4;\"/>\r\n   </g>\r\n   <g id=\"patch_51\">\r\n    <path clip-path=\"url(#pead8c60820)\" d=\"M 340.694773 224.64 \r\nL 346.782045 224.64 \r\nL 346.782045 224.64 \r\nL 340.694773 224.64 \r\nz\r\n\" style=\"fill:#1f77b4;\"/>\r\n   </g>\r\n   <g id=\"patch_52\">\r\n    <path clip-path=\"url(#pead8c60820)\" d=\"M 346.782045 224.64 \r\nL 352.869318 224.64 \r\nL 352.869318 224.163941 \r\nL 346.782045 224.163941 \r\nz\r\n\" style=\"fill:#1f77b4;\"/>\r\n   </g>\r\n   <g id=\"matplotlib.axis_1\">\r\n    <g id=\"xtick_1\">\r\n     <g id=\"line2d_1\">\r\n      <path clip-path=\"url(#pead8c60820)\" d=\"M 44.29789 224.64 \r\nL 44.29789 7.2 \r\n\" style=\"fill:none;stroke:#b0b0b0;stroke-linecap:square;stroke-width:0.8;\"/>\r\n     </g>\r\n     <g id=\"line2d_2\">\r\n      <defs>\r\n       <path d=\"M 0 0 \r\nL 0 3.5 \r\n\" id=\"m7dd3644a39\" style=\"stroke:#000000;stroke-width:0.8;\"/>\r\n      </defs>\r\n      <g>\r\n       <use style=\"stroke:#000000;stroke-width:0.8;\" x=\"44.29789\" xlink:href=\"#m7dd3644a39\" y=\"224.64\"/>\r\n      </g>\r\n     </g>\r\n     <g id=\"text_1\">\r\n      <!-- 0 -->\r\n      <g transform=\"translate(41.11664 239.238437)scale(0.1 -0.1)\">\r\n       <defs>\r\n        <path d=\"M 31.78125 66.40625 \r\nQ 24.171875 66.40625 20.328125 58.90625 \r\nQ 16.5 51.421875 16.5 36.375 \r\nQ 16.5 21.390625 20.328125 13.890625 \r\nQ 24.171875 6.390625 31.78125 6.390625 \r\nQ 39.453125 6.390625 43.28125 13.890625 \r\nQ 47.125 21.390625 47.125 36.375 \r\nQ 47.125 51.421875 43.28125 58.90625 \r\nQ 39.453125 66.40625 31.78125 66.40625 \r\nz\r\nM 31.78125 74.21875 \r\nQ 44.046875 74.21875 50.515625 64.515625 \r\nQ 56.984375 54.828125 56.984375 36.375 \r\nQ 56.984375 17.96875 50.515625 8.265625 \r\nQ 44.046875 -1.421875 31.78125 -1.421875 \r\nQ 19.53125 -1.421875 13.0625 8.265625 \r\nQ 6.59375 17.96875 6.59375 36.375 \r\nQ 6.59375 54.828125 13.0625 64.515625 \r\nQ 19.53125 74.21875 31.78125 74.21875 \r\nz\r\n\" id=\"DejaVuSans-48\"/>\r\n       </defs>\r\n       <use xlink:href=\"#DejaVuSans-48\"/>\r\n      </g>\r\n     </g>\r\n    </g>\r\n    <g id=\"xtick_2\">\r\n     <g id=\"line2d_3\">\r\n      <path clip-path=\"url(#pead8c60820)\" d=\"M 114.42776 224.64 \r\nL 114.42776 7.2 \r\n\" style=\"fill:none;stroke:#b0b0b0;stroke-linecap:square;stroke-width:0.8;\"/>\r\n     </g>\r\n     <g id=\"line2d_4\">\r\n      <g>\r\n       <use style=\"stroke:#000000;stroke-width:0.8;\" x=\"114.42776\" xlink:href=\"#m7dd3644a39\" y=\"224.64\"/>\r\n      </g>\r\n     </g>\r\n     <g id=\"text_2\">\r\n      <!-- 100 -->\r\n      <g transform=\"translate(104.88401 239.238437)scale(0.1 -0.1)\">\r\n       <defs>\r\n        <path d=\"M 12.40625 8.296875 \r\nL 28.515625 8.296875 \r\nL 28.515625 63.921875 \r\nL 10.984375 60.40625 \r\nL 10.984375 69.390625 \r\nL 28.421875 72.90625 \r\nL 38.28125 72.90625 \r\nL 38.28125 8.296875 \r\nL 54.390625 8.296875 \r\nL 54.390625 0 \r\nL 12.40625 0 \r\nz\r\n\" id=\"DejaVuSans-49\"/>\r\n       </defs>\r\n       <use xlink:href=\"#DejaVuSans-49\"/>\r\n       <use x=\"63.623047\" xlink:href=\"#DejaVuSans-48\"/>\r\n       <use x=\"127.246094\" xlink:href=\"#DejaVuSans-48\"/>\r\n      </g>\r\n     </g>\r\n    </g>\r\n    <g id=\"xtick_3\">\r\n     <g id=\"line2d_5\">\r\n      <path clip-path=\"url(#pead8c60820)\" d=\"M 184.55763 224.64 \r\nL 184.55763 7.2 \r\n\" style=\"fill:none;stroke:#b0b0b0;stroke-linecap:square;stroke-width:0.8;\"/>\r\n     </g>\r\n     <g id=\"line2d_6\">\r\n      <g>\r\n       <use style=\"stroke:#000000;stroke-width:0.8;\" x=\"184.55763\" xlink:href=\"#m7dd3644a39\" y=\"224.64\"/>\r\n      </g>\r\n     </g>\r\n     <g id=\"text_3\">\r\n      <!-- 200 -->\r\n      <g transform=\"translate(175.01388 239.238437)scale(0.1 -0.1)\">\r\n       <defs>\r\n        <path d=\"M 19.1875 8.296875 \r\nL 53.609375 8.296875 \r\nL 53.609375 0 \r\nL 7.328125 0 \r\nL 7.328125 8.296875 \r\nQ 12.9375 14.109375 22.625 23.890625 \r\nQ 32.328125 33.6875 34.8125 36.53125 \r\nQ 39.546875 41.84375 41.421875 45.53125 \r\nQ 43.3125 49.21875 43.3125 52.78125 \r\nQ 43.3125 58.59375 39.234375 62.25 \r\nQ 35.15625 65.921875 28.609375 65.921875 \r\nQ 23.96875 65.921875 18.8125 64.3125 \r\nQ 13.671875 62.703125 7.8125 59.421875 \r\nL 7.8125 69.390625 \r\nQ 13.765625 71.78125 18.9375 73 \r\nQ 24.125 74.21875 28.421875 74.21875 \r\nQ 39.75 74.21875 46.484375 68.546875 \r\nQ 53.21875 62.890625 53.21875 53.421875 \r\nQ 53.21875 48.921875 51.53125 44.890625 \r\nQ 49.859375 40.875 45.40625 35.40625 \r\nQ 44.1875 33.984375 37.640625 27.21875 \r\nQ 31.109375 20.453125 19.1875 8.296875 \r\nz\r\n\" id=\"DejaVuSans-50\"/>\r\n       </defs>\r\n       <use xlink:href=\"#DejaVuSans-50\"/>\r\n       <use x=\"63.623047\" xlink:href=\"#DejaVuSans-48\"/>\r\n       <use x=\"127.246094\" xlink:href=\"#DejaVuSans-48\"/>\r\n      </g>\r\n     </g>\r\n    </g>\r\n    <g id=\"xtick_4\">\r\n     <g id=\"line2d_7\">\r\n      <path clip-path=\"url(#pead8c60820)\" d=\"M 254.6875 224.64 \r\nL 254.6875 7.2 \r\n\" style=\"fill:none;stroke:#b0b0b0;stroke-linecap:square;stroke-width:0.8;\"/>\r\n     </g>\r\n     <g id=\"line2d_8\">\r\n      <g>\r\n       <use style=\"stroke:#000000;stroke-width:0.8;\" x=\"254.6875\" xlink:href=\"#m7dd3644a39\" y=\"224.64\"/>\r\n      </g>\r\n     </g>\r\n     <g id=\"text_4\">\r\n      <!-- 300 -->\r\n      <g transform=\"translate(245.14375 239.238437)scale(0.1 -0.1)\">\r\n       <defs>\r\n        <path d=\"M 40.578125 39.3125 \r\nQ 47.65625 37.796875 51.625 33 \r\nQ 55.609375 28.21875 55.609375 21.1875 \r\nQ 55.609375 10.40625 48.1875 4.484375 \r\nQ 40.765625 -1.421875 27.09375 -1.421875 \r\nQ 22.515625 -1.421875 17.65625 -0.515625 \r\nQ 12.796875 0.390625 7.625 2.203125 \r\nL 7.625 11.71875 \r\nQ 11.71875 9.328125 16.59375 8.109375 \r\nQ 21.484375 6.890625 26.8125 6.890625 \r\nQ 36.078125 6.890625 40.9375 10.546875 \r\nQ 45.796875 14.203125 45.796875 21.1875 \r\nQ 45.796875 27.640625 41.28125 31.265625 \r\nQ 36.765625 34.90625 28.71875 34.90625 \r\nL 20.21875 34.90625 \r\nL 20.21875 43.015625 \r\nL 29.109375 43.015625 \r\nQ 36.375 43.015625 40.234375 45.921875 \r\nQ 44.09375 48.828125 44.09375 54.296875 \r\nQ 44.09375 59.90625 40.109375 62.90625 \r\nQ 36.140625 65.921875 28.71875 65.921875 \r\nQ 24.65625 65.921875 20.015625 65.03125 \r\nQ 15.375 64.15625 9.8125 62.3125 \r\nL 9.8125 71.09375 \r\nQ 15.4375 72.65625 20.34375 73.4375 \r\nQ 25.25 74.21875 29.59375 74.21875 \r\nQ 40.828125 74.21875 47.359375 69.109375 \r\nQ 53.90625 64.015625 53.90625 55.328125 \r\nQ 53.90625 49.265625 50.4375 45.09375 \r\nQ 46.96875 40.921875 40.578125 39.3125 \r\nz\r\n\" id=\"DejaVuSans-51\"/>\r\n       </defs>\r\n       <use xlink:href=\"#DejaVuSans-51\"/>\r\n       <use x=\"63.623047\" xlink:href=\"#DejaVuSans-48\"/>\r\n       <use x=\"127.246094\" xlink:href=\"#DejaVuSans-48\"/>\r\n      </g>\r\n     </g>\r\n    </g>\r\n    <g id=\"xtick_5\">\r\n     <g id=\"line2d_9\">\r\n      <path clip-path=\"url(#pead8c60820)\" d=\"M 324.81737 224.64 \r\nL 324.81737 7.2 \r\n\" style=\"fill:none;stroke:#b0b0b0;stroke-linecap:square;stroke-width:0.8;\"/>\r\n     </g>\r\n     <g id=\"line2d_10\">\r\n      <g>\r\n       <use style=\"stroke:#000000;stroke-width:0.8;\" x=\"324.81737\" xlink:href=\"#m7dd3644a39\" y=\"224.64\"/>\r\n      </g>\r\n     </g>\r\n     <g id=\"text_5\">\r\n      <!-- 400 -->\r\n      <g transform=\"translate(315.27362 239.238437)scale(0.1 -0.1)\">\r\n       <defs>\r\n        <path d=\"M 37.796875 64.3125 \r\nL 12.890625 25.390625 \r\nL 37.796875 25.390625 \r\nz\r\nM 35.203125 72.90625 \r\nL 47.609375 72.90625 \r\nL 47.609375 25.390625 \r\nL 58.015625 25.390625 \r\nL 58.015625 17.1875 \r\nL 47.609375 17.1875 \r\nL 47.609375 0 \r\nL 37.796875 0 \r\nL 37.796875 17.1875 \r\nL 4.890625 17.1875 \r\nL 4.890625 26.703125 \r\nz\r\n\" id=\"DejaVuSans-52\"/>\r\n       </defs>\r\n       <use xlink:href=\"#DejaVuSans-52\"/>\r\n       <use x=\"63.623047\" xlink:href=\"#DejaVuSans-48\"/>\r\n       <use x=\"127.246094\" xlink:href=\"#DejaVuSans-48\"/>\r\n      </g>\r\n     </g>\r\n    </g>\r\n   </g>\r\n   <g id=\"matplotlib.axis_2\">\r\n    <g id=\"ytick_1\">\r\n     <g id=\"line2d_11\">\r\n      <path clip-path=\"url(#pead8c60820)\" d=\"M 33.2875 224.64 \r\nL 368.0875 224.64 \r\n\" style=\"fill:none;stroke:#b0b0b0;stroke-linecap:square;stroke-width:0.8;\"/>\r\n     </g>\r\n     <g id=\"line2d_12\">\r\n      <defs>\r\n       <path d=\"M 0 0 \r\nL -3.5 0 \r\n\" id=\"m9d192f7558\" style=\"stroke:#000000;stroke-width:0.8;\"/>\r\n      </defs>\r\n      <g>\r\n       <use style=\"stroke:#000000;stroke-width:0.8;\" x=\"33.2875\" xlink:href=\"#m9d192f7558\" y=\"224.64\"/>\r\n      </g>\r\n     </g>\r\n     <g id=\"text_6\">\r\n      <!-- 0 -->\r\n      <g transform=\"translate(19.925 228.439219)scale(0.1 -0.1)\">\r\n       <use xlink:href=\"#DejaVuSans-48\"/>\r\n      </g>\r\n     </g>\r\n    </g>\r\n    <g id=\"ytick_2\">\r\n     <g id=\"line2d_13\">\r\n      <path clip-path=\"url(#pead8c60820)\" d=\"M 33.2875 177.034089 \r\nL 368.0875 177.034089 \r\n\" style=\"fill:none;stroke:#b0b0b0;stroke-linecap:square;stroke-width:0.8;\"/>\r\n     </g>\r\n     <g id=\"line2d_14\">\r\n      <g>\r\n       <use style=\"stroke:#000000;stroke-width:0.8;\" x=\"33.2875\" xlink:href=\"#m9d192f7558\" y=\"177.034089\"/>\r\n      </g>\r\n     </g>\r\n     <g id=\"text_7\">\r\n      <!-- 100 -->\r\n      <g transform=\"translate(7.2 180.833307)scale(0.1 -0.1)\">\r\n       <use xlink:href=\"#DejaVuSans-49\"/>\r\n       <use x=\"63.623047\" xlink:href=\"#DejaVuSans-48\"/>\r\n       <use x=\"127.246094\" xlink:href=\"#DejaVuSans-48\"/>\r\n      </g>\r\n     </g>\r\n    </g>\r\n    <g id=\"ytick_3\">\r\n     <g id=\"line2d_15\">\r\n      <path clip-path=\"url(#pead8c60820)\" d=\"M 33.2875 129.428177 \r\nL 368.0875 129.428177 \r\n\" style=\"fill:none;stroke:#b0b0b0;stroke-linecap:square;stroke-width:0.8;\"/>\r\n     </g>\r\n     <g id=\"line2d_16\">\r\n      <g>\r\n       <use style=\"stroke:#000000;stroke-width:0.8;\" x=\"33.2875\" xlink:href=\"#m9d192f7558\" y=\"129.428177\"/>\r\n      </g>\r\n     </g>\r\n     <g id=\"text_8\">\r\n      <!-- 200 -->\r\n      <g transform=\"translate(7.2 133.227396)scale(0.1 -0.1)\">\r\n       <use xlink:href=\"#DejaVuSans-50\"/>\r\n       <use x=\"63.623047\" xlink:href=\"#DejaVuSans-48\"/>\r\n       <use x=\"127.246094\" xlink:href=\"#DejaVuSans-48\"/>\r\n      </g>\r\n     </g>\r\n    </g>\r\n    <g id=\"ytick_4\">\r\n     <g id=\"line2d_17\">\r\n      <path clip-path=\"url(#pead8c60820)\" d=\"M 33.2875 81.822266 \r\nL 368.0875 81.822266 \r\n\" style=\"fill:none;stroke:#b0b0b0;stroke-linecap:square;stroke-width:0.8;\"/>\r\n     </g>\r\n     <g id=\"line2d_18\">\r\n      <g>\r\n       <use style=\"stroke:#000000;stroke-width:0.8;\" x=\"33.2875\" xlink:href=\"#m9d192f7558\" y=\"81.822266\"/>\r\n      </g>\r\n     </g>\r\n     <g id=\"text_9\">\r\n      <!-- 300 -->\r\n      <g transform=\"translate(7.2 85.621485)scale(0.1 -0.1)\">\r\n       <use xlink:href=\"#DejaVuSans-51\"/>\r\n       <use x=\"63.623047\" xlink:href=\"#DejaVuSans-48\"/>\r\n       <use x=\"127.246094\" xlink:href=\"#DejaVuSans-48\"/>\r\n      </g>\r\n     </g>\r\n    </g>\r\n    <g id=\"ytick_5\">\r\n     <g id=\"line2d_19\">\r\n      <path clip-path=\"url(#pead8c60820)\" d=\"M 33.2875 34.216355 \r\nL 368.0875 34.216355 \r\n\" style=\"fill:none;stroke:#b0b0b0;stroke-linecap:square;stroke-width:0.8;\"/>\r\n     </g>\r\n     <g id=\"line2d_20\">\r\n      <g>\r\n       <use style=\"stroke:#000000;stroke-width:0.8;\" x=\"33.2875\" xlink:href=\"#m9d192f7558\" y=\"34.216355\"/>\r\n      </g>\r\n     </g>\r\n     <g id=\"text_10\">\r\n      <!-- 400 -->\r\n      <g transform=\"translate(7.2 38.015573)scale(0.1 -0.1)\">\r\n       <use xlink:href=\"#DejaVuSans-52\"/>\r\n       <use x=\"63.623047\" xlink:href=\"#DejaVuSans-48\"/>\r\n       <use x=\"127.246094\" xlink:href=\"#DejaVuSans-48\"/>\r\n      </g>\r\n     </g>\r\n    </g>\r\n   </g>\r\n   <g id=\"patch_53\">\r\n    <path d=\"M 33.2875 224.64 \r\nL 33.2875 7.2 \r\n\" style=\"fill:none;stroke:#000000;stroke-linecap:square;stroke-linejoin:miter;stroke-width:0.8;\"/>\r\n   </g>\r\n   <g id=\"patch_54\">\r\n    <path d=\"M 368.0875 224.64 \r\nL 368.0875 7.2 \r\n\" style=\"fill:none;stroke:#000000;stroke-linecap:square;stroke-linejoin:miter;stroke-width:0.8;\"/>\r\n   </g>\r\n   <g id=\"patch_55\">\r\n    <path d=\"M 33.2875 224.64 \r\nL 368.0875 224.64 \r\n\" style=\"fill:none;stroke:#000000;stroke-linecap:square;stroke-linejoin:miter;stroke-width:0.8;\"/>\r\n   </g>\r\n   <g id=\"patch_56\">\r\n    <path d=\"M 33.2875 7.2 \r\nL 368.0875 7.2 \r\n\" style=\"fill:none;stroke:#000000;stroke-linecap:square;stroke-linejoin:miter;stroke-width:0.8;\"/>\r\n   </g>\r\n  </g>\r\n </g>\r\n <defs>\r\n  <clipPath id=\"pead8c60820\">\r\n   <rect height=\"217.44\" width=\"334.8\" x=\"33.2875\" y=\"7.2\"/>\r\n  </clipPath>\r\n </defs>\r\n</svg>\r\n",
      "image/png": "[encoded data removed]"
     },
     "metadata": {
      "needs_background": "light"
     }
    }
   ],
   "source": [
    "wines['total sulfur dioxide'].hist(bins = 50);"
   ]
  },
  {
   "cell_type": "code",
   "execution_count": 27,
   "metadata": {},
   "outputs": [
    {
     "output_type": "display_data",
     "data": {
      "text/plain": "<Figure size 1296x288 with 0 Axes>"
     },
     "metadata": {}
    }
   ],
   "source": [
    "fig = plt.figure(figsize = (18, 4))"
   ]
  },
  {
   "cell_type": "code",
   "execution_count": 28,
   "metadata": {},
   "outputs": [],
   "source": [
    "title = fig.suptitle(\"Wine Type Vs Quality\", fontsize=14)"
   ]
  },
  {
   "cell_type": "code",
   "execution_count": 29,
   "metadata": {},
   "outputs": [],
   "source": [
    "fig.subplots_adjust(top=0.85, wspace=0.3)"
   ]
  },
  {
   "cell_type": "code",
   "execution_count": 30,
   "metadata": {},
   "outputs": [
    {
     "output_type": "error",
     "ename": "AttributeError",
     "evalue": "'DataFrame' object has no attribute 'type'",
     "traceback": [
      "\u001b[1;31m---------------------------------------------------------------------------\u001b[0m",
      "\u001b[1;31mAttributeError\u001b[0m                            Traceback (most recent call last)",
      "\u001b[1;32m<ipython-input-30-7f2ebd1aef30>\u001b[0m in \u001b[0;36m<module>\u001b[1;34m\u001b[0m\n\u001b[0;32m      3\u001b[0m \u001b[0max1\u001b[0m\u001b[1;33m.\u001b[0m\u001b[0mset_xlabel\u001b[0m\u001b[1;33m(\u001b[0m\u001b[1;34m\"Quality\"\u001b[0m\u001b[1;33m)\u001b[0m\u001b[1;33m\u001b[0m\u001b[1;33m\u001b[0m\u001b[0m\n\u001b[0;32m      4\u001b[0m \u001b[0max1\u001b[0m\u001b[1;33m.\u001b[0m\u001b[0mset_ylabel\u001b[0m\u001b[1;33m(\u001b[0m\u001b[1;34m\"Frequency\"\u001b[0m\u001b[1;33m)\u001b[0m\u001b[1;33m\u001b[0m\u001b[1;33m\u001b[0m\u001b[0m\n\u001b[1;32m----> 5\u001b[1;33m \u001b[0mrw_q\u001b[0m \u001b[1;33m=\u001b[0m \u001b[0mwines\u001b[0m\u001b[1;33m[\u001b[0m\u001b[1;34m'quality'\u001b[0m\u001b[1;33m]\u001b[0m\u001b[1;33m[\u001b[0m\u001b[0mwines\u001b[0m\u001b[1;33m.\u001b[0m\u001b[0mtype\u001b[0m \u001b[1;33m==\u001b[0m \u001b[1;34m'red'\u001b[0m\u001b[1;33m]\u001b[0m\u001b[1;33m.\u001b[0m\u001b[0mvalue_counts\u001b[0m\u001b[1;33m(\u001b[0m\u001b[1;33m)\u001b[0m\u001b[1;33m\u001b[0m\u001b[1;33m\u001b[0m\u001b[0m\n\u001b[0m\u001b[0;32m      6\u001b[0m \u001b[0mrw_q\u001b[0m \u001b[1;33m=\u001b[0m \u001b[1;33m(\u001b[0m\u001b[0mlist\u001b[0m\u001b[1;33m(\u001b[0m\u001b[0mrw_q\u001b[0m\u001b[1;33m.\u001b[0m\u001b[0mindex\u001b[0m\u001b[1;33m)\u001b[0m\u001b[1;33m,\u001b[0m \u001b[0mlist\u001b[0m\u001b[1;33m(\u001b[0m\u001b[0mrw_q\u001b[0m\u001b[1;33m.\u001b[0m\u001b[0mvalues\u001b[0m\u001b[1;33m)\u001b[0m\u001b[1;33m)\u001b[0m\u001b[1;33m\u001b[0m\u001b[1;33m\u001b[0m\u001b[0m\n\u001b[0;32m      7\u001b[0m \u001b[0max1\u001b[0m\u001b[1;33m.\u001b[0m\u001b[0mset_ylim\u001b[0m\u001b[1;33m(\u001b[0m\u001b[1;33m[\u001b[0m\u001b[1;36m0\u001b[0m\u001b[1;33m,\u001b[0m \u001b[1;36m2500\u001b[0m\u001b[1;33m]\u001b[0m\u001b[1;33m)\u001b[0m\u001b[1;33m\u001b[0m\u001b[1;33m\u001b[0m\u001b[0m\n",
      "\u001b[1;32m~\\anaconda3\\lib\\site-packages\\pandas\\core\\generic.py\u001b[0m in \u001b[0;36m__getattr__\u001b[1;34m(self, name)\u001b[0m\n\u001b[0;32m   5137\u001b[0m             \u001b[1;32mif\u001b[0m \u001b[0mself\u001b[0m\u001b[1;33m.\u001b[0m\u001b[0m_info_axis\u001b[0m\u001b[1;33m.\u001b[0m\u001b[0m_can_hold_identifiers_and_holds_name\u001b[0m\u001b[1;33m(\u001b[0m\u001b[0mname\u001b[0m\u001b[1;33m)\u001b[0m\u001b[1;33m:\u001b[0m\u001b[1;33m\u001b[0m\u001b[1;33m\u001b[0m\u001b[0m\n\u001b[0;32m   5138\u001b[0m                 \u001b[1;32mreturn\u001b[0m \u001b[0mself\u001b[0m\u001b[1;33m[\u001b[0m\u001b[0mname\u001b[0m\u001b[1;33m]\u001b[0m\u001b[1;33m\u001b[0m\u001b[1;33m\u001b[0m\u001b[0m\n\u001b[1;32m-> 5139\u001b[1;33m             \u001b[1;32mreturn\u001b[0m \u001b[0mobject\u001b[0m\u001b[1;33m.\u001b[0m\u001b[0m__getattribute__\u001b[0m\u001b[1;33m(\u001b[0m\u001b[0mself\u001b[0m\u001b[1;33m,\u001b[0m \u001b[0mname\u001b[0m\u001b[1;33m)\u001b[0m\u001b[1;33m\u001b[0m\u001b[1;33m\u001b[0m\u001b[0m\n\u001b[0m\u001b[0;32m   5140\u001b[0m \u001b[1;33m\u001b[0m\u001b[0m\n\u001b[0;32m   5141\u001b[0m     \u001b[1;32mdef\u001b[0m \u001b[0m__setattr__\u001b[0m\u001b[1;33m(\u001b[0m\u001b[0mself\u001b[0m\u001b[1;33m,\u001b[0m \u001b[0mname\u001b[0m\u001b[1;33m:\u001b[0m \u001b[0mstr\u001b[0m\u001b[1;33m,\u001b[0m \u001b[0mvalue\u001b[0m\u001b[1;33m)\u001b[0m \u001b[1;33m->\u001b[0m \u001b[1;32mNone\u001b[0m\u001b[1;33m:\u001b[0m\u001b[1;33m\u001b[0m\u001b[1;33m\u001b[0m\u001b[0m\n",
      "\u001b[1;31mAttributeError\u001b[0m: 'DataFrame' object has no attribute 'type'"
     ]
    }
   ],
   "source": [
    "ax1 = fig.add_subplot(1,4, 1)\n",
    "ax1.set_title(\"Red Wine\")\n",
    "ax1.set_xlabel(\"Quality\")\n",
    "ax1.set_ylabel(\"Frequency\") \n",
    "rw_q = wines['quality'][wines.type == 'red'].value_counts()\n",
    "rw_q = (list(rw_q.index), list(rw_q.values))\n",
    "ax1.set_ylim([0, 2500])\n",
    "ax1.tick_params(axis='both', which='major', labelsize=8.5)\n",
    "bar1 = ax1.bar(rw_q[0], rw_q[1], color='red', edgecolor='black', linewidth=1)"
   ]
  },
  {
   "cell_type": "code",
   "execution_count": 32,
   "metadata": {},
   "outputs": [
    {
     "output_type": "error",
     "ename": "NameError",
     "evalue": "name 'rw_q' is not defined",
     "traceback": [
      "\u001b[1;31m---------------------------------------------------------------------------\u001b[0m",
      "\u001b[1;31mNameError\u001b[0m                                 Traceback (most recent call last)",
      "\u001b[1;32m<ipython-input-32-2f58ff30fe83>\u001b[0m in \u001b[0;36m<module>\u001b[1;34m\u001b[0m\n\u001b[1;32m----> 1\u001b[1;33m \u001b[0mrw_q\u001b[0m\u001b[1;33m[\u001b[0m\u001b[1;36m1\u001b[0m\u001b[1;33m]\u001b[0m\u001b[1;33m\u001b[0m\u001b[1;33m\u001b[0m\u001b[0m\n\u001b[0m",
      "\u001b[1;31mNameError\u001b[0m: name 'rw_q' is not defined"
     ]
    }
   ],
   "source": [
    "rw_q[1]"
   ]
  },
  {
   "cell_type": "code",
   "execution_count": 33,
   "metadata": {},
   "outputs": [],
   "source": [
    "ax1 = fig.add_subplot(1,4, 1)"
   ]
  },
  {
   "cell_type": "code",
   "execution_count": 34,
   "metadata": {},
   "outputs": [
    {
     "output_type": "execute_result",
     "data": {
      "text/plain": [
       "Text(0.5, 1.0, 'Red Wine')"
      ]
     },
     "metadata": {},
     "execution_count": 34
    }
   ],
   "source": [
    "ax1.set_title(\"Red Wine\")"
   ]
  },
  {
   "cell_type": "code",
   "execution_count": 35,
   "metadata": {},
   "outputs": [
    {
     "output_type": "execute_result",
     "data": {
      "text/plain": [
       "Text(0.5, 0, 'Quality')"
      ]
     },
     "metadata": {},
     "execution_count": 35
    }
   ],
   "source": [
    "ax1.set_xlabel(\"Quality\")"
   ]
  },
  {
   "cell_type": "code",
   "execution_count": 36,
   "metadata": {},
   "outputs": [
    {
     "output_type": "execute_result",
     "data": {
      "text/plain": [
       "Text(0, 0.5, 'Frequency')"
      ]
     },
     "metadata": {},
     "execution_count": 36
    }
   ],
   "source": [
    "ax1.set_ylabel(\"Frequency\")"
   ]
  },
  {
   "cell_type": "code",
   "execution_count": 38,
   "metadata": {},
   "outputs": [],
   "source": [
    "rw_q = wines['quality'][wines.wine_type == 'red'].value_counts()"
   ]
  },
  {
   "cell_type": "code",
   "execution_count": 39,
   "metadata": {},
   "outputs": [],
   "source": [
    "rw_q = (list(rw_q.index), list(rw_q.values))"
   ]
  },
  {
   "cell_type": "code",
   "execution_count": 40,
   "metadata": {},
   "outputs": [
    {
     "output_type": "execute_result",
     "data": {
      "text/plain": [
       "(0.0, 2500.0)"
      ]
     },
     "metadata": {},
     "execution_count": 40
    }
   ],
   "source": [
    "ax1.set_ylim([0, 2500])"
   ]
  },
  {
   "cell_type": "code",
   "execution_count": 41,
   "metadata": {},
   "outputs": [],
   "source": [
    "ax1.tick_params(axis='both', which='major', labelsize=8.5)"
   ]
  },
  {
   "cell_type": "code",
   "execution_count": 42,
   "metadata": {},
   "outputs": [],
   "source": [
    "bar1 = ax1.bar(rw_q[0], rw_q[1], color='red', edgecolor='black', linewidth=1)"
   ]
  },
  {
   "cell_type": "code",
   "execution_count": 43,
   "metadata": {},
   "outputs": [
    {
     "output_type": "execute_result",
     "data": {
      "text/plain": [
       "[681, 638, 199, 53, 18, 10]"
      ]
     },
     "metadata": {},
     "execution_count": 43
    }
   ],
   "source": [
    "rw_q[1]"
   ]
  },
  {
   "cell_type": "code",
   "execution_count": 48,
   "metadata": {},
   "outputs": [
    {
     "output_type": "display_data",
     "data": {
      "text/plain": "<Figure size 1296x288 with 1 Axes>",
      "image/svg+xml": "<?xml version=\"1.0\" encoding=\"utf-8\" standalone=\"no\"?>\r\n<!DOCTYPE svg PUBLIC \"-//W3C//DTD SVG 1.1//EN\"\r\n  \"http://www.w3.org/Graphics/SVG/1.1/DTD/svg11.dtd\">\r\n<!-- Created with matplotlib (https://matplotlib.org/) -->\r\n<svg height=\"290.99625pt\" version=\"1.1\" viewBox=\"0 0 610.631094 290.99625\" width=\"610.631094pt\" xmlns=\"http://www.w3.org/2000/svg\" xmlns:xlink=\"http://www.w3.org/1999/xlink\">\r\n <metadata>\r\n  <rdf:RDF xmlns:cc=\"http://creativecommons.org/ns#\" xmlns:dc=\"http://purl.org/dc/elements/1.1/\" xmlns:rdf=\"http://www.w3.org/1999/02/22-rdf-syntax-ns#\">\r\n   <cc:Work>\r\n    <dc:type rdf:resource=\"http://purl.org/dc/dcmitype/StillImage\"/>\r\n    <dc:date>2020-12-02T12:06:19.640853</dc:date>\r\n    <dc:format>image/svg+xml</dc:format>\r\n    <dc:creator>\r\n     <cc:Agent>\r\n      <dc:title>Matplotlib v3.3.2, https://matplotlib.org/</dc:title>\r\n     </cc:Agent>\r\n    </dc:creator>\r\n   </cc:Work>\r\n  </rdf:RDF>\r\n </metadata>\r\n <defs>\r\n  <style type=\"text/css\">*{stroke-linecap:butt;stroke-linejoin:round;}</style>\r\n </defs>\r\n <g id=\"figure_1\">\r\n  <g id=\"patch_1\">\r\n   <path d=\"M 0 290.99625 \r\nL 610.631094 290.99625 \r\nL 610.631094 0 \r\nL 0 0 \r\nz\r\n\" style=\"fill:none;\"/>\r\n  </g>\r\n  <g id=\"axes_1\">\r\n   <g id=\"patch_2\">\r\n    <path d=\"M 43.78125 253.44 \r\nL 248.760842 253.44 \r\nL 248.760842 44.64 \r\nL 43.78125 44.64 \r\nz\r\n\" style=\"fill:#ffffff;\"/>\r\n   </g>\r\n   <g id=\"matplotlib.axis_1\">\r\n    <g id=\"xtick_1\">\r\n     <g id=\"line2d_1\">\r\n      <defs>\r\n       <path d=\"M 0 0 \r\nL 0 3.5 \r\n\" id=\"m89272e2a64\" style=\"stroke:#000000;stroke-width:0.8;\"/>\r\n      </defs>\r\n      <g>\r\n       <use style=\"stroke:#000000;stroke-width:0.8;\" x=\"43.78125\" xlink:href=\"#m89272e2a64\" y=\"253.44\"/>\r\n      </g>\r\n     </g>\r\n     <g id=\"text_1\">\r\n      <!-- 0.0 -->\r\n      <g transform=\"translate(35.829687 268.038437)scale(0.1 -0.1)\">\r\n       <defs>\r\n        <path d=\"M 31.78125 66.40625 \r\nQ 24.171875 66.40625 20.328125 58.90625 \r\nQ 16.5 51.421875 16.5 36.375 \r\nQ 16.5 21.390625 20.328125 13.890625 \r\nQ 24.171875 6.390625 31.78125 6.390625 \r\nQ 39.453125 6.390625 43.28125 13.890625 \r\nQ 47.125 21.390625 47.125 36.375 \r\nQ 47.125 51.421875 43.28125 58.90625 \r\nQ 39.453125 66.40625 31.78125 66.40625 \r\nz\r\nM 31.78125 74.21875 \r\nQ 44.046875 74.21875 50.515625 64.515625 \r\nQ 56.984375 54.828125 56.984375 36.375 \r\nQ 56.984375 17.96875 50.515625 8.265625 \r\nQ 44.046875 -1.421875 31.78125 -1.421875 \r\nQ 19.53125 -1.421875 13.0625 8.265625 \r\nQ 6.59375 17.96875 6.59375 36.375 \r\nQ 6.59375 54.828125 13.0625 64.515625 \r\nQ 19.53125 74.21875 31.78125 74.21875 \r\nz\r\n\" id=\"DejaVuSans-48\"/>\r\n        <path d=\"M 10.6875 12.40625 \r\nL 21 12.40625 \r\nL 21 0 \r\nL 10.6875 0 \r\nz\r\n\" id=\"DejaVuSans-46\"/>\r\n       </defs>\r\n       <use xlink:href=\"#DejaVuSans-48\"/>\r\n       <use x=\"63.623047\" xlink:href=\"#DejaVuSans-46\"/>\r\n       <use x=\"95.410156\" xlink:href=\"#DejaVuSans-48\"/>\r\n      </g>\r\n     </g>\r\n    </g>\r\n    <g id=\"xtick_2\">\r\n     <g id=\"line2d_2\">\r\n      <g>\r\n       <use style=\"stroke:#000000;stroke-width:0.8;\" x=\"84.777168\" xlink:href=\"#m89272e2a64\" y=\"253.44\"/>\r\n      </g>\r\n     </g>\r\n     <g id=\"text_2\">\r\n      <!-- 0.2 -->\r\n      <g transform=\"translate(76.825606 268.038437)scale(0.1 -0.1)\">\r\n       <defs>\r\n        <path d=\"M 19.1875 8.296875 \r\nL 53.609375 8.296875 \r\nL 53.609375 0 \r\nL 7.328125 0 \r\nL 7.328125 8.296875 \r\nQ 12.9375 14.109375 22.625 23.890625 \r\nQ 32.328125 33.6875 34.8125 36.53125 \r\nQ 39.546875 41.84375 41.421875 45.53125 \r\nQ 43.3125 49.21875 43.3125 52.78125 \r\nQ 43.3125 58.59375 39.234375 62.25 \r\nQ 35.15625 65.921875 28.609375 65.921875 \r\nQ 23.96875 65.921875 18.8125 64.3125 \r\nQ 13.671875 62.703125 7.8125 59.421875 \r\nL 7.8125 69.390625 \r\nQ 13.765625 71.78125 18.9375 73 \r\nQ 24.125 74.21875 28.421875 74.21875 \r\nQ 39.75 74.21875 46.484375 68.546875 \r\nQ 53.21875 62.890625 53.21875 53.421875 \r\nQ 53.21875 48.921875 51.53125 44.890625 \r\nQ 49.859375 40.875 45.40625 35.40625 \r\nQ 44.1875 33.984375 37.640625 27.21875 \r\nQ 31.109375 20.453125 19.1875 8.296875 \r\nz\r\n\" id=\"DejaVuSans-50\"/>\r\n       </defs>\r\n       <use xlink:href=\"#DejaVuSans-48\"/>\r\n       <use x=\"63.623047\" xlink:href=\"#DejaVuSans-46\"/>\r\n       <use x=\"95.410156\" xlink:href=\"#DejaVuSans-50\"/>\r\n      </g>\r\n     </g>\r\n    </g>\r\n    <g id=\"xtick_3\">\r\n     <g id=\"line2d_3\">\r\n      <g>\r\n       <use style=\"stroke:#000000;stroke-width:0.8;\" x=\"125.773087\" xlink:href=\"#m89272e2a64\" y=\"253.44\"/>\r\n      </g>\r\n     </g>\r\n     <g id=\"text_3\">\r\n      <!-- 0.4 -->\r\n      <g transform=\"translate(117.821524 268.038437)scale(0.1 -0.1)\">\r\n       <defs>\r\n        <path d=\"M 37.796875 64.3125 \r\nL 12.890625 25.390625 \r\nL 37.796875 25.390625 \r\nz\r\nM 35.203125 72.90625 \r\nL 47.609375 72.90625 \r\nL 47.609375 25.390625 \r\nL 58.015625 25.390625 \r\nL 58.015625 17.1875 \r\nL 47.609375 17.1875 \r\nL 47.609375 0 \r\nL 37.796875 0 \r\nL 37.796875 17.1875 \r\nL 4.890625 17.1875 \r\nL 4.890625 26.703125 \r\nz\r\n\" id=\"DejaVuSans-52\"/>\r\n       </defs>\r\n       <use xlink:href=\"#DejaVuSans-48\"/>\r\n       <use x=\"63.623047\" xlink:href=\"#DejaVuSans-46\"/>\r\n       <use x=\"95.410156\" xlink:href=\"#DejaVuSans-52\"/>\r\n      </g>\r\n     </g>\r\n    </g>\r\n    <g id=\"xtick_4\">\r\n     <g id=\"line2d_4\">\r\n      <g>\r\n       <use style=\"stroke:#000000;stroke-width:0.8;\" x=\"166.769005\" xlink:href=\"#m89272e2a64\" y=\"253.44\"/>\r\n      </g>\r\n     </g>\r\n     <g id=\"text_4\">\r\n      <!-- 0.6 -->\r\n      <g transform=\"translate(158.817443 268.038437)scale(0.1 -0.1)\">\r\n       <defs>\r\n        <path d=\"M 33.015625 40.375 \r\nQ 26.375 40.375 22.484375 35.828125 \r\nQ 18.609375 31.296875 18.609375 23.390625 \r\nQ 18.609375 15.53125 22.484375 10.953125 \r\nQ 26.375 6.390625 33.015625 6.390625 \r\nQ 39.65625 6.390625 43.53125 10.953125 \r\nQ 47.40625 15.53125 47.40625 23.390625 \r\nQ 47.40625 31.296875 43.53125 35.828125 \r\nQ 39.65625 40.375 33.015625 40.375 \r\nz\r\nM 52.59375 71.296875 \r\nL 52.59375 62.3125 \r\nQ 48.875 64.0625 45.09375 64.984375 \r\nQ 41.3125 65.921875 37.59375 65.921875 \r\nQ 27.828125 65.921875 22.671875 59.328125 \r\nQ 17.53125 52.734375 16.796875 39.40625 \r\nQ 19.671875 43.65625 24.015625 45.921875 \r\nQ 28.375 48.1875 33.59375 48.1875 \r\nQ 44.578125 48.1875 50.953125 41.515625 \r\nQ 57.328125 34.859375 57.328125 23.390625 \r\nQ 57.328125 12.15625 50.6875 5.359375 \r\nQ 44.046875 -1.421875 33.015625 -1.421875 \r\nQ 20.359375 -1.421875 13.671875 8.265625 \r\nQ 6.984375 17.96875 6.984375 36.375 \r\nQ 6.984375 53.65625 15.1875 63.9375 \r\nQ 23.390625 74.21875 37.203125 74.21875 \r\nQ 40.921875 74.21875 44.703125 73.484375 \r\nQ 48.484375 72.75 52.59375 71.296875 \r\nz\r\n\" id=\"DejaVuSans-54\"/>\r\n       </defs>\r\n       <use xlink:href=\"#DejaVuSans-48\"/>\r\n       <use x=\"63.623047\" xlink:href=\"#DejaVuSans-46\"/>\r\n       <use x=\"95.410156\" xlink:href=\"#DejaVuSans-54\"/>\r\n      </g>\r\n     </g>\r\n    </g>\r\n    <g id=\"xtick_5\">\r\n     <g id=\"line2d_5\">\r\n      <g>\r\n       <use style=\"stroke:#000000;stroke-width:0.8;\" x=\"207.764923\" xlink:href=\"#m89272e2a64\" y=\"253.44\"/>\r\n      </g>\r\n     </g>\r\n     <g id=\"text_5\">\r\n      <!-- 0.8 -->\r\n      <g transform=\"translate(199.813361 268.038437)scale(0.1 -0.1)\">\r\n       <defs>\r\n        <path d=\"M 31.78125 34.625 \r\nQ 24.75 34.625 20.71875 30.859375 \r\nQ 16.703125 27.09375 16.703125 20.515625 \r\nQ 16.703125 13.921875 20.71875 10.15625 \r\nQ 24.75 6.390625 31.78125 6.390625 \r\nQ 38.8125 6.390625 42.859375 10.171875 \r\nQ 46.921875 13.96875 46.921875 20.515625 \r\nQ 46.921875 27.09375 42.890625 30.859375 \r\nQ 38.875 34.625 31.78125 34.625 \r\nz\r\nM 21.921875 38.8125 \r\nQ 15.578125 40.375 12.03125 44.71875 \r\nQ 8.5 49.078125 8.5 55.328125 \r\nQ 8.5 64.0625 14.71875 69.140625 \r\nQ 20.953125 74.21875 31.78125 74.21875 \r\nQ 42.671875 74.21875 48.875 69.140625 \r\nQ 55.078125 64.0625 55.078125 55.328125 \r\nQ 55.078125 49.078125 51.53125 44.71875 \r\nQ 48 40.375 41.703125 38.8125 \r\nQ 48.828125 37.15625 52.796875 32.3125 \r\nQ 56.78125 27.484375 56.78125 20.515625 \r\nQ 56.78125 9.90625 50.3125 4.234375 \r\nQ 43.84375 -1.421875 31.78125 -1.421875 \r\nQ 19.734375 -1.421875 13.25 4.234375 \r\nQ 6.78125 9.90625 6.78125 20.515625 \r\nQ 6.78125 27.484375 10.78125 32.3125 \r\nQ 14.796875 37.15625 21.921875 38.8125 \r\nz\r\nM 18.3125 54.390625 \r\nQ 18.3125 48.734375 21.84375 45.5625 \r\nQ 25.390625 42.390625 31.78125 42.390625 \r\nQ 38.140625 42.390625 41.71875 45.5625 \r\nQ 45.3125 48.734375 45.3125 54.390625 \r\nQ 45.3125 60.0625 41.71875 63.234375 \r\nQ 38.140625 66.40625 31.78125 66.40625 \r\nQ 25.390625 66.40625 21.84375 63.234375 \r\nQ 18.3125 60.0625 18.3125 54.390625 \r\nz\r\n\" id=\"DejaVuSans-56\"/>\r\n       </defs>\r\n       <use xlink:href=\"#DejaVuSans-48\"/>\r\n       <use x=\"63.623047\" xlink:href=\"#DejaVuSans-46\"/>\r\n       <use x=\"95.410156\" xlink:href=\"#DejaVuSans-56\"/>\r\n      </g>\r\n     </g>\r\n    </g>\r\n    <g id=\"xtick_6\">\r\n     <g id=\"line2d_6\">\r\n      <g>\r\n       <use style=\"stroke:#000000;stroke-width:0.8;\" x=\"248.760842\" xlink:href=\"#m89272e2a64\" y=\"253.44\"/>\r\n      </g>\r\n     </g>\r\n     <g id=\"text_6\">\r\n      <!-- 1.0 -->\r\n      <g transform=\"translate(240.809279 268.038437)scale(0.1 -0.1)\">\r\n       <defs>\r\n        <path d=\"M 12.40625 8.296875 \r\nL 28.515625 8.296875 \r\nL 28.515625 63.921875 \r\nL 10.984375 60.40625 \r\nL 10.984375 69.390625 \r\nL 28.421875 72.90625 \r\nL 38.28125 72.90625 \r\nL 38.28125 8.296875 \r\nL 54.390625 8.296875 \r\nL 54.390625 0 \r\nL 12.40625 0 \r\nz\r\n\" id=\"DejaVuSans-49\"/>\r\n       </defs>\r\n       <use xlink:href=\"#DejaVuSans-49\"/>\r\n       <use x=\"63.623047\" xlink:href=\"#DejaVuSans-46\"/>\r\n       <use x=\"95.410156\" xlink:href=\"#DejaVuSans-48\"/>\r\n      </g>\r\n     </g>\r\n    </g>\r\n    <g id=\"text_7\">\r\n     <!-- Quality -->\r\n     <g transform=\"translate(128.40464 281.716562)scale(0.1 -0.1)\">\r\n      <defs>\r\n       <path d=\"M 39.40625 66.21875 \r\nQ 28.65625 66.21875 22.328125 58.203125 \r\nQ 16.015625 50.203125 16.015625 36.375 \r\nQ 16.015625 22.609375 22.328125 14.59375 \r\nQ 28.65625 6.59375 39.40625 6.59375 \r\nQ 50.140625 6.59375 56.421875 14.59375 \r\nQ 62.703125 22.609375 62.703125 36.375 \r\nQ 62.703125 50.203125 56.421875 58.203125 \r\nQ 50.140625 66.21875 39.40625 66.21875 \r\nz\r\nM 53.21875 1.3125 \r\nL 66.21875 -12.890625 \r\nL 54.296875 -12.890625 \r\nL 43.5 -1.21875 \r\nQ 41.890625 -1.3125 41.03125 -1.359375 \r\nQ 40.1875 -1.421875 39.40625 -1.421875 \r\nQ 24.03125 -1.421875 14.8125 8.859375 \r\nQ 5.609375 19.140625 5.609375 36.375 \r\nQ 5.609375 53.65625 14.8125 63.9375 \r\nQ 24.03125 74.21875 39.40625 74.21875 \r\nQ 54.734375 74.21875 63.90625 63.9375 \r\nQ 73.09375 53.65625 73.09375 36.375 \r\nQ 73.09375 23.6875 67.984375 14.640625 \r\nQ 62.890625 5.609375 53.21875 1.3125 \r\nz\r\n\" id=\"DejaVuSans-81\"/>\r\n       <path d=\"M 8.5 21.578125 \r\nL 8.5 54.6875 \r\nL 17.484375 54.6875 \r\nL 17.484375 21.921875 \r\nQ 17.484375 14.15625 20.5 10.265625 \r\nQ 23.53125 6.390625 29.59375 6.390625 \r\nQ 36.859375 6.390625 41.078125 11.03125 \r\nQ 45.3125 15.671875 45.3125 23.6875 \r\nL 45.3125 54.6875 \r\nL 54.296875 54.6875 \r\nL 54.296875 0 \r\nL 45.3125 0 \r\nL 45.3125 8.40625 \r\nQ 42.046875 3.421875 37.71875 1 \r\nQ 33.40625 -1.421875 27.6875 -1.421875 \r\nQ 18.265625 -1.421875 13.375 4.4375 \r\nQ 8.5 10.296875 8.5 21.578125 \r\nz\r\nM 31.109375 56 \r\nz\r\n\" id=\"DejaVuSans-117\"/>\r\n       <path d=\"M 34.28125 27.484375 \r\nQ 23.390625 27.484375 19.1875 25 \r\nQ 14.984375 22.515625 14.984375 16.5 \r\nQ 14.984375 11.71875 18.140625 8.90625 \r\nQ 21.296875 6.109375 26.703125 6.109375 \r\nQ 34.1875 6.109375 38.703125 11.40625 \r\nQ 43.21875 16.703125 43.21875 25.484375 \r\nL 43.21875 27.484375 \r\nz\r\nM 52.203125 31.203125 \r\nL 52.203125 0 \r\nL 43.21875 0 \r\nL 43.21875 8.296875 \r\nQ 40.140625 3.328125 35.546875 0.953125 \r\nQ 30.953125 -1.421875 24.3125 -1.421875 \r\nQ 15.921875 -1.421875 10.953125 3.296875 \r\nQ 6 8.015625 6 15.921875 \r\nQ 6 25.140625 12.171875 29.828125 \r\nQ 18.359375 34.515625 30.609375 34.515625 \r\nL 43.21875 34.515625 \r\nL 43.21875 35.40625 \r\nQ 43.21875 41.609375 39.140625 45 \r\nQ 35.0625 48.390625 27.6875 48.390625 \r\nQ 23 48.390625 18.546875 47.265625 \r\nQ 14.109375 46.140625 10.015625 43.890625 \r\nL 10.015625 52.203125 \r\nQ 14.9375 54.109375 19.578125 55.046875 \r\nQ 24.21875 56 28.609375 56 \r\nQ 40.484375 56 46.34375 49.84375 \r\nQ 52.203125 43.703125 52.203125 31.203125 \r\nz\r\n\" id=\"DejaVuSans-97\"/>\r\n       <path d=\"M 9.421875 75.984375 \r\nL 18.40625 75.984375 \r\nL 18.40625 0 \r\nL 9.421875 0 \r\nz\r\n\" id=\"DejaVuSans-108\"/>\r\n       <path d=\"M 9.421875 54.6875 \r\nL 18.40625 54.6875 \r\nL 18.40625 0 \r\nL 9.421875 0 \r\nz\r\nM 9.421875 75.984375 \r\nL 18.40625 75.984375 \r\nL 18.40625 64.59375 \r\nL 9.421875 64.59375 \r\nz\r\n\" id=\"DejaVuSans-105\"/>\r\n       <path d=\"M 18.3125 70.21875 \r\nL 18.3125 54.6875 \r\nL 36.8125 54.6875 \r\nL 36.8125 47.703125 \r\nL 18.3125 47.703125 \r\nL 18.3125 18.015625 \r\nQ 18.3125 11.328125 20.140625 9.421875 \r\nQ 21.96875 7.515625 27.59375 7.515625 \r\nL 36.8125 7.515625 \r\nL 36.8125 0 \r\nL 27.59375 0 \r\nQ 17.1875 0 13.234375 3.875 \r\nQ 9.28125 7.765625 9.28125 18.015625 \r\nL 9.28125 47.703125 \r\nL 2.6875 47.703125 \r\nL 2.6875 54.6875 \r\nL 9.28125 54.6875 \r\nL 9.28125 70.21875 \r\nz\r\n\" id=\"DejaVuSans-116\"/>\r\n       <path d=\"M 32.171875 -5.078125 \r\nQ 28.375 -14.84375 24.75 -17.8125 \r\nQ 21.140625 -20.796875 15.09375 -20.796875 \r\nL 7.90625 -20.796875 \r\nL 7.90625 -13.28125 \r\nL 13.1875 -13.28125 \r\nQ 16.890625 -13.28125 18.9375 -11.515625 \r\nQ 21 -9.765625 23.484375 -3.21875 \r\nL 25.09375 0.875 \r\nL 2.984375 54.6875 \r\nL 12.5 54.6875 \r\nL 29.59375 11.921875 \r\nL 46.6875 54.6875 \r\nL 56.203125 54.6875 \r\nz\r\n\" id=\"DejaVuSans-121\"/>\r\n      </defs>\r\n      <use xlink:href=\"#DejaVuSans-81\"/>\r\n      <use x=\"78.710938\" xlink:href=\"#DejaVuSans-117\"/>\r\n      <use x=\"142.089844\" xlink:href=\"#DejaVuSans-97\"/>\r\n      <use x=\"203.369141\" xlink:href=\"#DejaVuSans-108\"/>\r\n      <use x=\"231.152344\" xlink:href=\"#DejaVuSans-105\"/>\r\n      <use x=\"258.935547\" xlink:href=\"#DejaVuSans-116\"/>\r\n      <use x=\"298.144531\" xlink:href=\"#DejaVuSans-121\"/>\r\n     </g>\r\n    </g>\r\n   </g>\r\n   <g id=\"matplotlib.axis_2\">\r\n    <g id=\"ytick_1\">\r\n     <g id=\"line2d_7\">\r\n      <defs>\r\n       <path d=\"M 0 0 \r\nL -3.5 0 \r\n\" id=\"mf65708d0e1\" style=\"stroke:#000000;stroke-width:0.8;\"/>\r\n      </defs>\r\n      <g>\r\n       <use style=\"stroke:#000000;stroke-width:0.8;\" x=\"43.78125\" xlink:href=\"#mf65708d0e1\" y=\"253.44\"/>\r\n      </g>\r\n     </g>\r\n     <g id=\"text_8\">\r\n      <!-- 0.0 -->\r\n      <g transform=\"translate(20.878125 257.239219)scale(0.1 -0.1)\">\r\n       <use xlink:href=\"#DejaVuSans-48\"/>\r\n       <use x=\"63.623047\" xlink:href=\"#DejaVuSans-46\"/>\r\n       <use x=\"95.410156\" xlink:href=\"#DejaVuSans-48\"/>\r\n      </g>\r\n     </g>\r\n    </g>\r\n    <g id=\"ytick_2\">\r\n     <g id=\"line2d_8\">\r\n      <g>\r\n       <use style=\"stroke:#000000;stroke-width:0.8;\" x=\"43.78125\" xlink:href=\"#mf65708d0e1\" y=\"211.68\"/>\r\n      </g>\r\n     </g>\r\n     <g id=\"text_9\">\r\n      <!-- 0.2 -->\r\n      <g transform=\"translate(20.878125 215.479219)scale(0.1 -0.1)\">\r\n       <use xlink:href=\"#DejaVuSans-48\"/>\r\n       <use x=\"63.623047\" xlink:href=\"#DejaVuSans-46\"/>\r\n       <use x=\"95.410156\" xlink:href=\"#DejaVuSans-50\"/>\r\n      </g>\r\n     </g>\r\n    </g>\r\n    <g id=\"ytick_3\">\r\n     <g id=\"line2d_9\">\r\n      <g>\r\n       <use style=\"stroke:#000000;stroke-width:0.8;\" x=\"43.78125\" xlink:href=\"#mf65708d0e1\" y=\"169.92\"/>\r\n      </g>\r\n     </g>\r\n     <g id=\"text_10\">\r\n      <!-- 0.4 -->\r\n      <g transform=\"translate(20.878125 173.719219)scale(0.1 -0.1)\">\r\n       <use xlink:href=\"#DejaVuSans-48\"/>\r\n       <use x=\"63.623047\" xlink:href=\"#DejaVuSans-46\"/>\r\n       <use x=\"95.410156\" xlink:href=\"#DejaVuSans-52\"/>\r\n      </g>\r\n     </g>\r\n    </g>\r\n    <g id=\"ytick_4\">\r\n     <g id=\"line2d_10\">\r\n      <g>\r\n       <use style=\"stroke:#000000;stroke-width:0.8;\" x=\"43.78125\" xlink:href=\"#mf65708d0e1\" y=\"128.16\"/>\r\n      </g>\r\n     </g>\r\n     <g id=\"text_11\">\r\n      <!-- 0.6 -->\r\n      <g transform=\"translate(20.878125 131.959219)scale(0.1 -0.1)\">\r\n       <use xlink:href=\"#DejaVuSans-48\"/>\r\n       <use x=\"63.623047\" xlink:href=\"#DejaVuSans-46\"/>\r\n       <use x=\"95.410156\" xlink:href=\"#DejaVuSans-54\"/>\r\n      </g>\r\n     </g>\r\n    </g>\r\n    <g id=\"ytick_5\">\r\n     <g id=\"line2d_11\">\r\n      <g>\r\n       <use style=\"stroke:#000000;stroke-width:0.8;\" x=\"43.78125\" xlink:href=\"#mf65708d0e1\" y=\"86.4\"/>\r\n      </g>\r\n     </g>\r\n     <g id=\"text_12\">\r\n      <!-- 0.8 -->\r\n      <g transform=\"translate(20.878125 90.199219)scale(0.1 -0.1)\">\r\n       <use xlink:href=\"#DejaVuSans-48\"/>\r\n       <use x=\"63.623047\" xlink:href=\"#DejaVuSans-46\"/>\r\n       <use x=\"95.410156\" xlink:href=\"#DejaVuSans-56\"/>\r\n      </g>\r\n     </g>\r\n    </g>\r\n    <g id=\"ytick_6\">\r\n     <g id=\"line2d_12\">\r\n      <g>\r\n       <use style=\"stroke:#000000;stroke-width:0.8;\" x=\"43.78125\" xlink:href=\"#mf65708d0e1\" y=\"44.64\"/>\r\n      </g>\r\n     </g>\r\n     <g id=\"text_13\">\r\n      <!-- 1.0 -->\r\n      <g transform=\"translate(20.878125 48.439219)scale(0.1 -0.1)\">\r\n       <use xlink:href=\"#DejaVuSans-49\"/>\r\n       <use x=\"63.623047\" xlink:href=\"#DejaVuSans-46\"/>\r\n       <use x=\"95.410156\" xlink:href=\"#DejaVuSans-48\"/>\r\n      </g>\r\n     </g>\r\n    </g>\r\n    <g id=\"text_14\">\r\n     <!-- Frequency -->\r\n     <g transform=\"translate(14.798437 174.869687)rotate(-90)scale(0.1 -0.1)\">\r\n      <defs>\r\n       <path d=\"M 9.8125 72.90625 \r\nL 51.703125 72.90625 \r\nL 51.703125 64.59375 \r\nL 19.671875 64.59375 \r\nL 19.671875 43.109375 \r\nL 48.578125 43.109375 \r\nL 48.578125 34.8125 \r\nL 19.671875 34.8125 \r\nL 19.671875 0 \r\nL 9.8125 0 \r\nz\r\n\" id=\"DejaVuSans-70\"/>\r\n       <path d=\"M 41.109375 46.296875 \r\nQ 39.59375 47.171875 37.8125 47.578125 \r\nQ 36.03125 48 33.890625 48 \r\nQ 26.265625 48 22.1875 43.046875 \r\nQ 18.109375 38.09375 18.109375 28.8125 \r\nL 18.109375 0 \r\nL 9.078125 0 \r\nL 9.078125 54.6875 \r\nL 18.109375 54.6875 \r\nL 18.109375 46.1875 \r\nQ 20.953125 51.171875 25.484375 53.578125 \r\nQ 30.03125 56 36.53125 56 \r\nQ 37.453125 56 38.578125 55.875 \r\nQ 39.703125 55.765625 41.0625 55.515625 \r\nz\r\n\" id=\"DejaVuSans-114\"/>\r\n       <path d=\"M 56.203125 29.59375 \r\nL 56.203125 25.203125 \r\nL 14.890625 25.203125 \r\nQ 15.484375 15.921875 20.484375 11.0625 \r\nQ 25.484375 6.203125 34.421875 6.203125 \r\nQ 39.59375 6.203125 44.453125 7.46875 \r\nQ 49.3125 8.734375 54.109375 11.28125 \r\nL 54.109375 2.78125 \r\nQ 49.265625 0.734375 44.1875 -0.34375 \r\nQ 39.109375 -1.421875 33.890625 -1.421875 \r\nQ 20.796875 -1.421875 13.15625 6.1875 \r\nQ 5.515625 13.8125 5.515625 26.8125 \r\nQ 5.515625 40.234375 12.765625 48.109375 \r\nQ 20.015625 56 32.328125 56 \r\nQ 43.359375 56 49.78125 48.890625 \r\nQ 56.203125 41.796875 56.203125 29.59375 \r\nz\r\nM 47.21875 32.234375 \r\nQ 47.125 39.59375 43.09375 43.984375 \r\nQ 39.0625 48.390625 32.421875 48.390625 \r\nQ 24.90625 48.390625 20.390625 44.140625 \r\nQ 15.875 39.890625 15.1875 32.171875 \r\nz\r\n\" id=\"DejaVuSans-101\"/>\r\n       <path d=\"M 14.796875 27.296875 \r\nQ 14.796875 17.390625 18.875 11.75 \r\nQ 22.953125 6.109375 30.078125 6.109375 \r\nQ 37.203125 6.109375 41.296875 11.75 \r\nQ 45.40625 17.390625 45.40625 27.296875 \r\nQ 45.40625 37.203125 41.296875 42.84375 \r\nQ 37.203125 48.484375 30.078125 48.484375 \r\nQ 22.953125 48.484375 18.875 42.84375 \r\nQ 14.796875 37.203125 14.796875 27.296875 \r\nz\r\nM 45.40625 8.203125 \r\nQ 42.578125 3.328125 38.25 0.953125 \r\nQ 33.9375 -1.421875 27.875 -1.421875 \r\nQ 17.96875 -1.421875 11.734375 6.484375 \r\nQ 5.515625 14.40625 5.515625 27.296875 \r\nQ 5.515625 40.1875 11.734375 48.09375 \r\nQ 17.96875 56 27.875 56 \r\nQ 33.9375 56 38.25 53.625 \r\nQ 42.578125 51.265625 45.40625 46.390625 \r\nL 45.40625 54.6875 \r\nL 54.390625 54.6875 \r\nL 54.390625 -20.796875 \r\nL 45.40625 -20.796875 \r\nz\r\n\" id=\"DejaVuSans-113\"/>\r\n       <path d=\"M 54.890625 33.015625 \r\nL 54.890625 0 \r\nL 45.90625 0 \r\nL 45.90625 32.71875 \r\nQ 45.90625 40.484375 42.875 44.328125 \r\nQ 39.84375 48.1875 33.796875 48.1875 \r\nQ 26.515625 48.1875 22.3125 43.546875 \r\nQ 18.109375 38.921875 18.109375 30.90625 \r\nL 18.109375 0 \r\nL 9.078125 0 \r\nL 9.078125 54.6875 \r\nL 18.109375 54.6875 \r\nL 18.109375 46.1875 \r\nQ 21.34375 51.125 25.703125 53.5625 \r\nQ 30.078125 56 35.796875 56 \r\nQ 45.21875 56 50.046875 50.171875 \r\nQ 54.890625 44.34375 54.890625 33.015625 \r\nz\r\n\" id=\"DejaVuSans-110\"/>\r\n       <path d=\"M 48.78125 52.59375 \r\nL 48.78125 44.1875 \r\nQ 44.96875 46.296875 41.140625 47.34375 \r\nQ 37.3125 48.390625 33.40625 48.390625 \r\nQ 24.65625 48.390625 19.8125 42.84375 \r\nQ 14.984375 37.3125 14.984375 27.296875 \r\nQ 14.984375 17.28125 19.8125 11.734375 \r\nQ 24.65625 6.203125 33.40625 6.203125 \r\nQ 37.3125 6.203125 41.140625 7.25 \r\nQ 44.96875 8.296875 48.78125 10.40625 \r\nL 48.78125 2.09375 \r\nQ 45.015625 0.34375 40.984375 -0.53125 \r\nQ 36.96875 -1.421875 32.421875 -1.421875 \r\nQ 20.0625 -1.421875 12.78125 6.34375 \r\nQ 5.515625 14.109375 5.515625 27.296875 \r\nQ 5.515625 40.671875 12.859375 48.328125 \r\nQ 20.21875 56 33.015625 56 \r\nQ 37.15625 56 41.109375 55.140625 \r\nQ 45.0625 54.296875 48.78125 52.59375 \r\nz\r\n\" id=\"DejaVuSans-99\"/>\r\n      </defs>\r\n      <use xlink:href=\"#DejaVuSans-70\"/>\r\n      <use x=\"50.269531\" xlink:href=\"#DejaVuSans-114\"/>\r\n      <use x=\"89.132812\" xlink:href=\"#DejaVuSans-101\"/>\r\n      <use x=\"150.65625\" xlink:href=\"#DejaVuSans-113\"/>\r\n      <use x=\"214.132812\" xlink:href=\"#DejaVuSans-117\"/>\r\n      <use x=\"277.511719\" xlink:href=\"#DejaVuSans-101\"/>\r\n      <use x=\"339.035156\" xlink:href=\"#DejaVuSans-110\"/>\r\n      <use x=\"402.414062\" xlink:href=\"#DejaVuSans-99\"/>\r\n      <use x=\"457.394531\" xlink:href=\"#DejaVuSans-121\"/>\r\n     </g>\r\n    </g>\r\n   </g>\r\n   <g id=\"patch_3\">\r\n    <path d=\"M 43.78125 253.44 \r\nL 43.78125 44.64 \r\n\" style=\"fill:none;stroke:#000000;stroke-linecap:square;stroke-linejoin:miter;stroke-width:0.8;\"/>\r\n   </g>\r\n   <g id=\"patch_4\">\r\n    <path d=\"M 248.760842 253.44 \r\nL 248.760842 44.64 \r\n\" style=\"fill:none;stroke:#000000;stroke-linecap:square;stroke-linejoin:miter;stroke-width:0.8;\"/>\r\n   </g>\r\n   <g id=\"patch_5\">\r\n    <path d=\"M 43.78125 253.44 \r\nL 248.760842 253.44 \r\n\" style=\"fill:none;stroke:#000000;stroke-linecap:square;stroke-linejoin:miter;stroke-width:0.8;\"/>\r\n   </g>\r\n   <g id=\"patch_6\">\r\n    <path d=\"M 43.78125 44.64 \r\nL 248.760842 44.64 \r\n\" style=\"fill:none;stroke:#000000;stroke-linecap:square;stroke-linejoin:miter;stroke-width:0.8;\"/>\r\n   </g>\r\n   <g id=\"text_15\">\r\n    <!-- Red Wine -->\r\n    <g transform=\"translate(118.005421 38.64)scale(0.12 -0.12)\">\r\n     <defs>\r\n      <path d=\"M 44.390625 34.1875 \r\nQ 47.5625 33.109375 50.5625 29.59375 \r\nQ 53.5625 26.078125 56.59375 19.921875 \r\nL 66.609375 0 \r\nL 56 0 \r\nL 46.6875 18.703125 \r\nQ 43.0625 26.03125 39.671875 28.421875 \r\nQ 36.28125 30.8125 30.421875 30.8125 \r\nL 19.671875 30.8125 \r\nL 19.671875 0 \r\nL 9.8125 0 \r\nL 9.8125 72.90625 \r\nL 32.078125 72.90625 \r\nQ 44.578125 72.90625 50.734375 67.671875 \r\nQ 56.890625 62.453125 56.890625 51.90625 \r\nQ 56.890625 45.015625 53.6875 40.46875 \r\nQ 50.484375 35.9375 44.390625 34.1875 \r\nz\r\nM 19.671875 64.796875 \r\nL 19.671875 38.921875 \r\nL 32.078125 38.921875 \r\nQ 39.203125 38.921875 42.84375 42.21875 \r\nQ 46.484375 45.515625 46.484375 51.90625 \r\nQ 46.484375 58.296875 42.84375 61.546875 \r\nQ 39.203125 64.796875 32.078125 64.796875 \r\nz\r\n\" id=\"DejaVuSans-82\"/>\r\n      <path d=\"M 45.40625 46.390625 \r\nL 45.40625 75.984375 \r\nL 54.390625 75.984375 \r\nL 54.390625 0 \r\nL 45.40625 0 \r\nL 45.40625 8.203125 \r\nQ 42.578125 3.328125 38.25 0.953125 \r\nQ 33.9375 -1.421875 27.875 -1.421875 \r\nQ 17.96875 -1.421875 11.734375 6.484375 \r\nQ 5.515625 14.40625 5.515625 27.296875 \r\nQ 5.515625 40.1875 11.734375 48.09375 \r\nQ 17.96875 56 27.875 56 \r\nQ 33.9375 56 38.25 53.625 \r\nQ 42.578125 51.265625 45.40625 46.390625 \r\nz\r\nM 14.796875 27.296875 \r\nQ 14.796875 17.390625 18.875 11.75 \r\nQ 22.953125 6.109375 30.078125 6.109375 \r\nQ 37.203125 6.109375 41.296875 11.75 \r\nQ 45.40625 17.390625 45.40625 27.296875 \r\nQ 45.40625 37.203125 41.296875 42.84375 \r\nQ 37.203125 48.484375 30.078125 48.484375 \r\nQ 22.953125 48.484375 18.875 42.84375 \r\nQ 14.796875 37.203125 14.796875 27.296875 \r\nz\r\n\" id=\"DejaVuSans-100\"/>\r\n      <path id=\"DejaVuSans-32\"/>\r\n      <path d=\"M 3.328125 72.90625 \r\nL 13.28125 72.90625 \r\nL 28.609375 11.28125 \r\nL 43.890625 72.90625 \r\nL 54.984375 72.90625 \r\nL 70.3125 11.28125 \r\nL 85.59375 72.90625 \r\nL 95.609375 72.90625 \r\nL 77.296875 0 \r\nL 64.890625 0 \r\nL 49.515625 63.28125 \r\nL 33.984375 0 \r\nL 21.578125 0 \r\nz\r\n\" id=\"DejaVuSans-87\"/>\r\n     </defs>\r\n     <use xlink:href=\"#DejaVuSans-82\"/>\r\n     <use x=\"64.982422\" xlink:href=\"#DejaVuSans-101\"/>\r\n     <use x=\"126.505859\" xlink:href=\"#DejaVuSans-100\"/>\r\n     <use x=\"189.982422\" xlink:href=\"#DejaVuSans-32\"/>\r\n     <use x=\"221.769531\" xlink:href=\"#DejaVuSans-87\"/>\r\n     <use x=\"318.396484\" xlink:href=\"#DejaVuSans-105\"/>\r\n     <use x=\"346.179688\" xlink:href=\"#DejaVuSans-110\"/>\r\n     <use x=\"409.558594\" xlink:href=\"#DejaVuSans-101\"/>\r\n    </g>\r\n   </g>\r\n  </g>\r\n  <g id=\"text_16\">\r\n   <!-- Wine Type Vs Quality -->\r\n   <g transform=\"translate(456.131406 17.837812)scale(0.14 -0.14)\">\r\n    <defs>\r\n     <path d=\"M -0.296875 72.90625 \r\nL 61.375 72.90625 \r\nL 61.375 64.59375 \r\nL 35.5 64.59375 \r\nL 35.5 0 \r\nL 25.59375 0 \r\nL 25.59375 64.59375 \r\nL -0.296875 64.59375 \r\nz\r\n\" id=\"DejaVuSans-84\"/>\r\n     <path d=\"M 18.109375 8.203125 \r\nL 18.109375 -20.796875 \r\nL 9.078125 -20.796875 \r\nL 9.078125 54.6875 \r\nL 18.109375 54.6875 \r\nL 18.109375 46.390625 \r\nQ 20.953125 51.265625 25.265625 53.625 \r\nQ 29.59375 56 35.59375 56 \r\nQ 45.5625 56 51.78125 48.09375 \r\nQ 58.015625 40.1875 58.015625 27.296875 \r\nQ 58.015625 14.40625 51.78125 6.484375 \r\nQ 45.5625 -1.421875 35.59375 -1.421875 \r\nQ 29.59375 -1.421875 25.265625 0.953125 \r\nQ 20.953125 3.328125 18.109375 8.203125 \r\nz\r\nM 48.6875 27.296875 \r\nQ 48.6875 37.203125 44.609375 42.84375 \r\nQ 40.53125 48.484375 33.40625 48.484375 \r\nQ 26.265625 48.484375 22.1875 42.84375 \r\nQ 18.109375 37.203125 18.109375 27.296875 \r\nQ 18.109375 17.390625 22.1875 11.75 \r\nQ 26.265625 6.109375 33.40625 6.109375 \r\nQ 40.53125 6.109375 44.609375 11.75 \r\nQ 48.6875 17.390625 48.6875 27.296875 \r\nz\r\n\" id=\"DejaVuSans-112\"/>\r\n     <path d=\"M 28.609375 0 \r\nL 0.78125 72.90625 \r\nL 11.078125 72.90625 \r\nL 34.1875 11.53125 \r\nL 57.328125 72.90625 \r\nL 67.578125 72.90625 \r\nL 39.796875 0 \r\nz\r\n\" id=\"DejaVuSans-86\"/>\r\n     <path d=\"M 44.28125 53.078125 \r\nL 44.28125 44.578125 \r\nQ 40.484375 46.53125 36.375 47.5 \r\nQ 32.28125 48.484375 27.875 48.484375 \r\nQ 21.1875 48.484375 17.84375 46.4375 \r\nQ 14.5 44.390625 14.5 40.28125 \r\nQ 14.5 37.15625 16.890625 35.375 \r\nQ 19.28125 33.59375 26.515625 31.984375 \r\nL 29.59375 31.296875 \r\nQ 39.15625 29.25 43.1875 25.515625 \r\nQ 47.21875 21.78125 47.21875 15.09375 \r\nQ 47.21875 7.46875 41.1875 3.015625 \r\nQ 35.15625 -1.421875 24.609375 -1.421875 \r\nQ 20.21875 -1.421875 15.453125 -0.5625 \r\nQ 10.6875 0.296875 5.421875 2 \r\nL 5.421875 11.28125 \r\nQ 10.40625 8.6875 15.234375 7.390625 \r\nQ 20.0625 6.109375 24.8125 6.109375 \r\nQ 31.15625 6.109375 34.5625 8.28125 \r\nQ 37.984375 10.453125 37.984375 14.40625 \r\nQ 37.984375 18.0625 35.515625 20.015625 \r\nQ 33.0625 21.96875 24.703125 23.78125 \r\nL 21.578125 24.515625 \r\nQ 13.234375 26.265625 9.515625 29.90625 \r\nQ 5.8125 33.546875 5.8125 39.890625 \r\nQ 5.8125 47.609375 11.28125 51.796875 \r\nQ 16.75 56 26.8125 56 \r\nQ 31.78125 56 36.171875 55.265625 \r\nQ 40.578125 54.546875 44.28125 53.078125 \r\nz\r\n\" id=\"DejaVuSans-115\"/>\r\n    </defs>\r\n    <use xlink:href=\"#DejaVuSans-87\"/>\r\n    <use x=\"96.626953\" xlink:href=\"#DejaVuSans-105\"/>\r\n    <use x=\"124.410156\" xlink:href=\"#DejaVuSans-110\"/>\r\n    <use x=\"187.789062\" xlink:href=\"#DejaVuSans-101\"/>\r\n    <use x=\"249.3125\" xlink:href=\"#DejaVuSans-32\"/>\r\n    <use x=\"281.099609\" xlink:href=\"#DejaVuSans-84\"/>\r\n    <use x=\"326.558594\" xlink:href=\"#DejaVuSans-121\"/>\r\n    <use x=\"385.738281\" xlink:href=\"#DejaVuSans-112\"/>\r\n    <use x=\"449.214844\" xlink:href=\"#DejaVuSans-101\"/>\r\n    <use x=\"510.738281\" xlink:href=\"#DejaVuSans-32\"/>\r\n    <use x=\"542.525391\" xlink:href=\"#DejaVuSans-86\"/>\r\n    <use x=\"610.933594\" xlink:href=\"#DejaVuSans-115\"/>\r\n    <use x=\"663.033203\" xlink:href=\"#DejaVuSans-32\"/>\r\n    <use x=\"694.820312\" xlink:href=\"#DejaVuSans-81\"/>\r\n    <use x=\"773.53125\" xlink:href=\"#DejaVuSans-117\"/>\r\n    <use x=\"836.910156\" xlink:href=\"#DejaVuSans-97\"/>\r\n    <use x=\"898.189453\" xlink:href=\"#DejaVuSans-108\"/>\r\n    <use x=\"925.972656\" xlink:href=\"#DejaVuSans-105\"/>\r\n    <use x=\"953.755859\" xlink:href=\"#DejaVuSans-116\"/>\r\n    <use x=\"992.964844\" xlink:href=\"#DejaVuSans-121\"/>\r\n   </g>\r\n  </g>\r\n </g>\r\n</svg>\r\n",
      "image/png": "[encoded data removed]"
     },
     "metadata": {
      "needs_background": "light"
     }
    }
   ],
   "source": [
    "fig = plt.figure(figsize = (18, 4))\n",
    "title = fig.suptitle(\"Wine Type Vs Quality\", fontsize=14)\n",
    "fig.subplots_adjust(top=0.85, wspace=0.3)\n",
    "\n",
    "ax1 = fig.add_subplot(1,4, 1)\n",
    "ax1.set_title(\"Red Wine\")\n",
    "ax1.set_xlabel(\"Quality\")\n",
    "ax1.set_ylabel(\"Frequency\") \n",
    "rw_q = wines['quality'][wines.wine_type == 'red'].value_counts()\n",
    "rw_x =  (list(rw_q.index), list(rw_q.values))"
   ]
  },
  {
   "cell_type": "code",
   "execution_count": 50,
   "metadata": {},
   "outputs": [
    {
     "output_type": "execute_result",
     "data": {
      "text/plain": [
       "5    681\n",
       "6    638\n",
       "7    199\n",
       "4     53\n",
       "8     18\n",
       "3     10\n",
       "Name: quality, dtype: int64"
      ]
     },
     "metadata": {},
     "execution_count": 50
    }
   ],
   "source": [
    "rw_q "
   ]
  },
  {
   "cell_type": "code",
   "execution_count": 49,
   "metadata": {},
   "outputs": [
    {
     "output_type": "execute_result",
     "data": {
      "text/plain": [
       "([5, 6, 7, 4, 8, 3], [681, 638, 199, 53, 18, 10])"
      ]
     },
     "metadata": {},
     "execution_count": 49
    }
   ],
   "source": [
    "rw_x"
   ]
  },
  {
   "cell_type": "code",
   "execution_count": 51,
   "metadata": {},
   "outputs": [],
   "source": [
    "des = pd.merge(red_wine.describe(), white_wine.describe(),left_index=True, right_index=True, suffixes=(' R', ' W')).T\n"
   ]
  },
  {
   "cell_type": "code",
   "execution_count": 52,
   "metadata": {},
   "outputs": [
    {
     "output_type": "execute_result",
     "data": {
      "text/plain": [
       "                         count        mean        std      min         25%  \\\n",
       "fixed acidity R         1599.0    8.319637   1.741096  4.60000    7.100000   \n",
       "volatile acidity R      1599.0    0.527821   0.179060  0.12000    0.390000   \n",
       "citric acid R           1599.0    0.270976   0.194801  0.00000    0.090000   \n",
       "residual sugar R        1599.0    2.538806   1.409928  0.90000    1.900000   \n",
       "chlorides R             1599.0    0.087467   0.047065  0.01200    0.070000   \n",
       "free sulfur dioxide R   1599.0   15.874922  10.460157  1.00000    7.000000   \n",
       "total sulfur dioxide R  1599.0   46.467792  32.895324  6.00000   22.000000   \n",
       "density R               1599.0    0.996747   0.001887  0.99007    0.995600   \n",
       "pH R                    1599.0    3.311113   0.154386  2.74000    3.210000   \n",
       "sulphates R             1599.0    0.658149   0.169507  0.33000    0.550000   \n",
       "alcohol R               1599.0   10.422983   1.065668  8.40000    9.500000   \n",
       "quality R               1599.0    5.636023   0.807569  3.00000    5.000000   \n",
       "fixed acidity W         4898.0    6.854788   0.843868  3.80000    6.300000   \n",
       "volatile acidity W      4898.0    0.278241   0.100795  0.08000    0.210000   \n",
       "citric acid W           4898.0    0.334192   0.121020  0.00000    0.270000   \n",
       "residual sugar W        4898.0    6.391415   5.072058  0.60000    1.700000   \n",
       "chlorides W             4898.0    0.045772   0.021848  0.00900    0.036000   \n",
       "free sulfur dioxide W   4898.0   35.308085  17.007137  2.00000   23.000000   \n",
       "total sulfur dioxide W  4898.0  138.360657  42.498065  9.00000  108.000000   \n",
       "density W               4898.0    0.994027   0.002991  0.98711    0.991723   \n",
       "pH W                    4898.0    3.188267   0.151001  2.72000    3.090000   \n",
       "sulphates W             4898.0    0.489847   0.114126  0.22000    0.410000   \n",
       "alcohol W               4898.0   10.514267   1.230621  8.00000    9.500000   \n",
       "quality W               4898.0    5.877909   0.885639  3.00000    5.000000   \n",
       "\n",
       "                              50%         75%        max  \n",
       "fixed acidity R           7.90000    9.200000   15.90000  \n",
       "volatile acidity R        0.52000    0.640000    1.58000  \n",
       "citric acid R             0.26000    0.420000    1.00000  \n",
       "residual sugar R          2.20000    2.600000   15.50000  \n",
       "chlorides R               0.07900    0.090000    0.61100  \n",
       "free sulfur dioxide R    14.00000   21.000000   72.00000  \n",
       "total sulfur dioxide R   38.00000   62.000000  289.00000  \n",
       "density R                 0.99675    0.997835    1.00369  \n",
       "pH R                      3.31000    3.400000    4.01000  \n",
       "sulphates R               0.62000    0.730000    2.00000  \n",
       "alcohol R                10.20000   11.100000   14.90000  \n",
       "quality R                 6.00000    6.000000    8.00000  \n",
       "fixed acidity W           6.80000    7.300000   14.20000  \n",
       "volatile acidity W        0.26000    0.320000    1.10000  \n",
       "citric acid W             0.32000    0.390000    1.66000  \n",
       "residual sugar W          5.20000    9.900000   65.80000  \n",
       "chlorides W               0.04300    0.050000    0.34600  \n",
       "free sulfur dioxide W    34.00000   46.000000  289.00000  \n",
       "total sulfur dioxide W  134.00000  167.000000  440.00000  \n",
       "density W                 0.99374    0.996100    1.03898  \n",
       "pH W                      3.18000    3.280000    3.82000  \n",
       "sulphates W               0.47000    0.550000    1.08000  \n",
       "alcohol W                10.40000   11.400000   14.20000  \n",
       "quality W                 6.00000    6.000000    9.00000  "
      ],
      "text/html": "<div>\n<style scoped>\n    .dataframe tbody tr th:only-of-type {\n        vertical-align: middle;\n    }\n\n    .dataframe tbody tr th {\n        vertical-align: top;\n    }\n\n    .dataframe thead th {\n        text-align: right;\n    }\n</style>\n<table border=\"1\" class=\"dataframe\">\n  <thead>\n    <tr style=\"text-align: right;\">\n      <th></th>\n      <th>count</th>\n      <th>mean</th>\n      <th>std</th>\n      <th>min</th>\n      <th>25%</th>\n      <th>50%</th>\n      <th>75%</th>\n      <th>max</th>\n    </tr>\n  </thead>\n  <tbody>\n    <tr>\n      <th>fixed acidity R</th>\n      <td>1599.0</td>\n      <td>8.319637</td>\n      <td>1.741096</td>\n      <td>4.60000</td>\n      <td>7.100000</td>\n      <td>7.90000</td>\n      <td>9.200000</td>\n      <td>15.90000</td>\n    </tr>\n    <tr>\n      <th>volatile acidity R</th>\n      <td>1599.0</td>\n      <td>0.527821</td>\n      <td>0.179060</td>\n      <td>0.12000</td>\n      <td>0.390000</td>\n      <td>0.52000</td>\n      <td>0.640000</td>\n      <td>1.58000</td>\n    </tr>\n    <tr>\n      <th>citric acid R</th>\n      <td>1599.0</td>\n      <td>0.270976</td>\n      <td>0.194801</td>\n      <td>0.00000</td>\n      <td>0.090000</td>\n      <td>0.26000</td>\n      <td>0.420000</td>\n      <td>1.00000</td>\n    </tr>\n    <tr>\n      <th>residual sugar R</th>\n      <td>1599.0</td>\n      <td>2.538806</td>\n      <td>1.409928</td>\n      <td>0.90000</td>\n      <td>1.900000</td>\n      <td>2.20000</td>\n      <td>2.600000</td>\n      <td>15.50000</td>\n    </tr>\n    <tr>\n      <th>chlorides R</th>\n      <td>1599.0</td>\n      <td>0.087467</td>\n      <td>0.047065</td>\n      <td>0.01200</td>\n      <td>0.070000</td>\n      <td>0.07900</td>\n      <td>0.090000</td>\n      <td>0.61100</td>\n    </tr>\n    <tr>\n      <th>free sulfur dioxide R</th>\n      <td>1599.0</td>\n      <td>15.874922</td>\n      <td>10.460157</td>\n      <td>1.00000</td>\n      <td>7.000000</td>\n      <td>14.00000</td>\n      <td>21.000000</td>\n      <td>72.00000</td>\n    </tr>\n    <tr>\n      <th>total sulfur dioxide R</th>\n      <td>1599.0</td>\n      <td>46.467792</td>\n      <td>32.895324</td>\n      <td>6.00000</td>\n      <td>22.000000</td>\n      <td>38.00000</td>\n      <td>62.000000</td>\n      <td>289.00000</td>\n    </tr>\n    <tr>\n      <th>density R</th>\n      <td>1599.0</td>\n      <td>0.996747</td>\n      <td>0.001887</td>\n      <td>0.99007</td>\n      <td>0.995600</td>\n      <td>0.99675</td>\n      <td>0.997835</td>\n      <td>1.00369</td>\n    </tr>\n    <tr>\n      <th>pH R</th>\n      <td>1599.0</td>\n      <td>3.311113</td>\n      <td>0.154386</td>\n      <td>2.74000</td>\n      <td>3.210000</td>\n      <td>3.31000</td>\n      <td>3.400000</td>\n      <td>4.01000</td>\n    </tr>\n    <tr>\n      <th>sulphates R</th>\n      <td>1599.0</td>\n      <td>0.658149</td>\n      <td>0.169507</td>\n      <td>0.33000</td>\n      <td>0.550000</td>\n      <td>0.62000</td>\n      <td>0.730000</td>\n      <td>2.00000</td>\n    </tr>\n    <tr>\n      <th>alcohol R</th>\n      <td>1599.0</td>\n      <td>10.422983</td>\n      <td>1.065668</td>\n      <td>8.40000</td>\n      <td>9.500000</td>\n      <td>10.20000</td>\n      <td>11.100000</td>\n      <td>14.90000</td>\n    </tr>\n    <tr>\n      <th>quality R</th>\n      <td>1599.0</td>\n      <td>5.636023</td>\n      <td>0.807569</td>\n      <td>3.00000</td>\n      <td>5.000000</td>\n      <td>6.00000</td>\n      <td>6.000000</td>\n      <td>8.00000</td>\n    </tr>\n    <tr>\n      <th>fixed acidity W</th>\n      <td>4898.0</td>\n      <td>6.854788</td>\n      <td>0.843868</td>\n      <td>3.80000</td>\n      <td>6.300000</td>\n      <td>6.80000</td>\n      <td>7.300000</td>\n      <td>14.20000</td>\n    </tr>\n    <tr>\n      <th>volatile acidity W</th>\n      <td>4898.0</td>\n      <td>0.278241</td>\n      <td>0.100795</td>\n      <td>0.08000</td>\n      <td>0.210000</td>\n      <td>0.26000</td>\n      <td>0.320000</td>\n      <td>1.10000</td>\n    </tr>\n    <tr>\n      <th>citric acid W</th>\n      <td>4898.0</td>\n      <td>0.334192</td>\n      <td>0.121020</td>\n      <td>0.00000</td>\n      <td>0.270000</td>\n      <td>0.32000</td>\n      <td>0.390000</td>\n      <td>1.66000</td>\n    </tr>\n    <tr>\n      <th>residual sugar W</th>\n      <td>4898.0</td>\n      <td>6.391415</td>\n      <td>5.072058</td>\n      <td>0.60000</td>\n      <td>1.700000</td>\n      <td>5.20000</td>\n      <td>9.900000</td>\n      <td>65.80000</td>\n    </tr>\n    <tr>\n      <th>chlorides W</th>\n      <td>4898.0</td>\n      <td>0.045772</td>\n      <td>0.021848</td>\n      <td>0.00900</td>\n      <td>0.036000</td>\n      <td>0.04300</td>\n      <td>0.050000</td>\n      <td>0.34600</td>\n    </tr>\n    <tr>\n      <th>free sulfur dioxide W</th>\n      <td>4898.0</td>\n      <td>35.308085</td>\n      <td>17.007137</td>\n      <td>2.00000</td>\n      <td>23.000000</td>\n      <td>34.00000</td>\n      <td>46.000000</td>\n      <td>289.00000</td>\n    </tr>\n    <tr>\n      <th>total sulfur dioxide W</th>\n      <td>4898.0</td>\n      <td>138.360657</td>\n      <td>42.498065</td>\n      <td>9.00000</td>\n      <td>108.000000</td>\n      <td>134.00000</td>\n      <td>167.000000</td>\n      <td>440.00000</td>\n    </tr>\n    <tr>\n      <th>density W</th>\n      <td>4898.0</td>\n      <td>0.994027</td>\n      <td>0.002991</td>\n      <td>0.98711</td>\n      <td>0.991723</td>\n      <td>0.99374</td>\n      <td>0.996100</td>\n      <td>1.03898</td>\n    </tr>\n    <tr>\n      <th>pH W</th>\n      <td>4898.0</td>\n      <td>3.188267</td>\n      <td>0.151001</td>\n      <td>2.72000</td>\n      <td>3.090000</td>\n      <td>3.18000</td>\n      <td>3.280000</td>\n      <td>3.82000</td>\n    </tr>\n    <tr>\n      <th>sulphates W</th>\n      <td>4898.0</td>\n      <td>0.489847</td>\n      <td>0.114126</td>\n      <td>0.22000</td>\n      <td>0.410000</td>\n      <td>0.47000</td>\n      <td>0.550000</td>\n      <td>1.08000</td>\n    </tr>\n    <tr>\n      <th>alcohol W</th>\n      <td>4898.0</td>\n      <td>10.514267</td>\n      <td>1.230621</td>\n      <td>8.00000</td>\n      <td>9.500000</td>\n      <td>10.40000</td>\n      <td>11.400000</td>\n      <td>14.20000</td>\n    </tr>\n    <tr>\n      <th>quality W</th>\n      <td>4898.0</td>\n      <td>5.877909</td>\n      <td>0.885639</td>\n      <td>3.00000</td>\n      <td>5.000000</td>\n      <td>6.00000</td>\n      <td>6.000000</td>\n      <td>9.00000</td>\n    </tr>\n  </tbody>\n</table>\n</div>"
     },
     "metadata": {},
     "execution_count": 52
    }
   ],
   "source": [
    "des"
   ]
  },
  {
   "cell_type": "code",
   "execution_count": 53,
   "metadata": {},
   "outputs": [
    {
     "output_type": "execute_result",
     "data": {
      "text/plain": [
       "       fixed acidity  volatile acidity  citric acid  residual sugar  \\\n",
       "count    1599.000000       1599.000000  1599.000000     1599.000000   \n",
       "mean        8.319637          0.527821     0.270976        2.538806   \n",
       "std         1.741096          0.179060     0.194801        1.409928   \n",
       "min         4.600000          0.120000     0.000000        0.900000   \n",
       "25%         7.100000          0.390000     0.090000        1.900000   \n",
       "50%         7.900000          0.520000     0.260000        2.200000   \n",
       "75%         9.200000          0.640000     0.420000        2.600000   \n",
       "max        15.900000          1.580000     1.000000       15.500000   \n",
       "\n",
       "         chlorides  free sulfur dioxide  total sulfur dioxide      density  \\\n",
       "count  1599.000000          1599.000000           1599.000000  1599.000000   \n",
       "mean      0.087467            15.874922             46.467792     0.996747   \n",
       "std       0.047065            10.460157             32.895324     0.001887   \n",
       "min       0.012000             1.000000              6.000000     0.990070   \n",
       "25%       0.070000             7.000000             22.000000     0.995600   \n",
       "50%       0.079000            14.000000             38.000000     0.996750   \n",
       "75%       0.090000            21.000000             62.000000     0.997835   \n",
       "max       0.611000            72.000000            289.000000     1.003690   \n",
       "\n",
       "                pH    sulphates      alcohol      quality  \n",
       "count  1599.000000  1599.000000  1599.000000  1599.000000  \n",
       "mean      3.311113     0.658149    10.422983     5.636023  \n",
       "std       0.154386     0.169507     1.065668     0.807569  \n",
       "min       2.740000     0.330000     8.400000     3.000000  \n",
       "25%       3.210000     0.550000     9.500000     5.000000  \n",
       "50%       3.310000     0.620000    10.200000     6.000000  \n",
       "75%       3.400000     0.730000    11.100000     6.000000  \n",
       "max       4.010000     2.000000    14.900000     8.000000  "
      ],
      "text/html": "<div>\n<style scoped>\n    .dataframe tbody tr th:only-of-type {\n        vertical-align: middle;\n    }\n\n    .dataframe tbody tr th {\n        vertical-align: top;\n    }\n\n    .dataframe thead th {\n        text-align: right;\n    }\n</style>\n<table border=\"1\" class=\"dataframe\">\n  <thead>\n    <tr style=\"text-align: right;\">\n      <th></th>\n      <th>fixed acidity</th>\n      <th>volatile acidity</th>\n      <th>citric acid</th>\n      <th>residual sugar</th>\n      <th>chlorides</th>\n      <th>free sulfur dioxide</th>\n      <th>total sulfur dioxide</th>\n      <th>density</th>\n      <th>pH</th>\n      <th>sulphates</th>\n      <th>alcohol</th>\n      <th>quality</th>\n    </tr>\n  </thead>\n  <tbody>\n    <tr>\n      <th>count</th>\n      <td>1599.000000</td>\n      <td>1599.000000</td>\n      <td>1599.000000</td>\n      <td>1599.000000</td>\n      <td>1599.000000</td>\n      <td>1599.000000</td>\n      <td>1599.000000</td>\n      <td>1599.000000</td>\n      <td>1599.000000</td>\n      <td>1599.000000</td>\n      <td>1599.000000</td>\n      <td>1599.000000</td>\n    </tr>\n    <tr>\n      <th>mean</th>\n      <td>8.319637</td>\n      <td>0.527821</td>\n      <td>0.270976</td>\n      <td>2.538806</td>\n      <td>0.087467</td>\n      <td>15.874922</td>\n      <td>46.467792</td>\n      <td>0.996747</td>\n      <td>3.311113</td>\n      <td>0.658149</td>\n      <td>10.422983</td>\n      <td>5.636023</td>\n    </tr>\n    <tr>\n      <th>std</th>\n      <td>1.741096</td>\n      <td>0.179060</td>\n      <td>0.194801</td>\n      <td>1.409928</td>\n      <td>0.047065</td>\n      <td>10.460157</td>\n      <td>32.895324</td>\n      <td>0.001887</td>\n      <td>0.154386</td>\n      <td>0.169507</td>\n      <td>1.065668</td>\n      <td>0.807569</td>\n    </tr>\n    <tr>\n      <th>min</th>\n      <td>4.600000</td>\n      <td>0.120000</td>\n      <td>0.000000</td>\n      <td>0.900000</td>\n      <td>0.012000</td>\n      <td>1.000000</td>\n      <td>6.000000</td>\n      <td>0.990070</td>\n      <td>2.740000</td>\n      <td>0.330000</td>\n      <td>8.400000</td>\n      <td>3.000000</td>\n    </tr>\n    <tr>\n      <th>25%</th>\n      <td>7.100000</td>\n      <td>0.390000</td>\n      <td>0.090000</td>\n      <td>1.900000</td>\n      <td>0.070000</td>\n      <td>7.000000</td>\n      <td>22.000000</td>\n      <td>0.995600</td>\n      <td>3.210000</td>\n      <td>0.550000</td>\n      <td>9.500000</td>\n      <td>5.000000</td>\n    </tr>\n    <tr>\n      <th>50%</th>\n      <td>7.900000</td>\n      <td>0.520000</td>\n      <td>0.260000</td>\n      <td>2.200000</td>\n      <td>0.079000</td>\n      <td>14.000000</td>\n      <td>38.000000</td>\n      <td>0.996750</td>\n      <td>3.310000</td>\n      <td>0.620000</td>\n      <td>10.200000</td>\n      <td>6.000000</td>\n    </tr>\n    <tr>\n      <th>75%</th>\n      <td>9.200000</td>\n      <td>0.640000</td>\n      <td>0.420000</td>\n      <td>2.600000</td>\n      <td>0.090000</td>\n      <td>21.000000</td>\n      <td>62.000000</td>\n      <td>0.997835</td>\n      <td>3.400000</td>\n      <td>0.730000</td>\n      <td>11.100000</td>\n      <td>6.000000</td>\n    </tr>\n    <tr>\n      <th>max</th>\n      <td>15.900000</td>\n      <td>1.580000</td>\n      <td>1.000000</td>\n      <td>15.500000</td>\n      <td>0.611000</td>\n      <td>72.000000</td>\n      <td>289.000000</td>\n      <td>1.003690</td>\n      <td>4.010000</td>\n      <td>2.000000</td>\n      <td>14.900000</td>\n      <td>8.000000</td>\n    </tr>\n  </tbody>\n</table>\n</div>"
     },
     "metadata": {},
     "execution_count": 53
    }
   ],
   "source": [
    "red_wine.describe()"
   ]
  },
  {
   "cell_type": "code",
   "execution_count": 54,
   "metadata": {},
   "outputs": [
    {
     "output_type": "execute_result",
     "data": {
      "text/plain": [
       "                       count       mean        std      min      25%  \\\n",
       "fixed acidity         1599.0   8.319637   1.741096  4.60000   7.1000   \n",
       "volatile acidity      1599.0   0.527821   0.179060  0.12000   0.3900   \n",
       "citric acid           1599.0   0.270976   0.194801  0.00000   0.0900   \n",
       "residual sugar        1599.0   2.538806   1.409928  0.90000   1.9000   \n",
       "chlorides             1599.0   0.087467   0.047065  0.01200   0.0700   \n",
       "free sulfur dioxide   1599.0  15.874922  10.460157  1.00000   7.0000   \n",
       "total sulfur dioxide  1599.0  46.467792  32.895324  6.00000  22.0000   \n",
       "density               1599.0   0.996747   0.001887  0.99007   0.9956   \n",
       "pH                    1599.0   3.311113   0.154386  2.74000   3.2100   \n",
       "sulphates             1599.0   0.658149   0.169507  0.33000   0.5500   \n",
       "alcohol               1599.0  10.422983   1.065668  8.40000   9.5000   \n",
       "quality               1599.0   5.636023   0.807569  3.00000   5.0000   \n",
       "\n",
       "                           50%        75%        max  \n",
       "fixed acidity          7.90000   9.200000   15.90000  \n",
       "volatile acidity       0.52000   0.640000    1.58000  \n",
       "citric acid            0.26000   0.420000    1.00000  \n",
       "residual sugar         2.20000   2.600000   15.50000  \n",
       "chlorides              0.07900   0.090000    0.61100  \n",
       "free sulfur dioxide   14.00000  21.000000   72.00000  \n",
       "total sulfur dioxide  38.00000  62.000000  289.00000  \n",
       "density                0.99675   0.997835    1.00369  \n",
       "pH                     3.31000   3.400000    4.01000  \n",
       "sulphates              0.62000   0.730000    2.00000  \n",
       "alcohol               10.20000  11.100000   14.90000  \n",
       "quality                6.00000   6.000000    8.00000  "
      ],
      "text/html": "<div>\n<style scoped>\n    .dataframe tbody tr th:only-of-type {\n        vertical-align: middle;\n    }\n\n    .dataframe tbody tr th {\n        vertical-align: top;\n    }\n\n    .dataframe thead th {\n        text-align: right;\n    }\n</style>\n<table border=\"1\" class=\"dataframe\">\n  <thead>\n    <tr style=\"text-align: right;\">\n      <th></th>\n      <th>count</th>\n      <th>mean</th>\n      <th>std</th>\n      <th>min</th>\n      <th>25%</th>\n      <th>50%</th>\n      <th>75%</th>\n      <th>max</th>\n    </tr>\n  </thead>\n  <tbody>\n    <tr>\n      <th>fixed acidity</th>\n      <td>1599.0</td>\n      <td>8.319637</td>\n      <td>1.741096</td>\n      <td>4.60000</td>\n      <td>7.1000</td>\n      <td>7.90000</td>\n      <td>9.200000</td>\n      <td>15.90000</td>\n    </tr>\n    <tr>\n      <th>volatile acidity</th>\n      <td>1599.0</td>\n      <td>0.527821</td>\n      <td>0.179060</td>\n      <td>0.12000</td>\n      <td>0.3900</td>\n      <td>0.52000</td>\n      <td>0.640000</td>\n      <td>1.58000</td>\n    </tr>\n    <tr>\n      <th>citric acid</th>\n      <td>1599.0</td>\n      <td>0.270976</td>\n      <td>0.194801</td>\n      <td>0.00000</td>\n      <td>0.0900</td>\n      <td>0.26000</td>\n      <td>0.420000</td>\n      <td>1.00000</td>\n    </tr>\n    <tr>\n      <th>residual sugar</th>\n      <td>1599.0</td>\n      <td>2.538806</td>\n      <td>1.409928</td>\n      <td>0.90000</td>\n      <td>1.9000</td>\n      <td>2.20000</td>\n      <td>2.600000</td>\n      <td>15.50000</td>\n    </tr>\n    <tr>\n      <th>chlorides</th>\n      <td>1599.0</td>\n      <td>0.087467</td>\n      <td>0.047065</td>\n      <td>0.01200</td>\n      <td>0.0700</td>\n      <td>0.07900</td>\n      <td>0.090000</td>\n      <td>0.61100</td>\n    </tr>\n    <tr>\n      <th>free sulfur dioxide</th>\n      <td>1599.0</td>\n      <td>15.874922</td>\n      <td>10.460157</td>\n      <td>1.00000</td>\n      <td>7.0000</td>\n      <td>14.00000</td>\n      <td>21.000000</td>\n      <td>72.00000</td>\n    </tr>\n    <tr>\n      <th>total sulfur dioxide</th>\n      <td>1599.0</td>\n      <td>46.467792</td>\n      <td>32.895324</td>\n      <td>6.00000</td>\n      <td>22.0000</td>\n      <td>38.00000</td>\n      <td>62.000000</td>\n      <td>289.00000</td>\n    </tr>\n    <tr>\n      <th>density</th>\n      <td>1599.0</td>\n      <td>0.996747</td>\n      <td>0.001887</td>\n      <td>0.99007</td>\n      <td>0.9956</td>\n      <td>0.99675</td>\n      <td>0.997835</td>\n      <td>1.00369</td>\n    </tr>\n    <tr>\n      <th>pH</th>\n      <td>1599.0</td>\n      <td>3.311113</td>\n      <td>0.154386</td>\n      <td>2.74000</td>\n      <td>3.2100</td>\n      <td>3.31000</td>\n      <td>3.400000</td>\n      <td>4.01000</td>\n    </tr>\n    <tr>\n      <th>sulphates</th>\n      <td>1599.0</td>\n      <td>0.658149</td>\n      <td>0.169507</td>\n      <td>0.33000</td>\n      <td>0.5500</td>\n      <td>0.62000</td>\n      <td>0.730000</td>\n      <td>2.00000</td>\n    </tr>\n    <tr>\n      <th>alcohol</th>\n      <td>1599.0</td>\n      <td>10.422983</td>\n      <td>1.065668</td>\n      <td>8.40000</td>\n      <td>9.5000</td>\n      <td>10.20000</td>\n      <td>11.100000</td>\n      <td>14.90000</td>\n    </tr>\n    <tr>\n      <th>quality</th>\n      <td>1599.0</td>\n      <td>5.636023</td>\n      <td>0.807569</td>\n      <td>3.00000</td>\n      <td>5.0000</td>\n      <td>6.00000</td>\n      <td>6.000000</td>\n      <td>8.00000</td>\n    </tr>\n  </tbody>\n</table>\n</div>"
     },
     "metadata": {},
     "execution_count": 54
    }
   ],
   "source": [
    "red_wine.describe().T"
   ]
  },
  {
   "cell_type": "code",
   "execution_count": 55,
   "metadata": {},
   "outputs": [],
   "source": [
    "import seaborn as sns"
   ]
  },
  {
   "cell_type": "code",
   "execution_count": 56,
   "metadata": {},
   "outputs": [],
   "source": [
    "X = [\"a\", \"a\", \"a\", \"b\", \"b\", \"c\", \"c\", \"c\", \"c\", \"c\"]"
   ]
  },
  {
   "cell_type": "code",
   "execution_count": 57,
   "metadata": {},
   "outputs": [
    {
     "output_type": "error",
     "ename": "AttributeError",
     "evalue": "'list' object has no attribute 'to_numpy'",
     "traceback": [
      "\u001b[1;31m---------------------------------------------------------------------------\u001b[0m",
      "\u001b[1;31mAttributeError\u001b[0m                            Traceback (most recent call last)",
      "\u001b[1;32m<ipython-input-57-ee0f085b3d70>\u001b[0m in \u001b[0;36m<module>\u001b[1;34m\u001b[0m\n\u001b[1;32m----> 1\u001b[1;33m \u001b[0mX\u001b[0m\u001b[1;33m.\u001b[0m\u001b[0mto_numpy\u001b[0m\u001b[1;33m(\u001b[0m\u001b[1;33m)\u001b[0m\u001b[1;33m\u001b[0m\u001b[1;33m\u001b[0m\u001b[0m\n\u001b[0m",
      "\u001b[1;31mAttributeError\u001b[0m: 'list' object has no attribute 'to_numpy'"
     ]
    }
   ],
   "source": [
    "X.to_numpy()"
   ]
  },
  {
   "cell_type": "code",
   "execution_count": 58,
   "metadata": {},
   "outputs": [],
   "source": [
    "from sklearn import datasets, svm"
   ]
  },
  {
   "cell_type": "code",
   "execution_count": 59,
   "metadata": {},
   "outputs": [
    {
     "output_type": "error",
     "ename": "AttributeError",
     "evalue": "'list' object has no attribute 'to_numpy'",
     "traceback": [
      "\u001b[1;31m---------------------------------------------------------------------------\u001b[0m",
      "\u001b[1;31mAttributeError\u001b[0m                            Traceback (most recent call last)",
      "\u001b[1;32m<ipython-input-59-ee0f085b3d70>\u001b[0m in \u001b[0;36m<module>\u001b[1;34m\u001b[0m\n\u001b[1;32m----> 1\u001b[1;33m \u001b[0mX\u001b[0m\u001b[1;33m.\u001b[0m\u001b[0mto_numpy\u001b[0m\u001b[1;33m(\u001b[0m\u001b[1;33m)\u001b[0m\u001b[1;33m\u001b[0m\u001b[1;33m\u001b[0m\u001b[0m\n\u001b[0m",
      "\u001b[1;31mAttributeError\u001b[0m: 'list' object has no attribute 'to_numpy'"
     ]
    }
   ],
   "source": [
    "X.to_numpy()"
   ]
  },
  {
   "cell_type": "code",
   "execution_count": 60,
   "metadata": {},
   "outputs": [
    {
     "output_type": "stream",
     "text": [
      "\u001b[1;31mInit signature:\u001b[0m \u001b[0mnp\u001b[0m\u001b[1;33m.\u001b[0m\u001b[0mndarray\u001b[0m\u001b[1;33m(\u001b[0m\u001b[0mself\u001b[0m\u001b[1;33m,\u001b[0m \u001b[1;33m/\u001b[0m\u001b[1;33m,\u001b[0m \u001b[1;33m*\u001b[0m\u001b[0margs\u001b[0m\u001b[1;33m,\u001b[0m \u001b[1;33m**\u001b[0m\u001b[0mkwargs\u001b[0m\u001b[1;33m)\u001b[0m\u001b[1;33m\u001b[0m\u001b[1;33m\u001b[0m\u001b[0m\n",
      "\u001b[1;31mDocstring:\u001b[0m     \n",
      "ndarray(shape, dtype=float, buffer=None, offset=0,\n",
      "        strides=None, order=None)\n",
      "\n",
      "An array object represents a multidimensional, homogeneous array\n",
      "of fixed-size items.  An associated data-type object describes the\n",
      "format of each element in the array (its byte-order, how many bytes it\n",
      "occupies in memory, whether it is an integer, a floating point number,\n",
      "or something else, etc.)\n",
      "\n",
      "Arrays should be constructed using `array`, `zeros` or `empty` (refer\n",
      "to the See Also section below).  The parameters given here refer to\n",
      "a low-level method (`ndarray(...)`) for instantiating an array.\n",
      "\n",
      "For more information, refer to the `numpy` module and examine the\n",
      "methods and attributes of an array.\n",
      "\n",
      "Parameters\n",
      "----------\n",
      "(for the __new__ method; see Notes below)\n",
      "\n",
      "shape : tuple of ints\n",
      "    Shape of created array.\n",
      "dtype : data-type, optional\n",
      "    Any object that can be interpreted as a numpy data type.\n",
      "buffer : object exposing buffer interface, optional\n",
      "    Used to fill the array with data.\n",
      "offset : int, optional\n",
      "    Offset of array data in buffer.\n",
      "strides : tuple of ints, optional\n",
      "    Strides of data in memory.\n",
      "order : {'C', 'F'}, optional\n",
      "    Row-major (C-style) or column-major (Fortran-style) order.\n",
      "\n",
      "Attributes\n",
      "----------\n",
      "T : ndarray\n",
      "    Transpose of the array.\n",
      "data : buffer\n",
      "    The array's elements, in memory.\n",
      "dtype : dtype object\n",
      "    Describes the format of the elements in the array.\n",
      "flags : dict\n",
      "    Dictionary containing information related to memory use, e.g.,\n",
      "    'C_CONTIGUOUS', 'OWNDATA', 'WRITEABLE', etc.\n",
      "flat : numpy.flatiter object\n",
      "    Flattened version of the array as an iterator.  The iterator\n",
      "    allows assignments, e.g., ``x.flat = 3`` (See `ndarray.flat` for\n",
      "    assignment examples; TODO).\n",
      "imag : ndarray\n",
      "    Imaginary part of the array.\n",
      "real : ndarray\n",
      "    Real part of the array.\n",
      "size : int\n",
      "    Number of elements in the array.\n",
      "itemsize : int\n",
      "    The memory use of each array element in bytes.\n",
      "nbytes : int\n",
      "    The total number of bytes required to store the array data,\n",
      "    i.e., ``itemsize * size``.\n",
      "ndim : int\n",
      "    The array's number of dimensions.\n",
      "shape : tuple of ints\n",
      "    Shape of the array.\n",
      "strides : tuple of ints\n",
      "    The step-size required to move from one element to the next in\n",
      "    memory. For example, a contiguous ``(3, 4)`` array of type\n",
      "    ``int16`` in C-order has strides ``(8, 2)``.  This implies that\n",
      "    to move from element to element in memory requires jumps of 2 bytes.\n",
      "    To move from row-to-row, one needs to jump 8 bytes at a time\n",
      "    (``2 * 4``).\n",
      "ctypes : ctypes object\n",
      "    Class containing properties of the array needed for interaction\n",
      "    with ctypes.\n",
      "base : ndarray\n",
      "    If the array is a view into another array, that array is its `base`\n",
      "    (unless that array is also a view).  The `base` array is where the\n",
      "    array data is actually stored.\n",
      "\n",
      "See Also\n",
      "--------\n",
      "array : Construct an array.\n",
      "zeros : Create an array, each element of which is zero.\n",
      "empty : Create an array, but leave its allocated memory unchanged (i.e.,\n",
      "        it contains \"garbage\").\n",
      "dtype : Create a data-type.\n",
      "\n",
      "Notes\n",
      "-----\n",
      "There are two modes of creating an array using ``__new__``:\n",
      "\n",
      "1. If `buffer` is None, then only `shape`, `dtype`, and `order`\n",
      "   are used.\n",
      "2. If `buffer` is an object exposing the buffer interface, then\n",
      "   all keywords are interpreted.\n",
      "\n",
      "No ``__init__`` method is needed because the array is fully initialized\n",
      "after the ``__new__`` method.\n",
      "\n",
      "Examples\n",
      "--------\n",
      "These examples illustrate the low-level `ndarray` constructor.  Refer\n",
      "to the `See Also` section above for easier ways of constructing an\n",
      "ndarray.\n",
      "\n",
      "First mode, `buffer` is None:\n",
      "\n",
      ">>> np.ndarray(shape=(2,2), dtype=float, order='F')\n",
      "array([[0.0e+000, 0.0e+000], # random\n",
      "       [     nan, 2.5e-323]])\n",
      "\n",
      "Second mode:\n",
      "\n",
      ">>> np.ndarray((2,), buffer=np.array([1,2,3]),\n",
      "...            offset=np.int_().itemsize,\n",
      "...            dtype=int) # offset = 1*itemsize, i.e. skip first element\n",
      "array([2, 3])\n",
      "\u001b[1;31mFile:\u001b[0m           c:\\users\\hp\\anaconda3\\lib\\site-packages\\numpy\\__init__.py\n",
      "\u001b[1;31mType:\u001b[0m           type\n",
      "\u001b[1;31mSubclasses:\u001b[0m     chararray, recarray, memmap, matrix, MaskedArray, MatlabObject, MatlabFunction, MatlabOpaque\n"
     ],
     "name": "stdout"
    }
   ],
   "source": [
    "np.ndarray?"
   ]
  },
  {
   "cell_type": "code",
   "execution_count": 61,
   "metadata": {},
   "outputs": [
    {
     "output_type": "execute_result",
     "data": {
      "text/plain": [
       "'c:\\\\Users\\\\HP\\\\Desktop\\\\project 1'"
      ]
     },
     "metadata": {},
     "execution_count": 61
    }
   ],
   "source": [
    "pwd"
   ]
  },
  {
   "cell_type": "code",
   "execution_count": 70,
   "metadata": {},
   "outputs": [],
   "source": [
    "m_array = np.genfromtxt('movies.csv.txt', delimiter=\",\", dtype= None)"
   ]
  },
  {
   "cell_type": "code",
   "execution_count": 67,
   "metadata": {},
   "outputs": [
    {
     "output_type": "stream",
     "name": "stdout",
     "text": [
      " Datentr�ger in Laufwerk C: ist Windows\n",
      " Volumeseriennummer: 1ABF-0FEE\n",
      "\n",
      " Verzeichnis von c:\\Users\\HP\\Desktop\\project 1\n",
      "\n",
      "04.12.2020  09:36    <DIR>          .\n",
      "04.12.2020  09:36    <DIR>          ..\n",
      "02.12.2020  13:02           166.143 data_explore.ipynb\n",
      "04.12.2020  09:35             5.073 movies.csv.txt\n",
      "02.12.2020  05:23            84.199 winequality-red.csv\n",
      "02.12.2020  07:08           264.426 winequality-white.csv\n",
      "               4 Datei(en),        519.841 Bytes\n",
      "               2 Verzeichnis(se), 204.273.446.912 Bytes frei\n"
     ]
    }
   ],
   "source": [
    "ls"
   ]
  },
  {
   "cell_type": "code",
   "execution_count": 71,
   "metadata": {},
   "outputs": [
    {
     "output_type": "execute_result",
     "data": {
      "text/plain": [
       "array([[b'Film', b'Genre', b'Lead Studio', b'Audience score %',\n",
       "        b'Profitability', b'Rotten Tomatoes %', b'Worldwide Gross',\n",
       "        b'Year'],\n",
       "       [b'Zack and Miri Make a Porno', b'Romance',\n",
       "        b'The Weinstein Company', b'70', b'1.747541667', b'64',\n",
       "        b'$41.94 ', b'2008'],\n",
       "       [b'Youth in Revolt', b'Comedy', b'The Weinstein Company', b'52',\n",
       "        b'1.09', b'68', b'$19.62 ', b'2010'],\n",
       "       [b'You Will Meet a Tall Dark Stranger', b'Comedy', b'Independent',\n",
       "        b'35', b'1.211818182', b'43', b'$26.66 ', b'2010'],\n",
       "       [b'When in Rome', b'Comedy', b'Disney', b'44', b'0', b'15',\n",
       "        b'$43.04 ', b'2010'],\n",
       "       [b'What Happens in Vegas', b'Comedy', b'Fox', b'72',\n",
       "        b'6.267647029', b'28', b'$219.37 ', b'2008'],\n",
       "       [b'Water For Elephants', b'Drama', b'20th Century Fox', b'72',\n",
       "        b'3.081421053', b'60', b'$117.09 ', b'2011'],\n",
       "       [b'WALL-E', b'Animation', b'Disney', b'89', b'2.896019067', b'96',\n",
       "        b'$521.28 ', b'2008'],\n",
       "       [b'Waitress', b'Romance', b'Independent', b'67', b'11.0897415',\n",
       "        b'89', b'$22.18 ', b'2007'],\n",
       "       [b'Waiting For Forever', b'Romance', b'Independent', b'53',\n",
       "        b'0.005', b'6', b'$0.03 ', b'2011'],\n",
       "       [b\"Valentine's Day\", b'Comedy', b'Warner Bros.', b'54',\n",
       "        b'4.184038462', b'17', b'$217.57 ', b'2010'],\n",
       "       [b\"Tyler Perry's Why Did I get Married\", b'Romance',\n",
       "        b'Independent', b'47', b'3.7241924', b'46', b'$55.86 ', b'2007'],\n",
       "       [b'Twilight: Breaking Dawn', b'Romance', b'Independent', b'68',\n",
       "        b'6.383363636', b'26', b'$702.17 ', b'2011'],\n",
       "       [b'Twilight', b'Romance', b'Summit', b'82', b'10.18002703', b'49',\n",
       "        b'$376.66 ', b'2008'],\n",
       "       [b'The Ugly Truth', b'Comedy', b'Independent', b'68',\n",
       "        b'5.402631579', b'14', b'$205.30 ', b'2009'],\n",
       "       [b'The Twilight Saga: New Moon', b'Drama', b'Summit', b'78',\n",
       "        b'14.1964', b'27', b'$709.82 ', b'2009'],\n",
       "       [b\"The Time Traveler's Wife\", b'Drama', b'Paramount', b'65',\n",
       "        b'2.598205128', b'38', b'$101.33 ', b'2009'],\n",
       "       [b'The Proposal', b'Comedy', b'Disney', b'74', b'7.8675', b'43',\n",
       "        b'$314.70 ', b'2009'],\n",
       "       [b'The Invention of Lying', b'Comedy', b'Warner Bros.', b'47',\n",
       "        b'1.751351351', b'56', b'$32.40 ', b'2009'],\n",
       "       [b'The Heartbreak Kid', b'Comedy', b'Paramount', b'41',\n",
       "        b'2.129444167', b'30', b'$127.77 ', b'2007'],\n",
       "       [b'The Duchess', b'Drama', b'Paramount', b'68', b'3.207850222',\n",
       "        b'60', b'$43.31 ', b'2008'],\n",
       "       [b'The Curious Case of Benjamin Button', b'Fantasy',\n",
       "        b'Warner Bros.', b'81', b'1.78394375', b'73', b'$285.43 ',\n",
       "        b'2008'],\n",
       "       [b'The Back-up Plan', b'Comedy', b'CBS', b'47', b'2.202571429',\n",
       "        b'20', b'$77.09 ', b'2010'],\n",
       "       [b'Tangled', b'Animation', b'Disney', b'88', b'1.365692308',\n",
       "        b'89', b'$355.01 ', b'2010'],\n",
       "       [b'Something Borrowed', b'Romance', b'Independent', b'48',\n",
       "        b'1.719514286', b'15', b'$60.18 ', b'2011'],\n",
       "       [b\"She's Out of My League\", b'Comedy', b'Paramount', b'60',\n",
       "        b'2.4405', b'57', b'$48.81 ', b'2010'],\n",
       "       [b'Sex and the City Two', b'Comedy', b'Warner Bros.', b'49',\n",
       "        b'2.8835', b'15', b'$288.35 ', b'2010'],\n",
       "       [b'Sex and the City 2', b'Comedy', b'Warner Bros.', b'49',\n",
       "        b'2.8835', b'15', b'$288.35 ', b'2010'],\n",
       "       [b'Sex and the City', b'Comedy', b'Warner Bros.', b'81',\n",
       "        b'7.221795791', b'49', b'$415.25 ', b'2008'],\n",
       "       [b'Remember Me', b'Drama', b'Summit', b'70', b'3.49125', b'28',\n",
       "        b'$55.86 ', b'2010'],\n",
       "       [b'Rachel Getting Married', b'Drama', b'Independent', b'61',\n",
       "        b'1.384166667', b'85', b'$16.61 ', b'2008'],\n",
       "       [b'Penelope', b'Comedy', b'Summit', b'74', b'1.382799733', b'52',\n",
       "        b'$20.74 ', b'2008'],\n",
       "       [b'P.S. I Love You', b'Romance', b'Independent', b'82',\n",
       "        b'5.103116833', b'21', b'$153.09 ', b'2007'],\n",
       "       [b'Over Her Dead Body', b'Comedy', b'New Line', b'47', b'2.071',\n",
       "        b'15', b'$20.71 ', b'2008'],\n",
       "       [b'Our Family Wedding', b'Comedy', b'Independent', b'49', b'0',\n",
       "        b'14', b'$21.37 ', b'2010'],\n",
       "       [b'One Day', b'Romance', b'Independent', b'54', b'3.682733333',\n",
       "        b'37', b'$55.24 ', b'2011'],\n",
       "       [b'Not Easily Broken', b'Drama', b'Independent', b'66', b'2.14',\n",
       "        b'34', b'$10.70 ', b'2009'],\n",
       "       [b'No Reservations', b'Comedy', b'Warner Bros.', b'64',\n",
       "        b'3.307180357', b'39', b'$92.60 ', b'2007'],\n",
       "       [b\"Nick and Norah's Infinite Playlist\", b'Comedy', b'Sony', b'67',\n",
       "        b'3.3527293', b'73', b'$33.53 ', b'2008'],\n",
       "       [b\"New Year's Eve\", b'Romance', b'Warner Bros.', b'48',\n",
       "        b'2.536428571', b'8', b'$142.04 ', b'2011'],\n",
       "       [b'My Week with Marilyn', b'Drama', b'The Weinstein Company',\n",
       "        b'84', b'0.8258', b'83', b'$8.26 ', b'2011'],\n",
       "       [b'Music and Lyrics', b'Romance', b'Warner Bros.', b'70',\n",
       "        b'3.64741055', b'63', b'$145.90 ', b'2007'],\n",
       "       [b'Monte Carlo', b'Romance', b'20th Century Fox', b'50',\n",
       "        b'1.9832', b'38', b'$39.66 ', b'2011'],\n",
       "       [b'Miss Pettigrew Lives for a Day', b'Comedy', b'Independent',\n",
       "        b'70', b'0.2528949', b'78', b'$15.17 ', b'2008'],\n",
       "       [b'Midnight in Paris', b'Romence', b'Sony', b'84', b'8.744705882',\n",
       "        b'93', b'$148.66 ', b'2011'],\n",
       "       [b'Marley and Me', b'Comedy', b'Fox', b'77', b'3.746781818',\n",
       "        b'63', b'$206.07 ', b'2008'],\n",
       "       [b'Mamma Mia!', b'Comedy', b'Universal', b'76', b'9.234453864',\n",
       "        b'53', b'$609.47 ', b'2008'],\n",
       "       [b'Mamma Mia!', b'Comedy', b'Universal', b'76', b'9.234453864',\n",
       "        b'53', b'$609.47 ', b'2008'],\n",
       "       [b'Made of Honor', b'Comdy', b'Sony', b'61', b'2.64906835', b'13',\n",
       "        b'$105.96 ', b'2008'],\n",
       "       [b'Love Happens', b'Drama', b'Universal', b'40', b'2.004444444',\n",
       "        b'18', b'$36.08 ', b'2009'],\n",
       "       [b'Love & Other Drugs', b'Comedy', b'Fox', b'55', b'1.817666667',\n",
       "        b'48', b'$54.53 ', b'2010'],\n",
       "       [b'Life as We Know It', b'Comedy', b'Independent', b'62',\n",
       "        b'2.530526316', b'28', b'$96.16 ', b'2010'],\n",
       "       [b'License to Wed', b'Comedy', b'Warner Bros.', b'55',\n",
       "        b'1.9802064', b'8', b'$69.31 ', b'2007'],\n",
       "       [b'Letters to Juliet', b'Comedy', b'Summit', b'62',\n",
       "        b'2.639333333', b'40', b'$79.18 ', b'2010'],\n",
       "       [b'Leap Year', b'Comedy', b'Universal', b'49', b'1.715263158',\n",
       "        b'21', b'$32.59 ', b'2010'],\n",
       "       [b'Knocked Up', b'Comedy', b'Universal', b'83', b'6.636401848',\n",
       "        b'91', b'$219 ', b'2007'],\n",
       "       [b'Killers', b'Action', b'Lionsgate', b'45', b'1.245333333',\n",
       "        b'11', b'$93.40 ', b'2010'],\n",
       "       [b'Just Wright', b'Comedy', b'Fox', b'58', b'1.797416667', b'45',\n",
       "        b'$21.57 ', b'2010'],\n",
       "       [b'Jane Eyre', b'Romance', b'Universal', b'77', b'0', b'85',\n",
       "        b'$30.15 ', b'2011'],\n",
       "       [b\"It's Complicated\", b'Comedy', b'Universal', b'63',\n",
       "        b'2.642352941', b'56', b'$224.60 ', b'2009'],\n",
       "       [b'I Love You Phillip Morris', b'Comedy', b'Independent', b'57',\n",
       "        b'1.34', b'71', b'$20.10 ', b'2010'],\n",
       "       [b'High School Musical 3: Senior Year', b'Comedy', b'Disney',\n",
       "        b'76', b'22.91313646', b'65', b'$252.04 ', b'2008'],\n",
       "       [b\"He's Just Not That Into You\", b'Comedy', b'Warner Bros.',\n",
       "        b'60', b'7.1536', b'42', b'$178.84 ', b'2009'],\n",
       "       [b'Good Luck Chuck', b'Comedy', b'Lionsgate', b'61',\n",
       "        b'2.36768512', b'3', b'$59.19 ', b'2007'],\n",
       "       [b'Going the Distance', b'Comedy', b'Warner Bros.', b'56',\n",
       "        b'1.3140625', b'53', b'$42.05 ', b'2010'],\n",
       "       [b'Gnomeo and Juliet', b'Animation', b'Disney', b'52',\n",
       "        b'5.387972222', b'56', b'$193.97 ', b'2011'],\n",
       "       [b'Gnomeo and Juliet', b'Animation', b'Disney', b'52',\n",
       "        b'5.387972222', b'56', b'$193.97 ', b'2011'],\n",
       "       [b'Ghosts of Girlfriends Past', b'Comedy', b'Warner Bros.', b'47',\n",
       "        b'2.0444', b'27', b'$102.22 ', b'2009'],\n",
       "       [b'Four Christmases', b'Comedy', b'Warner Bros.', b'52',\n",
       "        b'2.022925', b'26', b'$161.83 ', b'2008'],\n",
       "       [b'Fireproof', b'Drama', b'Independent', b'51', b'66.934', b'40',\n",
       "        b'$33.47 ', b'2008'],\n",
       "       [b'Enchanted', b'Comedy', b'Disney', b'80', b'4.005737082', b'93',\n",
       "        b'$340.49 ', b'2007'],\n",
       "       [b'Dear John', b'Drama', b'Sony', b'66', b'4.5988', b'29',\n",
       "        b'$114.97 ', b'2010'],\n",
       "       [b'Beginners', b'Comedy', b'Independent', b'80', b'4.471875',\n",
       "        b'84', b'$14.31 ', b'2011'],\n",
       "       [b'Across the Universe', b'romance', b'Independent', b'84',\n",
       "        b'0.652603178', b'54', b'$29.37 ', b'2007'],\n",
       "       [b'A Serious Man', b'Drama', b'Universal', b'64', b'4.382857143',\n",
       "        b'89', b'$30.68 ', b'2009'],\n",
       "       [b'A Dangerous Method', b'Drama', b'Independent', b'89',\n",
       "        b'0.44864475', b'79', b'$8.97 ', b'2011'],\n",
       "       [b'27 Dresses', b'Comedy', b'Fox', b'71', b'5.3436218', b'40',\n",
       "        b'$160.31 ', b'2008'],\n",
       "       [b'(500) Days of Summer', b'comedy', b'Fox', b'81', b'8.096',\n",
       "        b'87', b'$60.72 ', b'2009']], dtype='|S35')"
      ]
     },
     "metadata": {},
     "execution_count": 71
    }
   ],
   "source": [
    "m_array"
   ]
  },
  {
   "cell_type": "code",
   "execution_count": 69,
   "metadata": {},
   "outputs": [
    {
     "output_type": "execute_result",
     "data": {
      "text/plain": [
       "array([[           nan,            nan,            nan,            nan,\n",
       "                   nan,            nan,            nan,            nan],\n",
       "       [           nan,            nan,            nan, 7.00000000e+01,\n",
       "        1.74754167e+00, 6.40000000e+01,            nan, 2.00800000e+03],\n",
       "       [           nan,            nan,            nan, 5.20000000e+01,\n",
       "        1.09000000e+00, 6.80000000e+01,            nan, 2.01000000e+03],\n",
       "       [           nan,            nan,            nan, 3.50000000e+01,\n",
       "        1.21181818e+00, 4.30000000e+01,            nan, 2.01000000e+03],\n",
       "       [           nan,            nan,            nan, 4.40000000e+01,\n",
       "        0.00000000e+00, 1.50000000e+01,            nan, 2.01000000e+03],\n",
       "       [           nan,            nan,            nan, 7.20000000e+01,\n",
       "        6.26764703e+00, 2.80000000e+01,            nan, 2.00800000e+03],\n",
       "       [           nan,            nan,            nan, 7.20000000e+01,\n",
       "        3.08142105e+00, 6.00000000e+01,            nan, 2.01100000e+03],\n",
       "       [           nan,            nan,            nan, 8.90000000e+01,\n",
       "        2.89601907e+00, 9.60000000e+01,            nan, 2.00800000e+03],\n",
       "       [           nan,            nan,            nan, 6.70000000e+01,\n",
       "        1.10897415e+01, 8.90000000e+01,            nan, 2.00700000e+03],\n",
       "       [           nan,            nan,            nan, 5.30000000e+01,\n",
       "        5.00000000e-03, 6.00000000e+00,            nan, 2.01100000e+03],\n",
       "       [           nan,            nan,            nan, 5.40000000e+01,\n",
       "        4.18403846e+00, 1.70000000e+01,            nan, 2.01000000e+03],\n",
       "       [           nan,            nan,            nan, 4.70000000e+01,\n",
       "        3.72419240e+00, 4.60000000e+01,            nan, 2.00700000e+03],\n",
       "       [           nan,            nan,            nan, 6.80000000e+01,\n",
       "        6.38336364e+00, 2.60000000e+01,            nan, 2.01100000e+03],\n",
       "       [           nan,            nan,            nan, 8.20000000e+01,\n",
       "        1.01800270e+01, 4.90000000e+01,            nan, 2.00800000e+03],\n",
       "       [           nan,            nan,            nan, 6.80000000e+01,\n",
       "        5.40263158e+00, 1.40000000e+01,            nan, 2.00900000e+03],\n",
       "       [           nan,            nan,            nan, 7.80000000e+01,\n",
       "        1.41964000e+01, 2.70000000e+01,            nan, 2.00900000e+03],\n",
       "       [           nan,            nan,            nan, 6.50000000e+01,\n",
       "        2.59820513e+00, 3.80000000e+01,            nan, 2.00900000e+03],\n",
       "       [           nan,            nan,            nan, 7.40000000e+01,\n",
       "        7.86750000e+00, 4.30000000e+01,            nan, 2.00900000e+03],\n",
       "       [           nan,            nan,            nan, 4.70000000e+01,\n",
       "        1.75135135e+00, 5.60000000e+01,            nan, 2.00900000e+03],\n",
       "       [           nan,            nan,            nan, 4.10000000e+01,\n",
       "        2.12944417e+00, 3.00000000e+01,            nan, 2.00700000e+03],\n",
       "       [           nan,            nan,            nan, 6.80000000e+01,\n",
       "        3.20785022e+00, 6.00000000e+01,            nan, 2.00800000e+03],\n",
       "       [           nan,            nan,            nan, 8.10000000e+01,\n",
       "        1.78394375e+00, 7.30000000e+01,            nan, 2.00800000e+03],\n",
       "       [           nan,            nan,            nan, 4.70000000e+01,\n",
       "        2.20257143e+00, 2.00000000e+01,            nan, 2.01000000e+03],\n",
       "       [           nan,            nan,            nan, 8.80000000e+01,\n",
       "        1.36569231e+00, 8.90000000e+01,            nan, 2.01000000e+03],\n",
       "       [           nan,            nan,            nan, 4.80000000e+01,\n",
       "        1.71951429e+00, 1.50000000e+01,            nan, 2.01100000e+03],\n",
       "       [           nan,            nan,            nan, 6.00000000e+01,\n",
       "        2.44050000e+00, 5.70000000e+01,            nan, 2.01000000e+03],\n",
       "       [           nan,            nan,            nan, 4.90000000e+01,\n",
       "        2.88350000e+00, 1.50000000e+01,            nan, 2.01000000e+03],\n",
       "       [           nan,            nan,            nan, 4.90000000e+01,\n",
       "        2.88350000e+00, 1.50000000e+01,            nan, 2.01000000e+03],\n",
       "       [           nan,            nan,            nan, 8.10000000e+01,\n",
       "        7.22179579e+00, 4.90000000e+01,            nan, 2.00800000e+03],\n",
       "       [           nan,            nan,            nan, 7.00000000e+01,\n",
       "        3.49125000e+00, 2.80000000e+01,            nan, 2.01000000e+03],\n",
       "       [           nan,            nan,            nan, 6.10000000e+01,\n",
       "        1.38416667e+00, 8.50000000e+01,            nan, 2.00800000e+03],\n",
       "       [           nan,            nan,            nan, 7.40000000e+01,\n",
       "        1.38279973e+00, 5.20000000e+01,            nan, 2.00800000e+03],\n",
       "       [           nan,            nan,            nan, 8.20000000e+01,\n",
       "        5.10311683e+00, 2.10000000e+01,            nan, 2.00700000e+03],\n",
       "       [           nan,            nan,            nan, 4.70000000e+01,\n",
       "        2.07100000e+00, 1.50000000e+01,            nan, 2.00800000e+03],\n",
       "       [           nan,            nan,            nan, 4.90000000e+01,\n",
       "        0.00000000e+00, 1.40000000e+01,            nan, 2.01000000e+03],\n",
       "       [           nan,            nan,            nan, 5.40000000e+01,\n",
       "        3.68273333e+00, 3.70000000e+01,            nan, 2.01100000e+03],\n",
       "       [           nan,            nan,            nan, 6.60000000e+01,\n",
       "        2.14000000e+00, 3.40000000e+01,            nan, 2.00900000e+03],\n",
       "       [           nan,            nan,            nan, 6.40000000e+01,\n",
       "        3.30718036e+00, 3.90000000e+01,            nan, 2.00700000e+03],\n",
       "       [           nan,            nan,            nan, 6.70000000e+01,\n",
       "        3.35272930e+00, 7.30000000e+01,            nan, 2.00800000e+03],\n",
       "       [           nan,            nan,            nan, 4.80000000e+01,\n",
       "        2.53642857e+00, 8.00000000e+00,            nan, 2.01100000e+03],\n",
       "       [           nan,            nan,            nan, 8.40000000e+01,\n",
       "        8.25800000e-01, 8.30000000e+01,            nan, 2.01100000e+03],\n",
       "       [           nan,            nan,            nan, 7.00000000e+01,\n",
       "        3.64741055e+00, 6.30000000e+01,            nan, 2.00700000e+03],\n",
       "       [           nan,            nan,            nan, 5.00000000e+01,\n",
       "        1.98320000e+00, 3.80000000e+01,            nan, 2.01100000e+03],\n",
       "       [           nan,            nan,            nan, 7.00000000e+01,\n",
       "        2.52894900e-01, 7.80000000e+01,            nan, 2.00800000e+03],\n",
       "       [           nan,            nan,            nan, 8.40000000e+01,\n",
       "        8.74470588e+00, 9.30000000e+01,            nan, 2.01100000e+03],\n",
       "       [           nan,            nan,            nan, 7.70000000e+01,\n",
       "        3.74678182e+00, 6.30000000e+01,            nan, 2.00800000e+03],\n",
       "       [           nan,            nan,            nan, 7.60000000e+01,\n",
       "        9.23445386e+00, 5.30000000e+01,            nan, 2.00800000e+03],\n",
       "       [           nan,            nan,            nan, 7.60000000e+01,\n",
       "        9.23445386e+00, 5.30000000e+01,            nan, 2.00800000e+03],\n",
       "       [           nan,            nan,            nan, 6.10000000e+01,\n",
       "        2.64906835e+00, 1.30000000e+01,            nan, 2.00800000e+03],\n",
       "       [           nan,            nan,            nan, 4.00000000e+01,\n",
       "        2.00444444e+00, 1.80000000e+01,            nan, 2.00900000e+03],\n",
       "       [           nan,            nan,            nan, 5.50000000e+01,\n",
       "        1.81766667e+00, 4.80000000e+01,            nan, 2.01000000e+03],\n",
       "       [           nan,            nan,            nan, 6.20000000e+01,\n",
       "        2.53052632e+00, 2.80000000e+01,            nan, 2.01000000e+03],\n",
       "       [           nan,            nan,            nan, 5.50000000e+01,\n",
       "        1.98020640e+00, 8.00000000e+00,            nan, 2.00700000e+03],\n",
       "       [           nan,            nan,            nan, 6.20000000e+01,\n",
       "        2.63933333e+00, 4.00000000e+01,            nan, 2.01000000e+03],\n",
       "       [           nan,            nan,            nan, 4.90000000e+01,\n",
       "        1.71526316e+00, 2.10000000e+01,            nan, 2.01000000e+03],\n",
       "       [           nan,            nan,            nan, 8.30000000e+01,\n",
       "        6.63640185e+00, 9.10000000e+01,            nan, 2.00700000e+03],\n",
       "       [           nan,            nan,            nan, 4.50000000e+01,\n",
       "        1.24533333e+00, 1.10000000e+01,            nan, 2.01000000e+03],\n",
       "       [           nan,            nan,            nan, 5.80000000e+01,\n",
       "        1.79741667e+00, 4.50000000e+01,            nan, 2.01000000e+03],\n",
       "       [           nan,            nan,            nan, 7.70000000e+01,\n",
       "        0.00000000e+00, 8.50000000e+01,            nan, 2.01100000e+03],\n",
       "       [           nan,            nan,            nan, 6.30000000e+01,\n",
       "        2.64235294e+00, 5.60000000e+01,            nan, 2.00900000e+03],\n",
       "       [           nan,            nan,            nan, 5.70000000e+01,\n",
       "        1.34000000e+00, 7.10000000e+01,            nan, 2.01000000e+03],\n",
       "       [           nan,            nan,            nan, 7.60000000e+01,\n",
       "        2.29131365e+01, 6.50000000e+01,            nan, 2.00800000e+03],\n",
       "       [           nan,            nan,            nan, 6.00000000e+01,\n",
       "        7.15360000e+00, 4.20000000e+01,            nan, 2.00900000e+03],\n",
       "       [           nan,            nan,            nan, 6.10000000e+01,\n",
       "        2.36768512e+00, 3.00000000e+00,            nan, 2.00700000e+03],\n",
       "       [           nan,            nan,            nan, 5.60000000e+01,\n",
       "        1.31406250e+00, 5.30000000e+01,            nan, 2.01000000e+03],\n",
       "       [           nan,            nan,            nan, 5.20000000e+01,\n",
       "        5.38797222e+00, 5.60000000e+01,            nan, 2.01100000e+03],\n",
       "       [           nan,            nan,            nan, 5.20000000e+01,\n",
       "        5.38797222e+00, 5.60000000e+01,            nan, 2.01100000e+03],\n",
       "       [           nan,            nan,            nan, 4.70000000e+01,\n",
       "        2.04440000e+00, 2.70000000e+01,            nan, 2.00900000e+03],\n",
       "       [           nan,            nan,            nan, 5.20000000e+01,\n",
       "        2.02292500e+00, 2.60000000e+01,            nan, 2.00800000e+03],\n",
       "       [           nan,            nan,            nan, 5.10000000e+01,\n",
       "        6.69340000e+01, 4.00000000e+01,            nan, 2.00800000e+03],\n",
       "       [           nan,            nan,            nan, 8.00000000e+01,\n",
       "        4.00573708e+00, 9.30000000e+01,            nan, 2.00700000e+03],\n",
       "       [           nan,            nan,            nan, 6.60000000e+01,\n",
       "        4.59880000e+00, 2.90000000e+01,            nan, 2.01000000e+03],\n",
       "       [           nan,            nan,            nan, 8.00000000e+01,\n",
       "        4.47187500e+00, 8.40000000e+01,            nan, 2.01100000e+03],\n",
       "       [           nan,            nan,            nan, 8.40000000e+01,\n",
       "        6.52603178e-01, 5.40000000e+01,            nan, 2.00700000e+03],\n",
       "       [           nan,            nan,            nan, 6.40000000e+01,\n",
       "        4.38285714e+00, 8.90000000e+01,            nan, 2.00900000e+03],\n",
       "       [           nan,            nan,            nan, 8.90000000e+01,\n",
       "        4.48644750e-01, 7.90000000e+01,            nan, 2.01100000e+03],\n",
       "       [           nan,            nan,            nan, 7.10000000e+01,\n",
       "        5.34362180e+00, 4.00000000e+01,            nan, 2.00800000e+03],\n",
       "       [           nan,            nan,            nan, 8.10000000e+01,\n",
       "        8.09600000e+00, 8.70000000e+01,            nan, 2.00900000e+03]])"
      ]
     },
     "metadata": {},
     "execution_count": 69
    }
   ],
   "source": [
    "m_array"
   ]
  },
  {
   "cell_type": "code",
   "execution_count": 76,
   "metadata": {},
   "outputs": [],
   "source": [
    "movie_ar = np.recfromcsv('movies.csv.txt', delimiter = ',', dtype = str)"
   ]
  },
  {
   "cell_type": "code",
   "execution_count": 74,
   "metadata": {},
   "outputs": [
    {
     "output_type": "execute_result",
     "data": {
      "text/plain": [
       "rec.array([(b'Zack and Miri Make a Porno', b'Romance', b'The Weinstein Company', 70, 1.74754167e+00, 64, b'$41.94 ', 2008),\n",
       "           (b'Youth in Revolt', b'Comedy', b'The Weinstein Company', 52, 1.09000000e+00, 68, b'$19.62 ', 2010),\n",
       "           (b'You Will Meet a Tall Dark Stranger', b'Comedy', b'Independent', 35, 1.21181818e+00, 43, b'$26.66 ', 2010),\n",
       "           (b'When in Rome', b'Comedy', b'Disney', 44, 0.00000000e+00, 15, b'$43.04 ', 2010),\n",
       "           (b'What Happens in Vegas', b'Comedy', b'Fox', 72, 6.26764703e+00, 28, b'$219.37 ', 2008),\n",
       "           (b'Water For Elephants', b'Drama', b'20th Century Fox', 72, 3.08142105e+00, 60, b'$117.09 ', 2011),\n",
       "           (b'WALL-E', b'Animation', b'Disney', 89, 2.89601907e+00, 96, b'$521.28 ', 2008),\n",
       "           (b'Waitress', b'Romance', b'Independent', 67, 1.10897415e+01, 89, b'$22.18 ', 2007),\n",
       "           (b'Waiting For Forever', b'Romance', b'Independent', 53, 5.00000000e-03,  6, b'$0.03 ', 2011),\n",
       "           (b\"Valentine's Day\", b'Comedy', b'Warner Bros.', 54, 4.18403846e+00, 17, b'$217.57 ', 2010),\n",
       "           (b\"Tyler Perry's Why Did I get Married\", b'Romance', b'Independent', 47, 3.72419240e+00, 46, b'$55.86 ', 2007),\n",
       "           (b'Twilight: Breaking Dawn', b'Romance', b'Independent', 68, 6.38336364e+00, 26, b'$702.17 ', 2011),\n",
       "           (b'Twilight', b'Romance', b'Summit', 82, 1.01800270e+01, 49, b'$376.66 ', 2008),\n",
       "           (b'The Ugly Truth', b'Comedy', b'Independent', 68, 5.40263158e+00, 14, b'$205.30 ', 2009),\n",
       "           (b'The Twilight Saga: New Moon', b'Drama', b'Summit', 78, 1.41964000e+01, 27, b'$709.82 ', 2009),\n",
       "           (b\"The Time Traveler's Wife\", b'Drama', b'Paramount', 65, 2.59820513e+00, 38, b'$101.33 ', 2009),\n",
       "           (b'The Proposal', b'Comedy', b'Disney', 74, 7.86750000e+00, 43, b'$314.70 ', 2009),\n",
       "           (b'The Invention of Lying', b'Comedy', b'Warner Bros.', 47, 1.75135135e+00, 56, b'$32.40 ', 2009),\n",
       "           (b'The Heartbreak Kid', b'Comedy', b'Paramount', 41, 2.12944417e+00, 30, b'$127.77 ', 2007),\n",
       "           (b'The Duchess', b'Drama', b'Paramount', 68, 3.20785022e+00, 60, b'$43.31 ', 2008),\n",
       "           (b'The Curious Case of Benjamin Button', b'Fantasy', b'Warner Bros.', 81, 1.78394375e+00, 73, b'$285.43 ', 2008),\n",
       "           (b'The Back-up Plan', b'Comedy', b'CBS', 47, 2.20257143e+00, 20, b'$77.09 ', 2010),\n",
       "           (b'Tangled', b'Animation', b'Disney', 88, 1.36569231e+00, 89, b'$355.01 ', 2010),\n",
       "           (b'Something Borrowed', b'Romance', b'Independent', 48, 1.71951429e+00, 15, b'$60.18 ', 2011),\n",
       "           (b\"She's Out of My League\", b'Comedy', b'Paramount', 60, 2.44050000e+00, 57, b'$48.81 ', 2010),\n",
       "           (b'Sex and the City Two', b'Comedy', b'Warner Bros.', 49, 2.88350000e+00, 15, b'$288.35 ', 2010),\n",
       "           (b'Sex and the City 2', b'Comedy', b'Warner Bros.', 49, 2.88350000e+00, 15, b'$288.35 ', 2010),\n",
       "           (b'Sex and the City', b'Comedy', b'Warner Bros.', 81, 7.22179579e+00, 49, b'$415.25 ', 2008),\n",
       "           (b'Remember Me', b'Drama', b'Summit', 70, 3.49125000e+00, 28, b'$55.86 ', 2010),\n",
       "           (b'Rachel Getting Married', b'Drama', b'Independent', 61, 1.38416667e+00, 85, b'$16.61 ', 2008),\n",
       "           (b'Penelope', b'Comedy', b'Summit', 74, 1.38279973e+00, 52, b'$20.74 ', 2008),\n",
       "           (b'P.S. I Love You', b'Romance', b'Independent', 82, 5.10311683e+00, 21, b'$153.09 ', 2007),\n",
       "           (b'Over Her Dead Body', b'Comedy', b'New Line', 47, 2.07100000e+00, 15, b'$20.71 ', 2008),\n",
       "           (b'Our Family Wedding', b'Comedy', b'Independent', 49, 0.00000000e+00, 14, b'$21.37 ', 2010),\n",
       "           (b'One Day', b'Romance', b'Independent', 54, 3.68273333e+00, 37, b'$55.24 ', 2011),\n",
       "           (b'Not Easily Broken', b'Drama', b'Independent', 66, 2.14000000e+00, 34, b'$10.70 ', 2009),\n",
       "           (b'No Reservations', b'Comedy', b'Warner Bros.', 64, 3.30718036e+00, 39, b'$92.60 ', 2007),\n",
       "           (b\"Nick and Norah's Infinite Playlist\", b'Comedy', b'Sony', 67, 3.35272930e+00, 73, b'$33.53 ', 2008),\n",
       "           (b\"New Year's Eve\", b'Romance', b'Warner Bros.', 48, 2.53642857e+00,  8, b'$142.04 ', 2011),\n",
       "           (b'My Week with Marilyn', b'Drama', b'The Weinstein Company', 84, 8.25800000e-01, 83, b'$8.26 ', 2011),\n",
       "           (b'Music and Lyrics', b'Romance', b'Warner Bros.', 70, 3.64741055e+00, 63, b'$145.90 ', 2007),\n",
       "           (b'Monte Carlo', b'Romance', b'20th Century Fox', 50, 1.98320000e+00, 38, b'$39.66 ', 2011),\n",
       "           (b'Miss Pettigrew Lives for a Day', b'Comedy', b'Independent', 70, 2.52894900e-01, 78, b'$15.17 ', 2008),\n",
       "           (b'Midnight in Paris', b'Romence', b'Sony', 84, 8.74470588e+00, 93, b'$148.66 ', 2011),\n",
       "           (b'Marley and Me', b'Comedy', b'Fox', 77, 3.74678182e+00, 63, b'$206.07 ', 2008),\n",
       "           (b'Mamma Mia!', b'Comedy', b'Universal', 76, 9.23445386e+00, 53, b'$609.47 ', 2008),\n",
       "           (b'Mamma Mia!', b'Comedy', b'Universal', 76, 9.23445386e+00, 53, b'$609.47 ', 2008),\n",
       "           (b'Made of Honor', b'Comdy', b'Sony', 61, 2.64906835e+00, 13, b'$105.96 ', 2008),\n",
       "           (b'Love Happens', b'Drama', b'Universal', 40, 2.00444444e+00, 18, b'$36.08 ', 2009),\n",
       "           (b'Love & Other Drugs', b'Comedy', b'Fox', 55, 1.81766667e+00, 48, b'$54.53 ', 2010),\n",
       "           (b'Life as We Know It', b'Comedy', b'Independent', 62, 2.53052632e+00, 28, b'$96.16 ', 2010),\n",
       "           (b'License to Wed', b'Comedy', b'Warner Bros.', 55, 1.98020640e+00,  8, b'$69.31 ', 2007),\n",
       "           (b'Letters to Juliet', b'Comedy', b'Summit', 62, 2.63933333e+00, 40, b'$79.18 ', 2010),\n",
       "           (b'Leap Year', b'Comedy', b'Universal', 49, 1.71526316e+00, 21, b'$32.59 ', 2010),\n",
       "           (b'Knocked Up', b'Comedy', b'Universal', 83, 6.63640185e+00, 91, b'$219 ', 2007),\n",
       "           (b'Killers', b'Action', b'Lionsgate', 45, 1.24533333e+00, 11, b'$93.40 ', 2010),\n",
       "           (b'Just Wright', b'Comedy', b'Fox', 58, 1.79741667e+00, 45, b'$21.57 ', 2010),\n",
       "           (b'Jane Eyre', b'Romance', b'Universal', 77, 0.00000000e+00, 85, b'$30.15 ', 2011),\n",
       "           (b\"It's Complicated\", b'Comedy', b'Universal', 63, 2.64235294e+00, 56, b'$224.60 ', 2009),\n",
       "           (b'I Love You Phillip Morris', b'Comedy', b'Independent', 57, 1.34000000e+00, 71, b'$20.10 ', 2010),\n",
       "           (b'High School Musical 3: Senior Year', b'Comedy', b'Disney', 76, 2.29131365e+01, 65, b'$252.04 ', 2008),\n",
       "           (b\"He's Just Not That Into You\", b'Comedy', b'Warner Bros.', 60, 7.15360000e+00, 42, b'$178.84 ', 2009),\n",
       "           (b'Good Luck Chuck', b'Comedy', b'Lionsgate', 61, 2.36768512e+00,  3, b'$59.19 ', 2007),\n",
       "           (b'Going the Distance', b'Comedy', b'Warner Bros.', 56, 1.31406250e+00, 53, b'$42.05 ', 2010),\n",
       "           (b'Gnomeo and Juliet', b'Animation', b'Disney', 52, 5.38797222e+00, 56, b'$193.97 ', 2011),\n",
       "           (b'Gnomeo and Juliet', b'Animation', b'Disney', 52, 5.38797222e+00, 56, b'$193.97 ', 2011),\n",
       "           (b'Ghosts of Girlfriends Past', b'Comedy', b'Warner Bros.', 47, 2.04440000e+00, 27, b'$102.22 ', 2009),\n",
       "           (b'Four Christmases', b'Comedy', b'Warner Bros.', 52, 2.02292500e+00, 26, b'$161.83 ', 2008),\n",
       "           (b'Fireproof', b'Drama', b'Independent', 51, 6.69340000e+01, 40, b'$33.47 ', 2008),\n",
       "           (b'Enchanted', b'Comedy', b'Disney', 80, 4.00573708e+00, 93, b'$340.49 ', 2007),\n",
       "           (b'Dear John', b'Drama', b'Sony', 66, 4.59880000e+00, 29, b'$114.97 ', 2010),\n",
       "           (b'Beginners', b'Comedy', b'Independent', 80, 4.47187500e+00, 84, b'$14.31 ', 2011),\n",
       "           (b'Across the Universe', b'romance', b'Independent', 84, 6.52603178e-01, 54, b'$29.37 ', 2007),\n",
       "           (b'A Serious Man', b'Drama', b'Universal', 64, 4.38285714e+00, 89, b'$30.68 ', 2009),\n",
       "           (b'A Dangerous Method', b'Drama', b'Independent', 89, 4.48644750e-01, 79, b'$8.97 ', 2011),\n",
       "           (b'27 Dresses', b'Comedy', b'Fox', 71, 5.34362180e+00, 40, b'$160.31 ', 2008),\n",
       "           (b'(500) Days of Summer', b'comedy', b'Fox', 81, 8.09600000e+00, 87, b'$60.72 ', 2009)],\n",
       "          dtype=[('film', 'S35'), ('genre', 'S9'), ('lead_studio', 'S21'), ('audience_score_', '<i4'), ('profitability', '<f8'), ('rotten_tomatoes_', '<i4'), ('worldwide_gross', 'S8'), ('year', '<i4')])"
      ]
     },
     "metadata": {},
     "execution_count": 74
    }
   ],
   "source": [
    "movie_ar"
   ]
  },
  {
   "cell_type": "code",
   "execution_count": 78,
   "metadata": {},
   "outputs": [
    {
     "output_type": "execute_result",
     "data": {
      "text/plain": [
       "numpy.record"
      ]
     },
     "metadata": {},
     "execution_count": 78
    }
   ],
   "source": [
    "type(movie_ar[4])"
   ]
  },
  {
   "cell_type": "code",
   "execution_count": 79,
   "metadata": {},
   "outputs": [
    {
     "output_type": "error",
     "ename": "AttributeError",
     "evalue": "'bool' object has no attribute 'sum'",
     "traceback": [
      "\u001b[1;31m---------------------------------------------------------------------------\u001b[0m",
      "\u001b[1;31mAttributeError\u001b[0m                            Traceback (most recent call last)",
      "\u001b[1;32m<ipython-input-79-37c0f76e6504>\u001b[0m in \u001b[0;36m<module>\u001b[1;34m\u001b[0m\n\u001b[1;32m----> 1\u001b[1;33m \u001b[0mnum_anim\u001b[0m \u001b[1;33m=\u001b[0m \u001b[1;33m(\u001b[0m\u001b[0mmovie_ar\u001b[0m \u001b[1;33m==\u001b[0m \u001b[1;34m'Animation'\u001b[0m\u001b[1;33m)\u001b[0m\u001b[1;33m.\u001b[0m\u001b[0msum\u001b[0m\u001b[1;33m(\u001b[0m\u001b[1;33m)\u001b[0m\u001b[1;33m\u001b[0m\u001b[1;33m\u001b[0m\u001b[0m\n\u001b[0m",
      "\u001b[1;31mAttributeError\u001b[0m: 'bool' object has no attribute 'sum'"
     ]
    }
   ],
   "source": [
    "num_anim = (movie_ar == 'Animation').sum()"
   ]
  },
  {
   "cell_type": "code",
   "execution_count": 83,
   "metadata": {},
   "outputs": [
    {
     "output_type": "stream",
     "name": "stdout",
     "text": [
      "0\n"
     ]
    }
   ],
   "source": [
    "print(np.count_nonzero(movie_ar == 'animation'))"
   ]
  },
  {
   "cell_type": "code",
   "execution_count": 82,
   "metadata": {},
   "outputs": [
    {
     "output_type": "execute_result",
     "data": {
      "text/plain": [
       "rec.array([('', '', '', '', '', '', '', ''),\n",
       "           ('', '', '', '', '', '', '', ''),\n",
       "           ('', '', '', '', '', '', '', ''),\n",
       "           ('', '', '', '', '', '', '', ''),\n",
       "           ('', '', '', '', '', '', '', ''),\n",
       "           ('', '', '', '', '', '', '', ''),\n",
       "           ('', '', '', '', '', '', '', ''),\n",
       "           ('', '', '', '', '', '', '', ''),\n",
       "           ('', '', '', '', '', '', '', ''),\n",
       "           ('', '', '', '', '', '', '', ''),\n",
       "           ('', '', '', '', '', '', '', ''),\n",
       "           ('', '', '', '', '', '', '', ''),\n",
       "           ('', '', '', '', '', '', '', ''),\n",
       "           ('', '', '', '', '', '', '', ''),\n",
       "           ('', '', '', '', '', '', '', ''),\n",
       "           ('', '', '', '', '', '', '', ''),\n",
       "           ('', '', '', '', '', '', '', ''),\n",
       "           ('', '', '', '', '', '', '', ''),\n",
       "           ('', '', '', '', '', '', '', ''),\n",
       "           ('', '', '', '', '', '', '', ''),\n",
       "           ('', '', '', '', '', '', '', ''),\n",
       "           ('', '', '', '', '', '', '', ''),\n",
       "           ('', '', '', '', '', '', '', ''),\n",
       "           ('', '', '', '', '', '', '', ''),\n",
       "           ('', '', '', '', '', '', '', ''),\n",
       "           ('', '', '', '', '', '', '', ''),\n",
       "           ('', '', '', '', '', '', '', ''),\n",
       "           ('', '', '', '', '', '', '', ''),\n",
       "           ('', '', '', '', '', '', '', ''),\n",
       "           ('', '', '', '', '', '', '', ''),\n",
       "           ('', '', '', '', '', '', '', ''),\n",
       "           ('', '', '', '', '', '', '', ''),\n",
       "           ('', '', '', '', '', '', '', ''),\n",
       "           ('', '', '', '', '', '', '', ''),\n",
       "           ('', '', '', '', '', '', '', ''),\n",
       "           ('', '', '', '', '', '', '', ''),\n",
       "           ('', '', '', '', '', '', '', ''),\n",
       "           ('', '', '', '', '', '', '', ''),\n",
       "           ('', '', '', '', '', '', '', ''),\n",
       "           ('', '', '', '', '', '', '', ''),\n",
       "           ('', '', '', '', '', '', '', ''),\n",
       "           ('', '', '', '', '', '', '', ''),\n",
       "           ('', '', '', '', '', '', '', ''),\n",
       "           ('', '', '', '', '', '', '', ''),\n",
       "           ('', '', '', '', '', '', '', ''),\n",
       "           ('', '', '', '', '', '', '', ''),\n",
       "           ('', '', '', '', '', '', '', ''),\n",
       "           ('', '', '', '', '', '', '', ''),\n",
       "           ('', '', '', '', '', '', '', ''),\n",
       "           ('', '', '', '', '', '', '', ''),\n",
       "           ('', '', '', '', '', '', '', ''),\n",
       "           ('', '', '', '', '', '', '', ''),\n",
       "           ('', '', '', '', '', '', '', ''),\n",
       "           ('', '', '', '', '', '', '', ''),\n",
       "           ('', '', '', '', '', '', '', ''),\n",
       "           ('', '', '', '', '', '', '', ''),\n",
       "           ('', '', '', '', '', '', '', ''),\n",
       "           ('', '', '', '', '', '', '', ''),\n",
       "           ('', '', '', '', '', '', '', ''),\n",
       "           ('', '', '', '', '', '', '', ''),\n",
       "           ('', '', '', '', '', '', '', ''),\n",
       "           ('', '', '', '', '', '', '', ''),\n",
       "           ('', '', '', '', '', '', '', ''),\n",
       "           ('', '', '', '', '', '', '', ''),\n",
       "           ('', '', '', '', '', '', '', ''),\n",
       "           ('', '', '', '', '', '', '', ''),\n",
       "           ('', '', '', '', '', '', '', ''),\n",
       "           ('', '', '', '', '', '', '', ''),\n",
       "           ('', '', '', '', '', '', '', ''),\n",
       "           ('', '', '', '', '', '', '', ''),\n",
       "           ('', '', '', '', '', '', '', ''),\n",
       "           ('', '', '', '', '', '', '', ''),\n",
       "           ('', '', '', '', '', '', '', ''),\n",
       "           ('', '', '', '', '', '', '', ''),\n",
       "           ('', '', '', '', '', '', '', ''),\n",
       "           ('', '', '', '', '', '', '', ''),\n",
       "           ('', '', '', '', '', '', '', '')],\n",
       "          dtype=[('film', '<U'), ('genre', '<U'), ('lead_studio', '<U'), ('audience_score_', '<U'), ('profitability', '<U'), ('rotten_tomatoes_', '<U'), ('worldwide_gross', '<U'), ('year', '<U')])"
      ]
     },
     "metadata": {},
     "execution_count": 82
    }
   ],
   "source": [
    "movie_ar"
   ]
  },
  {
   "cell_type": "code",
   "execution_count": 84,
   "metadata": {},
   "outputs": [
    {
     "output_type": "stream",
     "name": "stdout",
     "text": [
      "0\n"
     ]
    }
   ],
   "source": [
    "print(np.count_nonzero(movie_ar == 'animation'))"
   ]
  },
  {
   "cell_type": "code",
   "execution_count": 85,
   "metadata": {},
   "outputs": [],
   "source": [
    "movie_ar = np.recfromcsv('movies.csv.txt', delimiter = ',', dtype = str)"
   ]
  },
  {
   "cell_type": "code",
   "execution_count": 86,
   "metadata": {},
   "outputs": [
    {
     "output_type": "execute_result",
     "data": {
      "text/plain": [
       "rec.array([('', '', '', '', '', '', '', ''),\n",
       "           ('', '', '', '', '', '', '', ''),\n",
       "           ('', '', '', '', '', '', '', ''),\n",
       "           ('', '', '', '', '', '', '', ''),\n",
       "           ('', '', '', '', '', '', '', ''),\n",
       "           ('', '', '', '', '', '', '', ''),\n",
       "           ('', '', '', '', '', '', '', ''),\n",
       "           ('', '', '', '', '', '', '', ''),\n",
       "           ('', '', '', '', '', '', '', ''),\n",
       "           ('', '', '', '', '', '', '', ''),\n",
       "           ('', '', '', '', '', '', '', ''),\n",
       "           ('', '', '', '', '', '', '', ''),\n",
       "           ('', '', '', '', '', '', '', ''),\n",
       "           ('', '', '', '', '', '', '', ''),\n",
       "           ('', '', '', '', '', '', '', ''),\n",
       "           ('', '', '', '', '', '', '', ''),\n",
       "           ('', '', '', '', '', '', '', ''),\n",
       "           ('', '', '', '', '', '', '', ''),\n",
       "           ('', '', '', '', '', '', '', ''),\n",
       "           ('', '', '', '', '', '', '', ''),\n",
       "           ('', '', '', '', '', '', '', ''),\n",
       "           ('', '', '', '', '', '', '', ''),\n",
       "           ('', '', '', '', '', '', '', ''),\n",
       "           ('', '', '', '', '', '', '', ''),\n",
       "           ('', '', '', '', '', '', '', ''),\n",
       "           ('', '', '', '', '', '', '', ''),\n",
       "           ('', '', '', '', '', '', '', ''),\n",
       "           ('', '', '', '', '', '', '', ''),\n",
       "           ('', '', '', '', '', '', '', ''),\n",
       "           ('', '', '', '', '', '', '', ''),\n",
       "           ('', '', '', '', '', '', '', ''),\n",
       "           ('', '', '', '', '', '', '', ''),\n",
       "           ('', '', '', '', '', '', '', ''),\n",
       "           ('', '', '', '', '', '', '', ''),\n",
       "           ('', '', '', '', '', '', '', ''),\n",
       "           ('', '', '', '', '', '', '', ''),\n",
       "           ('', '', '', '', '', '', '', ''),\n",
       "           ('', '', '', '', '', '', '', ''),\n",
       "           ('', '', '', '', '', '', '', ''),\n",
       "           ('', '', '', '', '', '', '', ''),\n",
       "           ('', '', '', '', '', '', '', ''),\n",
       "           ('', '', '', '', '', '', '', ''),\n",
       "           ('', '', '', '', '', '', '', ''),\n",
       "           ('', '', '', '', '', '', '', ''),\n",
       "           ('', '', '', '', '', '', '', ''),\n",
       "           ('', '', '', '', '', '', '', ''),\n",
       "           ('', '', '', '', '', '', '', ''),\n",
       "           ('', '', '', '', '', '', '', ''),\n",
       "           ('', '', '', '', '', '', '', ''),\n",
       "           ('', '', '', '', '', '', '', ''),\n",
       "           ('', '', '', '', '', '', '', ''),\n",
       "           ('', '', '', '', '', '', '', ''),\n",
       "           ('', '', '', '', '', '', '', ''),\n",
       "           ('', '', '', '', '', '', '', ''),\n",
       "           ('', '', '', '', '', '', '', ''),\n",
       "           ('', '', '', '', '', '', '', ''),\n",
       "           ('', '', '', '', '', '', '', ''),\n",
       "           ('', '', '', '', '', '', '', ''),\n",
       "           ('', '', '', '', '', '', '', ''),\n",
       "           ('', '', '', '', '', '', '', ''),\n",
       "           ('', '', '', '', '', '', '', ''),\n",
       "           ('', '', '', '', '', '', '', ''),\n",
       "           ('', '', '', '', '', '', '', ''),\n",
       "           ('', '', '', '', '', '', '', ''),\n",
       "           ('', '', '', '', '', '', '', ''),\n",
       "           ('', '', '', '', '', '', '', ''),\n",
       "           ('', '', '', '', '', '', '', ''),\n",
       "           ('', '', '', '', '', '', '', ''),\n",
       "           ('', '', '', '', '', '', '', ''),\n",
       "           ('', '', '', '', '', '', '', ''),\n",
       "           ('', '', '', '', '', '', '', ''),\n",
       "           ('', '', '', '', '', '', '', ''),\n",
       "           ('', '', '', '', '', '', '', ''),\n",
       "           ('', '', '', '', '', '', '', ''),\n",
       "           ('', '', '', '', '', '', '', ''),\n",
       "           ('', '', '', '', '', '', '', ''),\n",
       "           ('', '', '', '', '', '', '', '')],\n",
       "          dtype=[('film', '<U'), ('genre', '<U'), ('lead_studio', '<U'), ('audience_score_', '<U'), ('profitability', '<U'), ('rotten_tomatoes_', '<U'), ('worldwide_gross', '<U'), ('year', '<U')])"
      ]
     },
     "metadata": {},
     "execution_count": 86
    }
   ],
   "source": [
    "movie_ar"
   ]
  },
  {
   "cell_type": "code",
   "execution_count": 87,
   "metadata": {},
   "outputs": [],
   "source": [
    "movie_ar = np.recfromcsv('movies.csv.txt', delimiter = ',')"
   ]
  },
  {
   "cell_type": "code",
   "execution_count": null,
   "metadata": {},
   "outputs": [],
   "source": []
  },
  {
   "cell_type": "code",
   "execution_count": 88,
   "metadata": {},
   "outputs": [
    {
     "output_type": "execute_result",
     "data": {
      "text/plain": [
       "rec.array([(b'Zack and Miri Make a Porno', b'Romance', b'The Weinstein Company', 70, 1.74754167e+00, 64, b'$41.94 ', 2008),\n",
       "           (b'Youth in Revolt', b'Comedy', b'The Weinstein Company', 52, 1.09000000e+00, 68, b'$19.62 ', 2010),\n",
       "           (b'You Will Meet a Tall Dark Stranger', b'Comedy', b'Independent', 35, 1.21181818e+00, 43, b'$26.66 ', 2010),\n",
       "           (b'When in Rome', b'Comedy', b'Disney', 44, 0.00000000e+00, 15, b'$43.04 ', 2010),\n",
       "           (b'What Happens in Vegas', b'Comedy', b'Fox', 72, 6.26764703e+00, 28, b'$219.37 ', 2008),\n",
       "           (b'Water For Elephants', b'Drama', b'20th Century Fox', 72, 3.08142105e+00, 60, b'$117.09 ', 2011),\n",
       "           (b'WALL-E', b'Animation', b'Disney', 89, 2.89601907e+00, 96, b'$521.28 ', 2008),\n",
       "           (b'Waitress', b'Romance', b'Independent', 67, 1.10897415e+01, 89, b'$22.18 ', 2007),\n",
       "           (b'Waiting For Forever', b'Romance', b'Independent', 53, 5.00000000e-03,  6, b'$0.03 ', 2011),\n",
       "           (b\"Valentine's Day\", b'Comedy', b'Warner Bros.', 54, 4.18403846e+00, 17, b'$217.57 ', 2010),\n",
       "           (b\"Tyler Perry's Why Did I get Married\", b'Romance', b'Independent', 47, 3.72419240e+00, 46, b'$55.86 ', 2007),\n",
       "           (b'Twilight: Breaking Dawn', b'Romance', b'Independent', 68, 6.38336364e+00, 26, b'$702.17 ', 2011),\n",
       "           (b'Twilight', b'Romance', b'Summit', 82, 1.01800270e+01, 49, b'$376.66 ', 2008),\n",
       "           (b'The Ugly Truth', b'Comedy', b'Independent', 68, 5.40263158e+00, 14, b'$205.30 ', 2009),\n",
       "           (b'The Twilight Saga: New Moon', b'Drama', b'Summit', 78, 1.41964000e+01, 27, b'$709.82 ', 2009),\n",
       "           (b\"The Time Traveler's Wife\", b'Drama', b'Paramount', 65, 2.59820513e+00, 38, b'$101.33 ', 2009),\n",
       "           (b'The Proposal', b'Comedy', b'Disney', 74, 7.86750000e+00, 43, b'$314.70 ', 2009),\n",
       "           (b'The Invention of Lying', b'Comedy', b'Warner Bros.', 47, 1.75135135e+00, 56, b'$32.40 ', 2009),\n",
       "           (b'The Heartbreak Kid', b'Comedy', b'Paramount', 41, 2.12944417e+00, 30, b'$127.77 ', 2007),\n",
       "           (b'The Duchess', b'Drama', b'Paramount', 68, 3.20785022e+00, 60, b'$43.31 ', 2008),\n",
       "           (b'The Curious Case of Benjamin Button', b'Fantasy', b'Warner Bros.', 81, 1.78394375e+00, 73, b'$285.43 ', 2008),\n",
       "           (b'The Back-up Plan', b'Comedy', b'CBS', 47, 2.20257143e+00, 20, b'$77.09 ', 2010),\n",
       "           (b'Tangled', b'Animation', b'Disney', 88, 1.36569231e+00, 89, b'$355.01 ', 2010),\n",
       "           (b'Something Borrowed', b'Romance', b'Independent', 48, 1.71951429e+00, 15, b'$60.18 ', 2011),\n",
       "           (b\"She's Out of My League\", b'Comedy', b'Paramount', 60, 2.44050000e+00, 57, b'$48.81 ', 2010),\n",
       "           (b'Sex and the City Two', b'Comedy', b'Warner Bros.', 49, 2.88350000e+00, 15, b'$288.35 ', 2010),\n",
       "           (b'Sex and the City 2', b'Comedy', b'Warner Bros.', 49, 2.88350000e+00, 15, b'$288.35 ', 2010),\n",
       "           (b'Sex and the City', b'Comedy', b'Warner Bros.', 81, 7.22179579e+00, 49, b'$415.25 ', 2008),\n",
       "           (b'Remember Me', b'Drama', b'Summit', 70, 3.49125000e+00, 28, b'$55.86 ', 2010),\n",
       "           (b'Rachel Getting Married', b'Drama', b'Independent', 61, 1.38416667e+00, 85, b'$16.61 ', 2008),\n",
       "           (b'Penelope', b'Comedy', b'Summit', 74, 1.38279973e+00, 52, b'$20.74 ', 2008),\n",
       "           (b'P.S. I Love You', b'Romance', b'Independent', 82, 5.10311683e+00, 21, b'$153.09 ', 2007),\n",
       "           (b'Over Her Dead Body', b'Comedy', b'New Line', 47, 2.07100000e+00, 15, b'$20.71 ', 2008),\n",
       "           (b'Our Family Wedding', b'Comedy', b'Independent', 49, 0.00000000e+00, 14, b'$21.37 ', 2010),\n",
       "           (b'One Day', b'Romance', b'Independent', 54, 3.68273333e+00, 37, b'$55.24 ', 2011),\n",
       "           (b'Not Easily Broken', b'Drama', b'Independent', 66, 2.14000000e+00, 34, b'$10.70 ', 2009),\n",
       "           (b'No Reservations', b'Comedy', b'Warner Bros.', 64, 3.30718036e+00, 39, b'$92.60 ', 2007),\n",
       "           (b\"Nick and Norah's Infinite Playlist\", b'Comedy', b'Sony', 67, 3.35272930e+00, 73, b'$33.53 ', 2008),\n",
       "           (b\"New Year's Eve\", b'Romance', b'Warner Bros.', 48, 2.53642857e+00,  8, b'$142.04 ', 2011),\n",
       "           (b'My Week with Marilyn', b'Drama', b'The Weinstein Company', 84, 8.25800000e-01, 83, b'$8.26 ', 2011),\n",
       "           (b'Music and Lyrics', b'Romance', b'Warner Bros.', 70, 3.64741055e+00, 63, b'$145.90 ', 2007),\n",
       "           (b'Monte Carlo', b'Romance', b'20th Century Fox', 50, 1.98320000e+00, 38, b'$39.66 ', 2011),\n",
       "           (b'Miss Pettigrew Lives for a Day', b'Comedy', b'Independent', 70, 2.52894900e-01, 78, b'$15.17 ', 2008),\n",
       "           (b'Midnight in Paris', b'Romence', b'Sony', 84, 8.74470588e+00, 93, b'$148.66 ', 2011),\n",
       "           (b'Marley and Me', b'Comedy', b'Fox', 77, 3.74678182e+00, 63, b'$206.07 ', 2008),\n",
       "           (b'Mamma Mia!', b'Comedy', b'Universal', 76, 9.23445386e+00, 53, b'$609.47 ', 2008),\n",
       "           (b'Mamma Mia!', b'Comedy', b'Universal', 76, 9.23445386e+00, 53, b'$609.47 ', 2008),\n",
       "           (b'Made of Honor', b'Comdy', b'Sony', 61, 2.64906835e+00, 13, b'$105.96 ', 2008),\n",
       "           (b'Love Happens', b'Drama', b'Universal', 40, 2.00444444e+00, 18, b'$36.08 ', 2009),\n",
       "           (b'Love & Other Drugs', b'Comedy', b'Fox', 55, 1.81766667e+00, 48, b'$54.53 ', 2010),\n",
       "           (b'Life as We Know It', b'Comedy', b'Independent', 62, 2.53052632e+00, 28, b'$96.16 ', 2010),\n",
       "           (b'License to Wed', b'Comedy', b'Warner Bros.', 55, 1.98020640e+00,  8, b'$69.31 ', 2007),\n",
       "           (b'Letters to Juliet', b'Comedy', b'Summit', 62, 2.63933333e+00, 40, b'$79.18 ', 2010),\n",
       "           (b'Leap Year', b'Comedy', b'Universal', 49, 1.71526316e+00, 21, b'$32.59 ', 2010),\n",
       "           (b'Knocked Up', b'Comedy', b'Universal', 83, 6.63640185e+00, 91, b'$219 ', 2007),\n",
       "           (b'Killers', b'Action', b'Lionsgate', 45, 1.24533333e+00, 11, b'$93.40 ', 2010),\n",
       "           (b'Just Wright', b'Comedy', b'Fox', 58, 1.79741667e+00, 45, b'$21.57 ', 2010),\n",
       "           (b'Jane Eyre', b'Romance', b'Universal', 77, 0.00000000e+00, 85, b'$30.15 ', 2011),\n",
       "           (b\"It's Complicated\", b'Comedy', b'Universal', 63, 2.64235294e+00, 56, b'$224.60 ', 2009),\n",
       "           (b'I Love You Phillip Morris', b'Comedy', b'Independent', 57, 1.34000000e+00, 71, b'$20.10 ', 2010),\n",
       "           (b'High School Musical 3: Senior Year', b'Comedy', b'Disney', 76, 2.29131365e+01, 65, b'$252.04 ', 2008),\n",
       "           (b\"He's Just Not That Into You\", b'Comedy', b'Warner Bros.', 60, 7.15360000e+00, 42, b'$178.84 ', 2009),\n",
       "           (b'Good Luck Chuck', b'Comedy', b'Lionsgate', 61, 2.36768512e+00,  3, b'$59.19 ', 2007),\n",
       "           (b'Going the Distance', b'Comedy', b'Warner Bros.', 56, 1.31406250e+00, 53, b'$42.05 ', 2010),\n",
       "           (b'Gnomeo and Juliet', b'Animation', b'Disney', 52, 5.38797222e+00, 56, b'$193.97 ', 2011),\n",
       "           (b'Gnomeo and Juliet', b'Animation', b'Disney', 52, 5.38797222e+00, 56, b'$193.97 ', 2011),\n",
       "           (b'Ghosts of Girlfriends Past', b'Comedy', b'Warner Bros.', 47, 2.04440000e+00, 27, b'$102.22 ', 2009),\n",
       "           (b'Four Christmases', b'Comedy', b'Warner Bros.', 52, 2.02292500e+00, 26, b'$161.83 ', 2008),\n",
       "           (b'Fireproof', b'Drama', b'Independent', 51, 6.69340000e+01, 40, b'$33.47 ', 2008),\n",
       "           (b'Enchanted', b'Comedy', b'Disney', 80, 4.00573708e+00, 93, b'$340.49 ', 2007),\n",
       "           (b'Dear John', b'Drama', b'Sony', 66, 4.59880000e+00, 29, b'$114.97 ', 2010),\n",
       "           (b'Beginners', b'Comedy', b'Independent', 80, 4.47187500e+00, 84, b'$14.31 ', 2011),\n",
       "           (b'Across the Universe', b'romance', b'Independent', 84, 6.52603178e-01, 54, b'$29.37 ', 2007),\n",
       "           (b'A Serious Man', b'Drama', b'Universal', 64, 4.38285714e+00, 89, b'$30.68 ', 2009),\n",
       "           (b'A Dangerous Method', b'Drama', b'Independent', 89, 4.48644750e-01, 79, b'$8.97 ', 2011),\n",
       "           (b'27 Dresses', b'Comedy', b'Fox', 71, 5.34362180e+00, 40, b'$160.31 ', 2008),\n",
       "           (b'(500) Days of Summer', b'comedy', b'Fox', 81, 8.09600000e+00, 87, b'$60.72 ', 2009)],\n",
       "          dtype=[('film', 'S35'), ('genre', 'S9'), ('lead_studio', 'S21'), ('audience_score_', '<i4'), ('profitability', '<f8'), ('rotten_tomatoes_', '<i4'), ('worldwide_gross', 'S8'), ('year', '<i4')])"
      ]
     },
     "metadata": {},
     "execution_count": 88
    }
   ],
   "source": [
    "movie_ar"
   ]
  },
  {
   "cell_type": "code",
   "execution_count": 90,
   "metadata": {},
   "outputs": [
    {
     "output_type": "stream",
     "name": "stdout",
     "text": [
      "0\n"
     ]
    }
   ],
   "source": [
    "print(np.count_nonzero(movie_ar == 'Animation'))"
   ]
  },
  {
   "cell_type": "code",
   "execution_count": 91,
   "metadata": {},
   "outputs": [
    {
     "output_type": "execute_result",
     "data": {
      "text/plain": [
       "numpy.recarray"
      ]
     },
     "metadata": {},
     "execution_count": 91
    }
   ],
   "source": [
    "type(movie_ar)"
   ]
  },
  {
   "cell_type": "code",
   "execution_count": 92,
   "metadata": {},
   "outputs": [
    {
     "output_type": "error",
     "ename": "NameError",
     "evalue": "name 'describe' is not defined",
     "traceback": [
      "\u001b[1;31m---------------------------------------------------------------------------\u001b[0m",
      "\u001b[1;31mNameError\u001b[0m                                 Traceback (most recent call last)",
      "\u001b[1;32m<ipython-input-92-05cd19f044dd>\u001b[0m in \u001b[0;36m<module>\u001b[1;34m\u001b[0m\n\u001b[1;32m----> 1\u001b[1;33m \u001b[0mdescribe\u001b[0m\u001b[1;33m(\u001b[0m\u001b[0mmovie_ar\u001b[0m\u001b[1;33m)\u001b[0m\u001b[1;33m\u001b[0m\u001b[1;33m\u001b[0m\u001b[0m\n\u001b[0m",
      "\u001b[1;31mNameError\u001b[0m: name 'describe' is not defined"
     ]
    }
   ],
   "source": [
    "describe(movie_ar)"
   ]
  },
  {
   "cell_type": "code",
   "execution_count": 93,
   "metadata": {},
   "outputs": [
    {
     "output_type": "error",
     "ename": "SyntaxError",
     "evalue": "invalid syntax (<ipython-input-93-7044d8b5397b>, line 1)",
     "traceback": [
      "\u001b[1;36m  File \u001b[1;32m\"<ipython-input-93-7044d8b5397b>\"\u001b[1;36m, line \u001b[1;32m1\u001b[0m\n\u001b[1;33m    movies = np.array([Film,Genre,Lead Studio,Audience score %,Profitability,Rotten Tomatoes %,Worldwide Gross,Year\u001b[0m\n\u001b[1;37m                                       ^\u001b[0m\n\u001b[1;31mSyntaxError\u001b[0m\u001b[1;31m:\u001b[0m invalid syntax\n"
     ]
    }
   ],
   "source": [
    "movies = np.array([Film,Genre,Lead Studio,Audience score %,Profitability,Rotten Tomatoes %,Worldwide Gross,Year\n",
    "Zack and Miri Make a Porno,Romance,The Weinstein Company,70,1.747541667,64,$41.94 ,2008\n",
    "Youth in Revolt,Comedy,The Weinstein Company,52,1.09,68,$19.62 ,2010\n",
    "You Will Meet a Tall Dark Stranger,Comedy,Independent,35,1.211818182,43,$26.66 ,2010\n",
    "When in Rome,Comedy,Disney,44,0,15,$43.04 ,2010\n",
    "What Happens in Vegas,Comedy,Fox,72,6.267647029,28,$219.37 ,2008\n",
    "Water For Elephants,Drama,20th Century Fox,72,3.081421053,60,$117.09 ,2011\n",
    "WALL-E,Animation,Disney,89,2.896019067,96,$521.28 ,2008\n",
    "Waitress,Romance,Independent,67,11.0897415,89,$22.18 ,2007\n",
    "Waiting For Forever,Romance,Independent,53,0.005,6,$0.03 ,2011\n",
    "Valentine's Day,Comedy,Warner Bros.,54,4.184038462,17,$217.57 ,2010\n",
    "Tyler Perry's Why Did I get Married,Romance,Independent,47,3.7241924,46,$55.86 ,2007\n",
    "Twilight: Breaking Dawn,Romance,Independent,68,6.383363636,26,$702.17 ,2011\n",
    "Twilight,Romance,Summit,82,10.18002703,49,$376.66 ,2008\n",
    "The Ugly Truth,Comedy,Independent,68,5.402631579,14,$205.30 ,2009\n",
    "The Twilight Saga: New Moon,Drama,Summit,78,14.1964,27,$709.82 ,2009\n",
    "The Time Traveler's Wife,Drama,Paramount,65,2.598205128,38,$101.33 ,2009\n",
    "The Proposal,Comedy,Disney,74,7.8675,43,$314.70 ,2009\n",
    "The Invention of Lying,Comedy,Warner Bros.,47,1.751351351,56,$32.40 ,2009\n",
    "The Heartbreak Kid,Comedy,Paramount,41,2.129444167,30,$127.77 ,2007\n",
    "The Duchess,Drama,Paramount,68,3.207850222,60,$43.31 ,2008\n",
    "The Curious Case of Benjamin Button,Fantasy,Warner Bros.,81,1.78394375,73,$285.43 ,2008\n",
    "The Back-up Plan,Comedy,CBS,47,2.202571429,20,$77.09 ,2010\n",
    "Tangled,Animation,Disney,88,1.365692308,89,$355.01 ,2010\n",
    "Something Borrowed,Romance,Independent,48,1.719514286,15,$60.18 ,2011\n",
    "She's Out of My League,Comedy,Paramount,60,2.4405,57,$48.81 ,2010\n",
    "Sex and the City Two,Comedy,Warner Bros.,49,2.8835,15,$288.35 ,2010\n",
    "Sex and the City 2,Comedy,Warner Bros.,49,2.8835,15,$288.35 ,2010\n",
    "Sex and the City,Comedy,Warner Bros.,81,7.221795791,49,$415.25 ,2008\n",
    "Remember Me,Drama,Summit,70,3.49125,28,$55.86 ,2010\n",
    "Rachel Getting Married,Drama,Independent,61,1.384166667,85,$16.61 ,2008\n",
    "Penelope,Comedy,Summit,74,1.382799733,52,$20.74 ,2008\n",
    "P.S. I Love You,Romance,Independent,82,5.103116833,21,$153.09 ,2007\n",
    "Over Her Dead Body,Comedy,New Line,47,2.071,15,$20.71 ,2008\n",
    "Our Family Wedding,Comedy,Independent,49,0,14,$21.37 ,2010\n",
    "One Day,Romance,Independent,54,3.682733333,37,$55.24 ,2011\n",
    "Not Easily Broken,Drama,Independent,66,2.14,34,$10.70 ,2009\n",
    "No Reservations,Comedy,Warner Bros.,64,3.307180357,39,$92.60 ,2007\n",
    "Nick and Norah's Infinite Playlist,Comedy,Sony,67,3.3527293,73,$33.53 ,2008\n",
    "New Year's Eve,Romance,Warner Bros.,48,2.536428571,8,$142.04 ,2011\n",
    "My Week with Marilyn,Drama,The Weinstein Company,84,0.8258,83,$8.26 ,2011\n",
    "Music and Lyrics,Romance,Warner Bros.,70,3.64741055,63,$145.90 ,2007\n",
    "Monte Carlo,Romance,20th Century Fox,50,1.9832,38,$39.66 ,2011\n",
    "Miss Pettigrew Lives for a Day,Comedy,Independent,70,0.2528949,78,$15.17 ,2008\n",
    "Midnight in Paris,Romence,Sony,84,8.744705882,93,$148.66 ,2011\n",
    "Marley and Me,Comedy,Fox,77,3.746781818,63,$206.07 ,2008\n",
    "Mamma Mia!,Comedy,Universal,76,9.234453864,53,$609.47 ,2008\n",
    "Mamma Mia!,Comedy,Universal,76,9.234453864,53,$609.47 ,2008\n",
    "Made of Honor,Comdy,Sony,61,2.64906835,13,$105.96 ,2008\n",
    "Love Happens,Drama,Universal,40,2.004444444,18,$36.08 ,2009\n",
    "Love & Other Drugs,Comedy,Fox,55,1.817666667,48,$54.53 ,2010\n",
    "Life as We Know It,Comedy,Independent,62,2.530526316,28,$96.16 ,2010\n",
    "License to Wed,Comedy,Warner Bros.,55,1.9802064,8,$69.31 ,2007\n",
    "Letters to Juliet,Comedy,Summit,62,2.639333333,40,$79.18 ,2010\n",
    "Leap Year,Comedy,Universal,49,1.715263158,21,$32.59 ,2010\n",
    "Knocked Up,Comedy,Universal,83,6.636401848,91,$219 ,2007\n",
    "Killers,Action,Lionsgate,45,1.245333333,11,$93.40 ,2010\n",
    "Just Wright,Comedy,Fox,58,1.797416667,45,$21.57 ,2010\n",
    "Jane Eyre,Romance,Universal,77,0,85,$30.15 ,2011\n",
    "It's Complicated,Comedy,Universal,63,2.642352941,56,$224.60 ,2009\n",
    "I Love You Phillip Morris,Comedy,Independent,57,1.34,71,$20.10 ,2010\n",
    "High School Musical 3: Senior Year,Comedy,Disney,76,22.91313646,65,$252.04 ,2008\n",
    "He's Just Not That Into You,Comedy,Warner Bros.,60,7.1536,42,$178.84 ,2009\n",
    "Good Luck Chuck,Comedy,Lionsgate,61,2.36768512,3,$59.19 ,2007\n",
    "Going the Distance,Comedy,Warner Bros.,56,1.3140625,53,$42.05 ,2010\n",
    "Gnomeo and Juliet,Animation,Disney,52,5.387972222,56,$193.97 ,2011\n",
    "Gnomeo and Juliet,Animation,Disney,52,5.387972222,56,$193.97 ,2011\n",
    "Ghosts of Girlfriends Past,Comedy,Warner Bros.,47,2.0444,27,$102.22 ,2009\n",
    "Four Christmases,Comedy,Warner Bros.,52,2.022925,26,$161.83 ,2008\n",
    "Fireproof,Drama,Independent,51,66.934,40,$33.47 ,2008\n",
    "Enchanted,Comedy,Disney,80,4.005737082,93,$340.49 ,2007\n",
    "Dear John,Drama,Sony,66,4.5988,29,$114.97 ,2010\n",
    "Beginners,Comedy,Independent,80,4.471875,84,$14.31 ,2011\n",
    "Across the Universe,romance,Independent,84,0.652603178,54,$29.37 ,2007\n",
    "A Serious Man,Drama,Universal,64,4.382857143,89,$30.68 ,2009\n",
    "A Dangerous Method,Drama,Independent,89,0.44864475,79,$8.97 ,2011\n",
    "27 Dresses,Comedy,Fox,71,5.3436218,40,$160.31 ,2008\n",
    "(500) Days of Summer,comedy,Fox,81,8.096,87,$60.72 ,2009])"
   ]
  },
  {
   "cell_type": "code",
   "execution_count": 94,
   "metadata": {},
   "outputs": [
    {
     "output_type": "error",
     "ename": "SyntaxError",
     "evalue": "EOL while scanning string literal (<ipython-input-94-3503ead3d752>, line 1)",
     "traceback": [
      "\u001b[1;36m  File \u001b[1;32m\"<ipython-input-94-3503ead3d752>\"\u001b[1;36m, line \u001b[1;32m1\u001b[0m\n\u001b[1;33m    my_data = \"Film,Genre,Lead Studio,Audience score %,Profitability,Rotten Tomatoes %,Worldwide Gross,Year\u001b[0m\n\u001b[1;37m                                                                                                           ^\u001b[0m\n\u001b[1;31mSyntaxError\u001b[0m\u001b[1;31m:\u001b[0m EOL while scanning string literal\n"
     ]
    }
   ],
   "source": [
    "my_data = \"Film,Genre,Lead Studio,Audience score %,Profitability,Rotten Tomatoes %,Worldwide Gross,Year\n",
    "Zack and Miri Make a Porno,Romance,The Weinstein Company,70,1.747541667,64,$41.94 ,2008\n",
    "Youth in Revolt,Comedy,The Weinstein Company,52,1.09,68,$19.62 ,2010\n",
    "You Will Meet a Tall Dark Stranger,Comedy,Independent,35,1.211818182,43,$26.66 ,2010\n",
    "When in Rome,Comedy,Disney,44,0,15,$43.04 ,2010\n",
    "What Happens in Vegas,Comedy,Fox,72,6.267647029,28,$219.37 ,2008\n",
    "Water For Elephants,Drama,20th Century Fox,72,3.081421053,60,$117.09 ,2011\n",
    "WALL-E,Animation,Disney,89,2.896019067,96,$521.28 ,2008\n",
    "Waitress,Romance,Independent,67,11.0897415,89,$22.18 ,2007\n",
    "Waiting For Forever,Romance,Independent,53,0.005,6,$0.03 ,2011\n",
    "Valentine's Day,Comedy,Warner Bros.,54,4.184038462,17,$217.57 ,2010\n",
    "Tyler Perry's Why Did I get Married,Romance,Independent,47,3.7241924,46,$55.86 ,2007\n",
    "Twilight: Breaking Dawn,Romance,Independent,68,6.383363636,26,$702.17 ,2011\n",
    "Twilight,Romance,Summit,82,10.18002703,49,$376.66 ,2008\n",
    "The Ugly Truth,Comedy,Independent,68,5.402631579,14,$205.30 ,2009\n",
    "The Twilight Saga: New Moon,Drama,Summit,78,14.1964,27,$709.82 ,2009\n",
    "The Time Traveler's Wife,Drama,Paramount,65,2.598205128,38,$101.33 ,2009\n",
    "The Proposal,Comedy,Disney,74,7.8675,43,$314.70 ,2009\n",
    "The Invention of Lying,Comedy,Warner Bros.,47,1.751351351,56,$32.40 ,2009\n",
    "The Heartbreak Kid,Comedy,Paramount,41,2.129444167,30,$127.77 ,2007\n",
    "The Duchess,Drama,Paramount,68,3.207850222,60,$43.31 ,2008\n",
    "The Curious Case of Benjamin Button,Fantasy,Warner Bros.,81,1.78394375,73,$285.43 ,2008\n",
    "The Back-up Plan,Comedy,CBS,47,2.202571429,20,$77.09 ,2010\n",
    "Tangled,Animation,Disney,88,1.365692308,89,$355.01 ,2010\n",
    "Something Borrowed,Romance,Independent,48,1.719514286,15,$60.18 ,2011\n",
    "She's Out of My League,Comedy,Paramount,60,2.4405,57,$48.81 ,2010\n",
    "Sex and the City Two,Comedy,Warner Bros.,49,2.8835,15,$288.35 ,2010\n",
    "Sex and the City 2,Comedy,Warner Bros.,49,2.8835,15,$288.35 ,2010\n",
    "Sex and the City,Comedy,Warner Bros.,81,7.221795791,49,$415.25 ,2008\n",
    "Remember Me,Drama,Summit,70,3.49125,28,$55.86 ,2010\n",
    "Rachel Getting Married,Drama,Independent,61,1.384166667,85,$16.61 ,2008\n",
    "Penelope,Comedy,Summit,74,1.382799733,52,$20.74 ,2008\n",
    "P.S. I Love You,Romance,Independent,82,5.103116833,21,$153.09 ,2007\n",
    "Over Her Dead Body,Comedy,New Line,47,2.071,15,$20.71 ,2008\n",
    "Our Family Wedding,Comedy,Independent,49,0,14,$21.37 ,2010\n",
    "One Day,Romance,Independent,54,3.682733333,37,$55.24 ,2011\n",
    "Not Easily Broken,Drama,Independent,66,2.14,34,$10.70 ,2009\n",
    "No Reservations,Comedy,Warner Bros.,64,3.307180357,39,$92.60 ,2007\n",
    "Nick and Norah's Infinite Playlist,Comedy,Sony,67,3.3527293,73,$33.53 ,2008\n",
    "New Year's Eve,Romance,Warner Bros.,48,2.536428571,8,$142.04 ,2011\n",
    "My Week with Marilyn,Drama,The Weinstein Company,84,0.8258,83,$8.26 ,2011\n",
    "Music and Lyrics,Romance,Warner Bros.,70,3.64741055,63,$145.90 ,2007\n",
    "Monte Carlo,Romance,20th Century Fox,50,1.9832,38,$39.66 ,2011\n",
    "Miss Pettigrew Lives for a Day,Comedy,Independent,70,0.2528949,78,$15.17 ,2008\n",
    "Midnight in Paris,Romence,Sony,84,8.744705882,93,$148.66 ,2011\n",
    "Marley and Me,Comedy,Fox,77,3.746781818,63,$206.07 ,2008\n",
    "Mamma Mia!,Comedy,Universal,76,9.234453864,53,$609.47 ,2008\n",
    "Mamma Mia!,Comedy,Universal,76,9.234453864,53,$609.47 ,2008\n",
    "Made of Honor,Comdy,Sony,61,2.64906835,13,$105.96 ,2008\n",
    "Love Happens,Drama,Universal,40,2.004444444,18,$36.08 ,2009\n",
    "Love & Other Drugs,Comedy,Fox,55,1.817666667,48,$54.53 ,2010\n",
    "Life as We Know It,Comedy,Independent,62,2.530526316,28,$96.16 ,2010\n",
    "License to Wed,Comedy,Warner Bros.,55,1.9802064,8,$69.31 ,2007\n",
    "Letters to Juliet,Comedy,Summit,62,2.639333333,40,$79.18 ,2010\n",
    "Leap Year,Comedy,Universal,49,1.715263158,21,$32.59 ,2010\n",
    "Knocked Up,Comedy,Universal,83,6.636401848,91,$219 ,2007\n",
    "Killers,Action,Lionsgate,45,1.245333333,11,$93.40 ,2010\n",
    "Just Wright,Comedy,Fox,58,1.797416667,45,$21.57 ,2010\n",
    "Jane Eyre,Romance,Universal,77,0,85,$30.15 ,2011\n",
    "It's Complicated,Comedy,Universal,63,2.642352941,56,$224.60 ,2009\n",
    "I Love You Phillip Morris,Comedy,Independent,57,1.34,71,$20.10 ,2010\n",
    "High School Musical 3: Senior Year,Comedy,Disney,76,22.91313646,65,$252.04 ,2008\n",
    "He's Just Not That Into You,Comedy,Warner Bros.,60,7.1536,42,$178.84 ,2009\n",
    "Good Luck Chuck,Comedy,Lionsgate,61,2.36768512,3,$59.19 ,2007\n",
    "Going the Distance,Comedy,Warner Bros.,56,1.3140625,53,$42.05 ,2010\n",
    "Gnomeo and Juliet,Animation,Disney,52,5.387972222,56,$193.97 ,2011\n",
    "Gnomeo and Juliet,Animation,Disney,52,5.387972222,56,$193.97 ,2011\n",
    "Ghosts of Girlfriends Past,Comedy,Warner Bros.,47,2.0444,27,$102.22 ,2009\n",
    "Four Christmases,Comedy,Warner Bros.,52,2.022925,26,$161.83 ,2008\n",
    "Fireproof,Drama,Independent,51,66.934,40,$33.47 ,2008\n",
    "Enchanted,Comedy,Disney,80,4.005737082,93,$340.49 ,2007\n",
    "Dear John,Drama,Sony,66,4.5988,29,$114.97 ,2010\n",
    "Beginners,Comedy,Independent,80,4.471875,84,$14.31 ,2011\n",
    "Across the Universe,romance,Independent,84,0.652603178,54,$29.37 ,2007\n",
    "A Serious Man,Drama,Universal,64,4.382857143,89,$30.68 ,2009\n",
    "A Dangerous Method,Drama,Independent,89,0.44864475,79,$8.97 ,2011\n",
    "27 Dresses,Comedy,Fox,71,5.3436218,40,$160.31 ,2008\n",
    "(500) Days of Summer,comedy,Fox,81,8.096,87,$60.72 ,2009\""
   ]
  },
  {
   "cell_type": "code",
   "execution_count": 96,
   "metadata": {},
   "outputs": [
    {
     "output_type": "execute_result",
     "data": {
      "text/plain": [
       "array([[           nan,            nan,            nan, 7.00000000e+01,\n",
       "        1.74754167e+00, 6.40000000e+01,            nan, 2.00800000e+03],\n",
       "       [           nan,            nan,            nan, 5.20000000e+01,\n",
       "        1.09000000e+00, 6.80000000e+01,            nan, 2.01000000e+03],\n",
       "       [           nan,            nan,            nan, 3.50000000e+01,\n",
       "        1.21181818e+00, 4.30000000e+01,            nan, 2.01000000e+03],\n",
       "       [           nan,            nan,            nan, 4.40000000e+01,\n",
       "        0.00000000e+00, 1.50000000e+01,            nan, 2.01000000e+03],\n",
       "       [           nan,            nan,            nan, 7.20000000e+01,\n",
       "        6.26764703e+00, 2.80000000e+01,            nan, 2.00800000e+03],\n",
       "       [           nan,            nan,            nan, 7.20000000e+01,\n",
       "        3.08142105e+00, 6.00000000e+01,            nan, 2.01100000e+03],\n",
       "       [           nan,            nan,            nan, 8.90000000e+01,\n",
       "        2.89601907e+00, 9.60000000e+01,            nan, 2.00800000e+03],\n",
       "       [           nan,            nan,            nan, 6.70000000e+01,\n",
       "        1.10897415e+01, 8.90000000e+01,            nan, 2.00700000e+03],\n",
       "       [           nan,            nan,            nan, 5.30000000e+01,\n",
       "        5.00000000e-03, 6.00000000e+00,            nan, 2.01100000e+03],\n",
       "       [           nan,            nan,            nan, 5.40000000e+01,\n",
       "        4.18403846e+00, 1.70000000e+01,            nan, 2.01000000e+03],\n",
       "       [           nan,            nan,            nan, 4.70000000e+01,\n",
       "        3.72419240e+00, 4.60000000e+01,            nan, 2.00700000e+03],\n",
       "       [           nan,            nan,            nan, 6.80000000e+01,\n",
       "        6.38336364e+00, 2.60000000e+01,            nan, 2.01100000e+03],\n",
       "       [           nan,            nan,            nan, 8.20000000e+01,\n",
       "        1.01800270e+01, 4.90000000e+01,            nan, 2.00800000e+03],\n",
       "       [           nan,            nan,            nan, 6.80000000e+01,\n",
       "        5.40263158e+00, 1.40000000e+01,            nan, 2.00900000e+03],\n",
       "       [           nan,            nan,            nan, 7.80000000e+01,\n",
       "        1.41964000e+01, 2.70000000e+01,            nan, 2.00900000e+03],\n",
       "       [           nan,            nan,            nan, 6.50000000e+01,\n",
       "        2.59820513e+00, 3.80000000e+01,            nan, 2.00900000e+03],\n",
       "       [           nan,            nan,            nan, 7.40000000e+01,\n",
       "        7.86750000e+00, 4.30000000e+01,            nan, 2.00900000e+03],\n",
       "       [           nan,            nan,            nan, 4.70000000e+01,\n",
       "        1.75135135e+00, 5.60000000e+01,            nan, 2.00900000e+03],\n",
       "       [           nan,            nan,            nan, 4.10000000e+01,\n",
       "        2.12944417e+00, 3.00000000e+01,            nan, 2.00700000e+03],\n",
       "       [           nan,            nan,            nan, 6.80000000e+01,\n",
       "        3.20785022e+00, 6.00000000e+01,            nan, 2.00800000e+03],\n",
       "       [           nan,            nan,            nan, 8.10000000e+01,\n",
       "        1.78394375e+00, 7.30000000e+01,            nan, 2.00800000e+03],\n",
       "       [           nan,            nan,            nan, 4.70000000e+01,\n",
       "        2.20257143e+00, 2.00000000e+01,            nan, 2.01000000e+03],\n",
       "       [           nan,            nan,            nan, 8.80000000e+01,\n",
       "        1.36569231e+00, 8.90000000e+01,            nan, 2.01000000e+03],\n",
       "       [           nan,            nan,            nan, 4.80000000e+01,\n",
       "        1.71951429e+00, 1.50000000e+01,            nan, 2.01100000e+03],\n",
       "       [           nan,            nan,            nan, 6.00000000e+01,\n",
       "        2.44050000e+00, 5.70000000e+01,            nan, 2.01000000e+03],\n",
       "       [           nan,            nan,            nan, 4.90000000e+01,\n",
       "        2.88350000e+00, 1.50000000e+01,            nan, 2.01000000e+03],\n",
       "       [           nan,            nan,            nan, 4.90000000e+01,\n",
       "        2.88350000e+00, 1.50000000e+01,            nan, 2.01000000e+03],\n",
       "       [           nan,            nan,            nan, 8.10000000e+01,\n",
       "        7.22179579e+00, 4.90000000e+01,            nan, 2.00800000e+03],\n",
       "       [           nan,            nan,            nan, 7.00000000e+01,\n",
       "        3.49125000e+00, 2.80000000e+01,            nan, 2.01000000e+03],\n",
       "       [           nan,            nan,            nan, 6.10000000e+01,\n",
       "        1.38416667e+00, 8.50000000e+01,            nan, 2.00800000e+03],\n",
       "       [           nan,            nan,            nan, 7.40000000e+01,\n",
       "        1.38279973e+00, 5.20000000e+01,            nan, 2.00800000e+03],\n",
       "       [           nan,            nan,            nan, 8.20000000e+01,\n",
       "        5.10311683e+00, 2.10000000e+01,            nan, 2.00700000e+03],\n",
       "       [           nan,            nan,            nan, 4.70000000e+01,\n",
       "        2.07100000e+00, 1.50000000e+01,            nan, 2.00800000e+03],\n",
       "       [           nan,            nan,            nan, 4.90000000e+01,\n",
       "        0.00000000e+00, 1.40000000e+01,            nan, 2.01000000e+03],\n",
       "       [           nan,            nan,            nan, 5.40000000e+01,\n",
       "        3.68273333e+00, 3.70000000e+01,            nan, 2.01100000e+03],\n",
       "       [           nan,            nan,            nan, 6.60000000e+01,\n",
       "        2.14000000e+00, 3.40000000e+01,            nan, 2.00900000e+03],\n",
       "       [           nan,            nan,            nan, 6.40000000e+01,\n",
       "        3.30718036e+00, 3.90000000e+01,            nan, 2.00700000e+03],\n",
       "       [           nan,            nan,            nan, 6.70000000e+01,\n",
       "        3.35272930e+00, 7.30000000e+01,            nan, 2.00800000e+03],\n",
       "       [           nan,            nan,            nan, 4.80000000e+01,\n",
       "        2.53642857e+00, 8.00000000e+00,            nan, 2.01100000e+03],\n",
       "       [           nan,            nan,            nan, 8.40000000e+01,\n",
       "        8.25800000e-01, 8.30000000e+01,            nan, 2.01100000e+03],\n",
       "       [           nan,            nan,            nan, 7.00000000e+01,\n",
       "        3.64741055e+00, 6.30000000e+01,            nan, 2.00700000e+03],\n",
       "       [           nan,            nan,            nan, 5.00000000e+01,\n",
       "        1.98320000e+00, 3.80000000e+01,            nan, 2.01100000e+03],\n",
       "       [           nan,            nan,            nan, 7.00000000e+01,\n",
       "        2.52894900e-01, 7.80000000e+01,            nan, 2.00800000e+03],\n",
       "       [           nan,            nan,            nan, 8.40000000e+01,\n",
       "        8.74470588e+00, 9.30000000e+01,            nan, 2.01100000e+03],\n",
       "       [           nan,            nan,            nan, 7.70000000e+01,\n",
       "        3.74678182e+00, 6.30000000e+01,            nan, 2.00800000e+03],\n",
       "       [           nan,            nan,            nan, 7.60000000e+01,\n",
       "        9.23445386e+00, 5.30000000e+01,            nan, 2.00800000e+03],\n",
       "       [           nan,            nan,            nan, 7.60000000e+01,\n",
       "        9.23445386e+00, 5.30000000e+01,            nan, 2.00800000e+03],\n",
       "       [           nan,            nan,            nan, 6.10000000e+01,\n",
       "        2.64906835e+00, 1.30000000e+01,            nan, 2.00800000e+03],\n",
       "       [           nan,            nan,            nan, 4.00000000e+01,\n",
       "        2.00444444e+00, 1.80000000e+01,            nan, 2.00900000e+03],\n",
       "       [           nan,            nan,            nan, 5.50000000e+01,\n",
       "        1.81766667e+00, 4.80000000e+01,            nan, 2.01000000e+03],\n",
       "       [           nan,            nan,            nan, 6.20000000e+01,\n",
       "        2.53052632e+00, 2.80000000e+01,            nan, 2.01000000e+03],\n",
       "       [           nan,            nan,            nan, 5.50000000e+01,\n",
       "        1.98020640e+00, 8.00000000e+00,            nan, 2.00700000e+03],\n",
       "       [           nan,            nan,            nan, 6.20000000e+01,\n",
       "        2.63933333e+00, 4.00000000e+01,            nan, 2.01000000e+03],\n",
       "       [           nan,            nan,            nan, 4.90000000e+01,\n",
       "        1.71526316e+00, 2.10000000e+01,            nan, 2.01000000e+03],\n",
       "       [           nan,            nan,            nan, 8.30000000e+01,\n",
       "        6.63640185e+00, 9.10000000e+01,            nan, 2.00700000e+03],\n",
       "       [           nan,            nan,            nan, 4.50000000e+01,\n",
       "        1.24533333e+00, 1.10000000e+01,            nan, 2.01000000e+03],\n",
       "       [           nan,            nan,            nan, 5.80000000e+01,\n",
       "        1.79741667e+00, 4.50000000e+01,            nan, 2.01000000e+03],\n",
       "       [           nan,            nan,            nan, 7.70000000e+01,\n",
       "        0.00000000e+00, 8.50000000e+01,            nan, 2.01100000e+03],\n",
       "       [           nan,            nan,            nan, 6.30000000e+01,\n",
       "        2.64235294e+00, 5.60000000e+01,            nan, 2.00900000e+03],\n",
       "       [           nan,            nan,            nan, 5.70000000e+01,\n",
       "        1.34000000e+00, 7.10000000e+01,            nan, 2.01000000e+03],\n",
       "       [           nan,            nan,            nan, 7.60000000e+01,\n",
       "        2.29131365e+01, 6.50000000e+01,            nan, 2.00800000e+03],\n",
       "       [           nan,            nan,            nan, 6.00000000e+01,\n",
       "        7.15360000e+00, 4.20000000e+01,            nan, 2.00900000e+03],\n",
       "       [           nan,            nan,            nan, 6.10000000e+01,\n",
       "        2.36768512e+00, 3.00000000e+00,            nan, 2.00700000e+03],\n",
       "       [           nan,            nan,            nan, 5.60000000e+01,\n",
       "        1.31406250e+00, 5.30000000e+01,            nan, 2.01000000e+03],\n",
       "       [           nan,            nan,            nan, 5.20000000e+01,\n",
       "        5.38797222e+00, 5.60000000e+01,            nan, 2.01100000e+03],\n",
       "       [           nan,            nan,            nan, 5.20000000e+01,\n",
       "        5.38797222e+00, 5.60000000e+01,            nan, 2.01100000e+03],\n",
       "       [           nan,            nan,            nan, 4.70000000e+01,\n",
       "        2.04440000e+00, 2.70000000e+01,            nan, 2.00900000e+03],\n",
       "       [           nan,            nan,            nan, 5.20000000e+01,\n",
       "        2.02292500e+00, 2.60000000e+01,            nan, 2.00800000e+03],\n",
       "       [           nan,            nan,            nan, 5.10000000e+01,\n",
       "        6.69340000e+01, 4.00000000e+01,            nan, 2.00800000e+03],\n",
       "       [           nan,            nan,            nan, 8.00000000e+01,\n",
       "        4.00573708e+00, 9.30000000e+01,            nan, 2.00700000e+03],\n",
       "       [           nan,            nan,            nan, 6.60000000e+01,\n",
       "        4.59880000e+00, 2.90000000e+01,            nan, 2.01000000e+03],\n",
       "       [           nan,            nan,            nan, 8.00000000e+01,\n",
       "        4.47187500e+00, 8.40000000e+01,            nan, 2.01100000e+03],\n",
       "       [           nan,            nan,            nan, 8.40000000e+01,\n",
       "        6.52603178e-01, 5.40000000e+01,            nan, 2.00700000e+03],\n",
       "       [           nan,            nan,            nan, 6.40000000e+01,\n",
       "        4.38285714e+00, 8.90000000e+01,            nan, 2.00900000e+03],\n",
       "       [           nan,            nan,            nan, 8.90000000e+01,\n",
       "        4.48644750e-01, 7.90000000e+01,            nan, 2.01100000e+03],\n",
       "       [           nan,            nan,            nan, 7.10000000e+01,\n",
       "        5.34362180e+00, 4.00000000e+01,            nan, 2.00800000e+03],\n",
       "       [           nan,            nan,            nan, 8.10000000e+01,\n",
       "        8.09600000e+00, 8.70000000e+01,            nan, 2.00900000e+03]])"
      ]
     },
     "metadata": {},
     "execution_count": 96
    }
   ],
   "source": [
    "np.genfromtxt('movies.csv.txt', delimiter=',', skip_header=True)"
   ]
  },
  {
   "cell_type": "code",
   "execution_count": 97,
   "metadata": {},
   "outputs": [],
   "source": [
    "import pandas as pd"
   ]
  },
  {
   "cell_type": "code",
   "execution_count": 100,
   "metadata": {},
   "outputs": [],
   "source": [
    "movies = pd.read_csv('movies.csv.txt')"
   ]
  },
  {
   "cell_type": "code",
   "execution_count": 101,
   "metadata": {},
   "outputs": [
    {
     "output_type": "execute_result",
     "data": {
      "text/plain": [
       "pandas.core.frame.DataFrame"
      ]
     },
     "metadata": {},
     "execution_count": 101
    }
   ],
   "source": [
    "type(movies)"
   ]
  },
  {
   "cell_type": "code",
   "execution_count": 102,
   "metadata": {},
   "outputs": [
    {
     "output_type": "error",
     "ename": "NameError",
     "evalue": "name 'describe' is not defined",
     "traceback": [
      "\u001b[1;31m---------------------------------------------------------------------------\u001b[0m",
      "\u001b[1;31mNameError\u001b[0m                                 Traceback (most recent call last)",
      "\u001b[1;32m<ipython-input-102-0065dd69cee2>\u001b[0m in \u001b[0;36m<module>\u001b[1;34m\u001b[0m\n\u001b[1;32m----> 1\u001b[1;33m \u001b[0mdescribe\u001b[0m\u001b[1;33m(\u001b[0m\u001b[0mmovies\u001b[0m\u001b[1;33m)\u001b[0m\u001b[1;33m\u001b[0m\u001b[1;33m\u001b[0m\u001b[0m\n\u001b[0m",
      "\u001b[1;31mNameError\u001b[0m: name 'describe' is not defined"
     ]
    }
   ],
   "source": [
    "describe(movies)"
   ]
  },
  {
   "cell_type": "code",
   "execution_count": 103,
   "metadata": {},
   "outputs": [
    {
     "output_type": "error",
     "ename": "KeyError",
     "evalue": "2",
     "traceback": [
      "\u001b[1;31m---------------------------------------------------------------------------\u001b[0m",
      "\u001b[1;31mKeyError\u001b[0m                                  Traceback (most recent call last)",
      "\u001b[1;32m~\\anaconda3\\lib\\site-packages\\pandas\\core\\indexes\\base.py\u001b[0m in \u001b[0;36mget_loc\u001b[1;34m(self, key, method, tolerance)\u001b[0m\n\u001b[0;32m   2894\u001b[0m             \u001b[1;32mtry\u001b[0m\u001b[1;33m:\u001b[0m\u001b[1;33m\u001b[0m\u001b[1;33m\u001b[0m\u001b[0m\n\u001b[1;32m-> 2895\u001b[1;33m                 \u001b[1;32mreturn\u001b[0m \u001b[0mself\u001b[0m\u001b[1;33m.\u001b[0m\u001b[0m_engine\u001b[0m\u001b[1;33m.\u001b[0m\u001b[0mget_loc\u001b[0m\u001b[1;33m(\u001b[0m\u001b[0mcasted_key\u001b[0m\u001b[1;33m)\u001b[0m\u001b[1;33m\u001b[0m\u001b[1;33m\u001b[0m\u001b[0m\n\u001b[0m\u001b[0;32m   2896\u001b[0m             \u001b[1;32mexcept\u001b[0m \u001b[0mKeyError\u001b[0m \u001b[1;32mas\u001b[0m \u001b[0merr\u001b[0m\u001b[1;33m:\u001b[0m\u001b[1;33m\u001b[0m\u001b[1;33m\u001b[0m\u001b[0m\n",
      "\u001b[1;32mpandas\\_libs\\index.pyx\u001b[0m in \u001b[0;36mpandas._libs.index.IndexEngine.get_loc\u001b[1;34m()\u001b[0m\n",
      "\u001b[1;32mpandas\\_libs\\index.pyx\u001b[0m in \u001b[0;36mpandas._libs.index.IndexEngine.get_loc\u001b[1;34m()\u001b[0m\n",
      "\u001b[1;32mpandas\\_libs\\hashtable_class_helper.pxi\u001b[0m in \u001b[0;36mpandas._libs.hashtable.PyObjectHashTable.get_item\u001b[1;34m()\u001b[0m\n",
      "\u001b[1;32mpandas\\_libs\\hashtable_class_helper.pxi\u001b[0m in \u001b[0;36mpandas._libs.hashtable.PyObjectHashTable.get_item\u001b[1;34m()\u001b[0m\n",
      "\u001b[1;31mKeyError\u001b[0m: 2",
      "\nThe above exception was the direct cause of the following exception:\n",
      "\u001b[1;31mKeyError\u001b[0m                                  Traceback (most recent call last)",
      "\u001b[1;32m<ipython-input-103-68d52065431c>\u001b[0m in \u001b[0;36m<module>\u001b[1;34m\u001b[0m\n\u001b[1;32m----> 1\u001b[1;33m \u001b[0mtype\u001b[0m\u001b[1;33m(\u001b[0m\u001b[0mmovies\u001b[0m\u001b[1;33m[\u001b[0m\u001b[1;36m2\u001b[0m\u001b[1;33m]\u001b[0m\u001b[1;33m)\u001b[0m\u001b[1;33m\u001b[0m\u001b[1;33m\u001b[0m\u001b[0m\n\u001b[0m",
      "\u001b[1;32m~\\anaconda3\\lib\\site-packages\\pandas\\core\\frame.py\u001b[0m in \u001b[0;36m__getitem__\u001b[1;34m(self, key)\u001b[0m\n\u001b[0;32m   2900\u001b[0m             \u001b[1;32mif\u001b[0m \u001b[0mself\u001b[0m\u001b[1;33m.\u001b[0m\u001b[0mcolumns\u001b[0m\u001b[1;33m.\u001b[0m\u001b[0mnlevels\u001b[0m \u001b[1;33m>\u001b[0m \u001b[1;36m1\u001b[0m\u001b[1;33m:\u001b[0m\u001b[1;33m\u001b[0m\u001b[1;33m\u001b[0m\u001b[0m\n\u001b[0;32m   2901\u001b[0m                 \u001b[1;32mreturn\u001b[0m \u001b[0mself\u001b[0m\u001b[1;33m.\u001b[0m\u001b[0m_getitem_multilevel\u001b[0m\u001b[1;33m(\u001b[0m\u001b[0mkey\u001b[0m\u001b[1;33m)\u001b[0m\u001b[1;33m\u001b[0m\u001b[1;33m\u001b[0m\u001b[0m\n\u001b[1;32m-> 2902\u001b[1;33m             \u001b[0mindexer\u001b[0m \u001b[1;33m=\u001b[0m \u001b[0mself\u001b[0m\u001b[1;33m.\u001b[0m\u001b[0mcolumns\u001b[0m\u001b[1;33m.\u001b[0m\u001b[0mget_loc\u001b[0m\u001b[1;33m(\u001b[0m\u001b[0mkey\u001b[0m\u001b[1;33m)\u001b[0m\u001b[1;33m\u001b[0m\u001b[1;33m\u001b[0m\u001b[0m\n\u001b[0m\u001b[0;32m   2903\u001b[0m             \u001b[1;32mif\u001b[0m \u001b[0mis_integer\u001b[0m\u001b[1;33m(\u001b[0m\u001b[0mindexer\u001b[0m\u001b[1;33m)\u001b[0m\u001b[1;33m:\u001b[0m\u001b[1;33m\u001b[0m\u001b[1;33m\u001b[0m\u001b[0m\n\u001b[0;32m   2904\u001b[0m                 \u001b[0mindexer\u001b[0m \u001b[1;33m=\u001b[0m \u001b[1;33m[\u001b[0m\u001b[0mindexer\u001b[0m\u001b[1;33m]\u001b[0m\u001b[1;33m\u001b[0m\u001b[1;33m\u001b[0m\u001b[0m\n",
      "\u001b[1;32m~\\anaconda3\\lib\\site-packages\\pandas\\core\\indexes\\base.py\u001b[0m in \u001b[0;36mget_loc\u001b[1;34m(self, key, method, tolerance)\u001b[0m\n\u001b[0;32m   2895\u001b[0m                 \u001b[1;32mreturn\u001b[0m \u001b[0mself\u001b[0m\u001b[1;33m.\u001b[0m\u001b[0m_engine\u001b[0m\u001b[1;33m.\u001b[0m\u001b[0mget_loc\u001b[0m\u001b[1;33m(\u001b[0m\u001b[0mcasted_key\u001b[0m\u001b[1;33m)\u001b[0m\u001b[1;33m\u001b[0m\u001b[1;33m\u001b[0m\u001b[0m\n\u001b[0;32m   2896\u001b[0m             \u001b[1;32mexcept\u001b[0m \u001b[0mKeyError\u001b[0m \u001b[1;32mas\u001b[0m \u001b[0merr\u001b[0m\u001b[1;33m:\u001b[0m\u001b[1;33m\u001b[0m\u001b[1;33m\u001b[0m\u001b[0m\n\u001b[1;32m-> 2897\u001b[1;33m                 \u001b[1;32mraise\u001b[0m \u001b[0mKeyError\u001b[0m\u001b[1;33m(\u001b[0m\u001b[0mkey\u001b[0m\u001b[1;33m)\u001b[0m \u001b[1;32mfrom\u001b[0m \u001b[0merr\u001b[0m\u001b[1;33m\u001b[0m\u001b[1;33m\u001b[0m\u001b[0m\n\u001b[0m\u001b[0;32m   2898\u001b[0m \u001b[1;33m\u001b[0m\u001b[0m\n\u001b[0;32m   2899\u001b[0m         \u001b[1;32mif\u001b[0m \u001b[0mtolerance\u001b[0m \u001b[1;32mis\u001b[0m \u001b[1;32mnot\u001b[0m \u001b[1;32mNone\u001b[0m\u001b[1;33m:\u001b[0m\u001b[1;33m\u001b[0m\u001b[1;33m\u001b[0m\u001b[0m\n",
      "\u001b[1;31mKeyError\u001b[0m: 2"
     ]
    }
   ],
   "source": [
    "type(movies[2])"
   ]
  },
  {
   "cell_type": "code",
   "execution_count": null,
   "metadata": {},
   "outputs": [],
   "source": []
  }
 ]
}