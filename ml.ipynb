{
 "metadata": {
  "language_info": {
   "codemirror_mode": {
    "name": "ipython",
    "version": 3
   },
   "file_extension": ".py",
   "mimetype": "text/x-python",
   "name": "python",
   "nbconvert_exporter": "python",
   "pygments_lexer": "ipython3",
   "version": "3.8.5-final"
  },
  "orig_nbformat": 2,
  "kernelspec": {
   "name": "python3",
   "display_name": "Python 3",
   "language": "python"
  }
 },
 "nbformat": 4,
 "nbformat_minor": 2,
 "cells": [
  {
   "cell_type": "code",
   "execution_count": 1,
   "metadata": {},
   "outputs": [
    {
     "output_type": "stream",
     "name": "stdout",
     "text": [
      "Counter({'white': 3450, 'red': 1097}) Counter({'white': 1448, 'red': 502})\nFeatures: ['fixed acidity', 'volatile acidity', 'citric acid', 'residual sugar', 'chlorides', 'free sulfur dioxide', 'total sulfur dioxide', 'density', 'pH', 'sulphates', 'alcohol']\n              precision    recall  f1-score   support\n\n         red       0.98      0.98      0.98       502\n       white       0.99      0.99      0.99      1448\n\n    accuracy                           0.99      1950\n   macro avg       0.98      0.98      0.98      1950\nweighted avg       0.99      0.99      0.99      1950\n\n"
     ]
    }
   ],
   "source": [
    "import numpy as np\n",
    "import pandas as pd\n",
    "\n",
    "import matplotlib.pyplot as plt\n",
    "import seaborn as sns\n",
    "#import model_evaluation_utils as meu\n",
    "from sklearn.model_selection import train_test_split\n",
    "from collections import Counter\n",
    "from sklearn.preprocessing import StandardScaler\n",
    "from sklearn.preprocessing import LabelEncoder\n",
    "from sklearn.linear_model import LogisticRegression\n",
    "from sklearn.metrics import classification_report\n",
    "from scipy import stats\n",
    "\n",
    "red_wine = pd.read_csv('https://archive.ics.uci.edu/ml/machine-learning-databases/wine-quality/winequality-red.csv', sep = ';')\n",
    "white_wine = pd.read_csv('https://archive.ics.uci.edu/ml/machine-learning-databases/wine-quality/winequality-white.csv', sep = ';')\n",
    "\n",
    "# create a new variable 'wine_type'\n",
    "red_wine['wine_type'] = 'red'\n",
    "white_wine['wine_type'] = 'white'\n",
    "\n",
    "# bucket wine quality scores into qualitative quality labels\n",
    "red_wine['quality_label'] = red_wine['quality'].apply(lambda value: 'low'\n",
    "if value <= 5 else 'medium'\n",
    "if value <= 7 else 'high')\n",
    "\n",
    "red_wine['quality_label'] = pd.Categorical(red_wine['quality_label'],\n",
    "categories=['low', 'medium', 'high'])\n",
    "\n",
    "white_wine['quality_label'] = white_wine['quality'].apply(lambda value: 'low'\n",
    "if value <= 5 else 'medium'\n",
    "if value <= 7 else 'high')\n",
    "\n",
    "white_wine['quality_label'] = pd.Categorical(white_wine['quality_label'],\n",
    "categories=['low', 'medium', 'high'])\n",
    "\n",
    "wines = pd.concat([red_wine, white_wine])\n",
    "\n",
    "wtp_features = wines.iloc[:,:-3]\n",
    "wtp_feature_names = wtp_features.columns\n",
    "wtp_class_labels = np.array(wines['wine_type'])\n",
    "\n",
    "wtp_train_X, wtp_test_X, wtp_train_y, wtp_test_y = train_test_split(wtp_features,\n",
    "wtp_class_labels, test_size=0.3, random_state=42)\n",
    "\n",
    "print(Counter(wtp_train_y), Counter(wtp_test_y))\n",
    "print('Features:', list(wtp_feature_names))\n",
    "#wines.head(2)\n",
    "# Define the scaler\n",
    "wtp_ss = StandardScaler().fit(wtp_train_X)\n",
    "# Scale the train set\n",
    "wtp_train_SX = wtp_ss.transform(wtp_train_X)\n",
    "# Scale the test set\n",
    "wtp_test_SX = wtp_ss.transform(wtp_test_X)\n",
    "\n",
    "wtp_lr = LogisticRegression()\n",
    "wtp_lr.fit(wtp_train_SX, wtp_train_y)\n",
    "\n",
    "LogisticRegression(C=1.0, class_weight=None, dual=False, fit_intercept=True,\n",
    "intercept_scaling=1, max_iter=100, multi_class='ovr', n_jobs=1,\n",
    "penalty='l2', random_state=None, solver='liblinear', tol=0.0001,\n",
    "verbose=0, warm_start=False)\n",
    "\n",
    "wtp_lr_predictions = wtp_lr.predict(wtp_test_SX)\n",
    "\n",
    "print(classification_report(wtp_test_y,wtp_lr_predictions, target_names=['red', 'white']))\n",
    "\n"
   ]
  },
  {
   "cell_type": "code",
   "execution_count": null,
   "metadata": {},
   "outputs": [],
   "source": []
  }
 ]
}